{
 "cells": [
  {
   "cell_type": "code",
   "execution_count": null,
   "metadata": {},
   "outputs": [],
   "source": [
    "## download processed data:\n",
    "#1, downlaod data from: GSE202500\n",
    "#2, download data from: http://169.228.232.194/~mmallick/o/SCislet.tar.gz"
   ]
  },
  {
   "cell_type": "code",
   "execution_count": 7,
   "metadata": {},
   "outputs": [],
   "source": [
    "library(ggplot2)\n",
    "library(RColorBrewer)\n",
    "library(sm)\n",
    "library(MASS)"
   ]
  },
  {
   "cell_type": "markdown",
   "metadata": {},
   "source": [
    "# Correaltion analysis"
   ]
  },
  {
   "cell_type": "code",
   "execution_count": 1,
   "metadata": {},
   "outputs": [
    {
     "data": {
      "text/html": [
       "<table>\n",
       "<thead><tr><th></th><th scope=col>alpha_A</th><th scope=col>alpha_D21</th><th scope=col>alpha_D3239</th><th scope=col>alpha_J</th><th scope=col>beta_A</th><th scope=col>beta_D21</th><th scope=col>beta_D3239</th><th scope=col>beta_J</th><th scope=col>delta_A</th><th scope=col>delta_D21</th><th scope=col>delta_D3239</th><th scope=col>delta_J</th><th scope=col>EC_D21</th><th scope=col>EC_D3239</th><th scope=col>ENP3_D21</th><th scope=col>ENP3_D3239</th></tr></thead>\n",
       "<tbody>\n",
       "\t<tr><th scope=row>1:100000016-100000516</th><td>33 </td><td>25 </td><td> 9 </td><td> 2 </td><td> 69</td><td> 13</td><td> 7 </td><td> 7 </td><td> 8 </td><td>2  </td><td>2  </td><td>3  </td><td>16 </td><td>11 </td><td>17 </td><td> 4 </td></tr>\n",
       "\t<tr><th scope=row>1:100009954-100010454</th><td>97 </td><td> 4 </td><td>27 </td><td>11 </td><td>623</td><td> 31</td><td>47 </td><td>50 </td><td>28 </td><td>2  </td><td>3  </td><td>4  </td><td>15 </td><td>43 </td><td> 8 </td><td>13 </td></tr>\n",
       "\t<tr><th scope=row>1:100014450-100014950</th><td>72 </td><td>25 </td><td>33 </td><td>11 </td><td>409</td><td>129</td><td>52 </td><td>78 </td><td>18 </td><td>5  </td><td>3  </td><td>3  </td><td>62 </td><td>29 </td><td>29 </td><td>15 </td></tr>\n",
       "</tbody>\n",
       "</table>\n"
      ],
      "text/latex": [
       "\\begin{tabular}{r|llllllllllllllll}\n",
       "  & alpha\\_A & alpha\\_D21 & alpha\\_D3239 & alpha\\_J & beta\\_A & beta\\_D21 & beta\\_D3239 & beta\\_J & delta\\_A & delta\\_D21 & delta\\_D3239 & delta\\_J & EC\\_D21 & EC\\_D3239 & ENP3\\_D21 & ENP3\\_D3239\\\\\n",
       "\\hline\n",
       "\t1:100000016-100000516 & 33  & 25  &  9  &  2  &  69 &  13 &  7  &  7  &  8  & 2   & 2   & 3   & 16  & 11  & 17  &  4 \\\\\n",
       "\t1:100009954-100010454 & 97  &  4  & 27  & 11  & 623 &  31 & 47  & 50  & 28  & 2   & 3   & 4   & 15  & 43  &  8  & 13 \\\\\n",
       "\t1:100014450-100014950 & 72  & 25  & 33  & 11  & 409 & 129 & 52  & 78  & 18  & 5   & 3   & 3   & 62  & 29  & 29  & 15 \\\\\n",
       "\\end{tabular}\n"
      ],
      "text/markdown": [
       "\n",
       "| <!--/--> | alpha_A | alpha_D21 | alpha_D3239 | alpha_J | beta_A | beta_D21 | beta_D3239 | beta_J | delta_A | delta_D21 | delta_D3239 | delta_J | EC_D21 | EC_D3239 | ENP3_D21 | ENP3_D3239 |\n",
       "|---|---|---|---|---|---|---|---|---|---|---|---|---|---|---|---|---|\n",
       "| 1:100000016-100000516 | 33  | 25  |  9  |  2  |  69 |  13 |  7  |  7  |  8  | 2   | 2   | 3   | 16  | 11  | 17  |  4  |\n",
       "| 1:100009954-100010454 | 97  |  4  | 27  | 11  | 623 |  31 | 47  | 50  | 28  | 2   | 3   | 4   | 15  | 43  |  8  | 13  |\n",
       "| 1:100014450-100014950 | 72  | 25  | 33  | 11  | 409 | 129 | 52  | 78  | 18  | 5   | 3   | 3   | 62  | 29  | 29  | 15  |\n",
       "\n"
      ],
      "text/plain": [
       "                      alpha_A alpha_D21 alpha_D3239 alpha_J beta_A beta_D21\n",
       "1:100000016-100000516 33      25         9           2       69     13     \n",
       "1:100009954-100010454 97       4        27          11      623     31     \n",
       "1:100014450-100014950 72      25        33          11      409    129     \n",
       "                      beta_D3239 beta_J delta_A delta_D21 delta_D3239 delta_J\n",
       "1:100000016-100000516  7          7      8      2         2           3      \n",
       "1:100009954-100010454 47         50     28      2         3           4      \n",
       "1:100014450-100014950 52         78     18      5         3           3      \n",
       "                      EC_D21 EC_D3239 ENP3_D21 ENP3_D3239\n",
       "1:100000016-100000516 16     11       17        4        \n",
       "1:100009954-100010454 15     43        8       13        \n",
       "1:100014450-100014950 62     29       29       15        "
      ]
     },
     "metadata": {},
     "output_type": "display_data"
    }
   ],
   "source": [
    "A=read.csv('/oasis/tscc/scratch/gaw006/share/SCislet/primary_ATAC_matrix.csv')\n",
    "A1=as.matrix(A[,-1])\n",
    "rownames(A1)=as.character(A$X)\n",
    "A_data=A1[,c(1:3,6:7,9:10,13:14,16:17,19:23)]\n",
    "colnames(A_data)=c('alpha_A','beta_A','delta_A','EC_D21','EC_D3239','ENP3_D21','ENP3_D3239','alpha_D21','alpha_D3239','beta_D21','beta_D3239','delta_D21','delta_D3239','alpha_J','beta_J','delta_J')\n",
    "A_data=A_data[,order(colnames(A_data))]\n",
    "A_data[1:3,]"
   ]
  },
  {
   "cell_type": "code",
   "execution_count": 3,
   "metadata": {},
   "outputs": [
    {
     "data": {
      "text/html": [
       "<ol class=list-inline>\n",
       "\t<li>'alpha_A'</li>\n",
       "\t<li>'alpha_D21'</li>\n",
       "\t<li>'alpha_D3239'</li>\n",
       "\t<li>'alpha_J'</li>\n",
       "\t<li>'beta_A'</li>\n",
       "\t<li>'beta_D21'</li>\n",
       "\t<li>'beta_D3239'</li>\n",
       "\t<li>'beta_J'</li>\n",
       "\t<li>'delta_A'</li>\n",
       "\t<li>'delta_D21'</li>\n",
       "\t<li>'delta_D3239'</li>\n",
       "\t<li>'delta_J'</li>\n",
       "\t<li>'EC_D21'</li>\n",
       "\t<li>'EC_D3239'</li>\n",
       "\t<li>'ENP3_D21'</li>\n",
       "\t<li>'ENP3_D3239'</li>\n",
       "</ol>\n"
      ],
      "text/latex": [
       "\\begin{enumerate*}\n",
       "\\item 'alpha\\_A'\n",
       "\\item 'alpha\\_D21'\n",
       "\\item 'alpha\\_D3239'\n",
       "\\item 'alpha\\_J'\n",
       "\\item 'beta\\_A'\n",
       "\\item 'beta\\_D21'\n",
       "\\item 'beta\\_D3239'\n",
       "\\item 'beta\\_J'\n",
       "\\item 'delta\\_A'\n",
       "\\item 'delta\\_D21'\n",
       "\\item 'delta\\_D3239'\n",
       "\\item 'delta\\_J'\n",
       "\\item 'EC\\_D21'\n",
       "\\item 'EC\\_D3239'\n",
       "\\item 'ENP3\\_D21'\n",
       "\\item 'ENP3\\_D3239'\n",
       "\\end{enumerate*}\n"
      ],
      "text/markdown": [
       "1. 'alpha_A'\n",
       "2. 'alpha_D21'\n",
       "3. 'alpha_D3239'\n",
       "4. 'alpha_J'\n",
       "5. 'beta_A'\n",
       "6. 'beta_D21'\n",
       "7. 'beta_D3239'\n",
       "8. 'beta_J'\n",
       "9. 'delta_A'\n",
       "10. 'delta_D21'\n",
       "11. 'delta_D3239'\n",
       "12. 'delta_J'\n",
       "13. 'EC_D21'\n",
       "14. 'EC_D3239'\n",
       "15. 'ENP3_D21'\n",
       "16. 'ENP3_D3239'\n",
       "\n",
       "\n"
      ],
      "text/plain": [
       " [1] \"alpha_A\"     \"alpha_D21\"   \"alpha_D3239\" \"alpha_J\"     \"beta_A\"     \n",
       " [6] \"beta_D21\"    \"beta_D3239\"  \"beta_J\"      \"delta_A\"     \"delta_D21\"  \n",
       "[11] \"delta_D3239\" \"delta_J\"     \"EC_D21\"      \"EC_D3239\"    \"ENP3_D21\"   \n",
       "[16] \"ENP3_D3239\" "
      ]
     },
     "metadata": {},
     "output_type": "display_data"
    }
   ],
   "source": [
    "colnames(A_data)"
   ]
  },
  {
   "cell_type": "markdown",
   "metadata": {},
   "source": [
    "## RNA data"
   ]
  },
  {
   "cell_type": "code",
   "execution_count": 4,
   "metadata": {},
   "outputs": [
    {
     "data": {
      "text/html": [
       "<table>\n",
       "<thead><tr><th></th><th scope=col>alpha_A</th><th scope=col>alpha_D21</th><th scope=col>alpha_D3239</th><th scope=col>alpha_J</th><th scope=col>beta_A</th><th scope=col>beta_D21</th><th scope=col>beta_D3239</th><th scope=col>beta_J</th><th scope=col>delta_A</th><th scope=col>delta_D21</th><th scope=col>delta_D3239</th><th scope=col>delta_J</th><th scope=col>EC_D21</th><th scope=col>EC_D3239</th><th scope=col>ENP3_D21</th><th scope=col>ENP3_D3239</th></tr></thead>\n",
       "<tbody>\n",
       "\t<tr><th scope=row>5S_rRNA</th><td>0 </td><td>0 </td><td> 0</td><td>0 </td><td>0 </td><td> 0</td><td> 0</td><td>0 </td><td>0 </td><td>0 </td><td>0 </td><td>0 </td><td> 0</td><td> 0</td><td> 0</td><td>0 </td></tr>\n",
       "\t<tr><th scope=row>7SK</th><td>4 </td><td>2 </td><td>22</td><td>4 </td><td>8 </td><td>15</td><td>18</td><td>6 </td><td>4 </td><td>0 </td><td>1 </td><td>9 </td><td>94</td><td>33</td><td>24</td><td>5 </td></tr>\n",
       "\t<tr><th scope=row>7SK-1</th><td>0 </td><td>1 </td><td>10</td><td>1 </td><td>0 </td><td> 1</td><td> 5</td><td>1 </td><td>1 </td><td>0 </td><td>0 </td><td>0 </td><td> 2</td><td> 7</td><td> 1</td><td>5 </td></tr>\n",
       "</tbody>\n",
       "</table>\n"
      ],
      "text/latex": [
       "\\begin{tabular}{r|llllllllllllllll}\n",
       "  & alpha\\_A & alpha\\_D21 & alpha\\_D3239 & alpha\\_J & beta\\_A & beta\\_D21 & beta\\_D3239 & beta\\_J & delta\\_A & delta\\_D21 & delta\\_D3239 & delta\\_J & EC\\_D21 & EC\\_D3239 & ENP3\\_D21 & ENP3\\_D3239\\\\\n",
       "\\hline\n",
       "\t5S\\_rRNA & 0  & 0  &  0 & 0  & 0  &  0 &  0 & 0  & 0  & 0  & 0  & 0  &  0 &  0 &  0 & 0 \\\\\n",
       "\t7SK & 4  & 2  & 22 & 4  & 8  & 15 & 18 & 6  & 4  & 0  & 1  & 9  & 94 & 33 & 24 & 5 \\\\\n",
       "\t7SK-1 & 0  & 1  & 10 & 1  & 0  &  1 &  5 & 1  & 1  & 0  & 0  & 0  &  2 &  7 &  1 & 5 \\\\\n",
       "\\end{tabular}\n"
      ],
      "text/markdown": [
       "\n",
       "| <!--/--> | alpha_A | alpha_D21 | alpha_D3239 | alpha_J | beta_A | beta_D21 | beta_D3239 | beta_J | delta_A | delta_D21 | delta_D3239 | delta_J | EC_D21 | EC_D3239 | ENP3_D21 | ENP3_D3239 |\n",
       "|---|---|---|---|---|---|---|---|---|---|---|---|---|---|---|---|---|\n",
       "| 5S_rRNA | 0  | 0  |  0 | 0  | 0  |  0 |  0 | 0  | 0  | 0  | 0  | 0  |  0 |  0 |  0 | 0  |\n",
       "| 7SK | 4  | 2  | 22 | 4  | 8  | 15 | 18 | 6  | 4  | 0  | 1  | 9  | 94 | 33 | 24 | 5  |\n",
       "| 7SK-1 | 0  | 1  | 10 | 1  | 0  |  1 |  5 | 1  | 1  | 0  | 0  | 0  |  2 |  7 |  1 | 5  |\n",
       "\n"
      ],
      "text/plain": [
       "        alpha_A alpha_D21 alpha_D3239 alpha_J beta_A beta_D21 beta_D3239 beta_J\n",
       "5S_rRNA 0       0          0          0       0       0        0         0     \n",
       "7SK     4       2         22          4       8      15       18         6     \n",
       "7SK-1   0       1         10          1       0       1        5         1     \n",
       "        delta_A delta_D21 delta_D3239 delta_J EC_D21 EC_D3239 ENP3_D21\n",
       "5S_rRNA 0       0         0           0        0      0        0      \n",
       "7SK     4       0         1           9       94     33       24      \n",
       "7SK-1   1       0         0           0        2      7        1      \n",
       "        ENP3_D3239\n",
       "5S_rRNA 0         \n",
       "7SK     5         \n",
       "7SK-1   5         "
      ]
     },
     "metadata": {},
     "output_type": "display_data"
    }
   ],
   "source": [
    "R=read.csv('/oasis/tscc/scratch/gaw006/share/SCislet/primary_snRNA_matrix.csv')\n",
    "R1=as.matrix(R[,-1])\n",
    "rownames(R1)=as.character(R$X)\n",
    "R_data=R1[,c(1:16)]\n",
    "colnames(R_data)=c('ENP3_D21','EC_D21','alpha_D21','beta_D21','delta_D21','ENP3_D3239','EC_D3239','alpha_D3239','beta_D3239','delta_D3239','alpha_J','alpha_A','beta_J','beta_A','delta_J','delta_A')\n",
    "R_data=R_data[,order(colnames(R_data))]\n",
    "R_data[1:3,]"
   ]
  },
  {
   "cell_type": "code",
   "execution_count": 5,
   "metadata": {},
   "outputs": [
    {
     "data": {
      "text/html": [
       "TRUE"
      ],
      "text/latex": [
       "TRUE"
      ],
      "text/markdown": [
       "TRUE"
      ],
      "text/plain": [
       "[1] TRUE"
      ]
     },
     "metadata": {},
     "output_type": "display_data"
    }
   ],
   "source": [
    "all(colnames(A_data)==colnames(R_data))"
   ]
  },
  {
   "cell_type": "code",
   "execution_count": 6,
   "metadata": {},
   "outputs": [
    {
     "data": {
      "text/html": [
       "<table>\n",
       "<thead><tr><th></th><th scope=col>alpha_A</th><th scope=col>alpha_D21</th><th scope=col>alpha_D3239</th><th scope=col>alpha_J</th><th scope=col>beta_A</th><th scope=col>beta_D21</th><th scope=col>beta_D3239</th><th scope=col>beta_J</th><th scope=col>delta_A</th><th scope=col>delta_D21</th><th scope=col>delta_D3239</th><th scope=col>delta_J</th><th scope=col>EC_D21</th><th scope=col>EC_D3239</th><th scope=col>ENP3_D21</th><th scope=col>ENP3_D3239</th></tr></thead>\n",
       "<tbody>\n",
       "\t<tr><th scope=row>1:100000016-100000516</th><td>0.3387869 </td><td>0.8506794 </td><td>0.29215547</td><td>0.1645412 </td><td>0.3912921 </td><td>0.5079326 </td><td>0.4369613 </td><td>0.3180622 </td><td>0.3516962 </td><td>0.6713054 </td><td>0.9426372 </td><td>0.7198788 </td><td>0.4404588 </td><td>0.3543555 </td><td>0.8824142 </td><td>0.5138233 </td></tr>\n",
       "\t<tr><th scope=row>1:100009954-100010454</th><td>0.9958281 </td><td>0.1361087 </td><td>0.87646641</td><td>0.9049766 </td><td>3.5329703 </td><td>1.2112239 </td><td>2.9338829 </td><td>2.2718727 </td><td>1.2309366 </td><td>0.6713054 </td><td>1.4139558 </td><td>0.9598384 </td><td>0.4129301 </td><td>1.3852077 </td><td>0.4152537 </td><td>1.6699258 </td></tr>\n",
       "\t<tr><th scope=row>1:100014450-100014950</th><td>0.7391714 </td><td>0.8506794 </td><td>1.07123672</td><td>0.9049766 </td><td>2.3193979 </td><td>5.0402544 </td><td>3.2459981 </td><td>3.5441215 </td><td>0.7913164 </td><td>1.6782635 </td><td>1.4139558 </td><td>0.7198788 </td><td>1.7067778 </td><td>0.9342098 </td><td>1.5052948 </td><td>1.9268375 </td></tr>\n",
       "\t<tr><th scope=row>1:100019312-100019812</th><td>0.1539940 </td><td>0.1020815 </td><td>0.03246172</td><td>0.2468118 </td><td>0.2211651 </td><td>0.2344304 </td><td>0.4993843 </td><td>0.2271873 </td><td>0.1758481 </td><td>2.3495689 </td><td>0.9426372 </td><td>0.0000000 </td><td>0.6056308 </td><td>0.7731392 </td><td>0.4152537 </td><td>0.8991908 </td></tr>\n",
       "</tbody>\n",
       "</table>\n"
      ],
      "text/latex": [
       "\\begin{tabular}{r|llllllllllllllll}\n",
       "  & alpha\\_A & alpha\\_D21 & alpha\\_D3239 & alpha\\_J & beta\\_A & beta\\_D21 & beta\\_D3239 & beta\\_J & delta\\_A & delta\\_D21 & delta\\_D3239 & delta\\_J & EC\\_D21 & EC\\_D3239 & ENP3\\_D21 & ENP3\\_D3239\\\\\n",
       "\\hline\n",
       "\t1:100000016-100000516 & 0.3387869  & 0.8506794  & 0.29215547 & 0.1645412  & 0.3912921  & 0.5079326  & 0.4369613  & 0.3180622  & 0.3516962  & 0.6713054  & 0.9426372  & 0.7198788  & 0.4404588  & 0.3543555  & 0.8824142  & 0.5138233 \\\\\n",
       "\t1:100009954-100010454 & 0.9958281  & 0.1361087  & 0.87646641 & 0.9049766  & 3.5329703  & 1.2112239  & 2.9338829  & 2.2718727  & 1.2309366  & 0.6713054  & 1.4139558  & 0.9598384  & 0.4129301  & 1.3852077  & 0.4152537  & 1.6699258 \\\\\n",
       "\t1:100014450-100014950 & 0.7391714  & 0.8506794  & 1.07123672 & 0.9049766  & 2.3193979  & 5.0402544  & 3.2459981  & 3.5441215  & 0.7913164  & 1.6782635  & 1.4139558  & 0.7198788  & 1.7067778  & 0.9342098  & 1.5052948  & 1.9268375 \\\\\n",
       "\t1:100019312-100019812 & 0.1539940  & 0.1020815  & 0.03246172 & 0.2468118  & 0.2211651  & 0.2344304  & 0.4993843  & 0.2271873  & 0.1758481  & 2.3495689  & 0.9426372  & 0.0000000  & 0.6056308  & 0.7731392  & 0.4152537  & 0.8991908 \\\\\n",
       "\\end{tabular}\n"
      ],
      "text/markdown": [
       "\n",
       "| <!--/--> | alpha_A | alpha_D21 | alpha_D3239 | alpha_J | beta_A | beta_D21 | beta_D3239 | beta_J | delta_A | delta_D21 | delta_D3239 | delta_J | EC_D21 | EC_D3239 | ENP3_D21 | ENP3_D3239 |\n",
       "|---|---|---|---|---|---|---|---|---|---|---|---|---|---|---|---|---|\n",
       "| 1:100000016-100000516 | 0.3387869  | 0.8506794  | 0.29215547 | 0.1645412  | 0.3912921  | 0.5079326  | 0.4369613  | 0.3180622  | 0.3516962  | 0.6713054  | 0.9426372  | 0.7198788  | 0.4404588  | 0.3543555  | 0.8824142  | 0.5138233  |\n",
       "| 1:100009954-100010454 | 0.9958281  | 0.1361087  | 0.87646641 | 0.9049766  | 3.5329703  | 1.2112239  | 2.9338829  | 2.2718727  | 1.2309366  | 0.6713054  | 1.4139558  | 0.9598384  | 0.4129301  | 1.3852077  | 0.4152537  | 1.6699258  |\n",
       "| 1:100014450-100014950 | 0.7391714  | 0.8506794  | 1.07123672 | 0.9049766  | 2.3193979  | 5.0402544  | 3.2459981  | 3.5441215  | 0.7913164  | 1.6782635  | 1.4139558  | 0.7198788  | 1.7067778  | 0.9342098  | 1.5052948  | 1.9268375  |\n",
       "| 1:100019312-100019812 | 0.1539940  | 0.1020815  | 0.03246172 | 0.2468118  | 0.2211651  | 0.2344304  | 0.4993843  | 0.2271873  | 0.1758481  | 2.3495689  | 0.9426372  | 0.0000000  | 0.6056308  | 0.7731392  | 0.4152537  | 0.8991908  |\n",
       "\n"
      ],
      "text/plain": [
       "                      alpha_A   alpha_D21 alpha_D3239 alpha_J   beta_A   \n",
       "1:100000016-100000516 0.3387869 0.8506794 0.29215547  0.1645412 0.3912921\n",
       "1:100009954-100010454 0.9958281 0.1361087 0.87646641  0.9049766 3.5329703\n",
       "1:100014450-100014950 0.7391714 0.8506794 1.07123672  0.9049766 2.3193979\n",
       "1:100019312-100019812 0.1539940 0.1020815 0.03246172  0.2468118 0.2211651\n",
       "                      beta_D21  beta_D3239 beta_J    delta_A   delta_D21\n",
       "1:100000016-100000516 0.5079326 0.4369613  0.3180622 0.3516962 0.6713054\n",
       "1:100009954-100010454 1.2112239 2.9338829  2.2718727 1.2309366 0.6713054\n",
       "1:100014450-100014950 5.0402544 3.2459981  3.5441215 0.7913164 1.6782635\n",
       "1:100019312-100019812 0.2344304 0.4993843  0.2271873 0.1758481 2.3495689\n",
       "                      delta_D3239 delta_J   EC_D21    EC_D3239  ENP3_D21 \n",
       "1:100000016-100000516 0.9426372   0.7198788 0.4404588 0.3543555 0.8824142\n",
       "1:100009954-100010454 1.4139558   0.9598384 0.4129301 1.3852077 0.4152537\n",
       "1:100014450-100014950 1.4139558   0.7198788 1.7067778 0.9342098 1.5052948\n",
       "1:100019312-100019812 0.9426372   0.0000000 0.6056308 0.7731392 0.4152537\n",
       "                      ENP3_D3239\n",
       "1:100000016-100000516 0.5138233 \n",
       "1:100009954-100010454 1.6699258 \n",
       "1:100014450-100014950 1.9268375 \n",
       "1:100019312-100019812 0.8991908 "
      ]
     },
     "metadata": {},
     "output_type": "display_data"
    },
    {
     "data": {
      "text/html": [
       "<ol class=list-inline>\n",
       "\t<li>390682</li>\n",
       "\t<li>16</li>\n",
       "</ol>\n"
      ],
      "text/latex": [
       "\\begin{enumerate*}\n",
       "\\item 390682\n",
       "\\item 16\n",
       "\\end{enumerate*}\n"
      ],
      "text/markdown": [
       "1. 390682\n",
       "2. 16\n",
       "\n",
       "\n"
      ],
      "text/plain": [
       "[1] 390682     16"
      ]
     },
     "metadata": {},
     "output_type": "display_data"
    },
    {
     "data": {
      "text/html": [
       "<table>\n",
       "<thead><tr><th></th><th scope=col>alpha_A</th><th scope=col>alpha_D21</th><th scope=col>alpha_D3239</th><th scope=col>alpha_J</th><th scope=col>beta_A</th><th scope=col>beta_D21</th><th scope=col>beta_D3239</th><th scope=col>beta_J</th><th scope=col>delta_A</th><th scope=col>delta_D21</th><th scope=col>delta_D3239</th><th scope=col>delta_J</th><th scope=col>EC_D21</th><th scope=col>EC_D3239</th><th scope=col>ENP3_D21</th><th scope=col>ENP3_D3239</th></tr></thead>\n",
       "<tbody>\n",
       "\t<tr><th scope=row>5S_rRNA</th><td> 0.000000  </td><td> 0.0000000 </td><td> 0.0000000 </td><td> 0.0000000 </td><td> 0.000000  </td><td> 0.00000000</td><td> 0.0000000 </td><td>0.0000000  </td><td> 0.0000000 </td><td> 0.00000   </td><td> 0.000000  </td><td>0.000000   </td><td> 0.00000000</td><td> 0.0000000 </td><td> 0.0000000 </td><td> 0.0000000 </td></tr>\n",
       "\t<tr><th scope=row>7SK</th><td> 2.023998  </td><td> 0.3549769 </td><td> 0.4452561 </td><td> 1.6107203 </td><td> 2.111726  </td><td> 1.37331034</td><td> 0.6614643 </td><td>1.4142625  </td><td> 1.6107203 </td><td> 0.00000   </td><td> 0.492988  </td><td>7.708218   </td><td> 3.22075526</td><td> 1.0205370 </td><td> 5.0119075 </td><td> 0.2294101 </td></tr>\n",
       "\t<tr><th scope=row>7SK-1</th><td> 0.000000  </td><td> 0.1774885 </td><td> 0.2023891 </td><td> 0.4026801 </td><td> 0.000000  </td><td> 0.09155402</td><td> 0.1837401 </td><td>0.2357104  </td><td> 0.4026801 </td><td> 0.00000   </td><td> 0.000000  </td><td>0.000000   </td><td> 0.06852671</td><td> 0.2164775 </td><td> 0.2088295 </td><td> 0.2294101 </td></tr>\n",
       "\t<tr><th scope=row>7SK-2</th><td>13.661983  </td><td>74.3676663 </td><td>45.5577943 </td><td>11.2750422 </td><td>10.822597  </td><td>70.13038117</td><td>49.9038029 </td><td>9.6641268  </td><td>11.2750422 </td><td>79.16321   </td><td>59.651546  </td><td>9.421156   </td><td>61.36566670</td><td>74.5919754 </td><td>64.7371380 </td><td>55.7925259 </td></tr>\n",
       "</tbody>\n",
       "</table>\n"
      ],
      "text/latex": [
       "\\begin{tabular}{r|llllllllllllllll}\n",
       "  & alpha\\_A & alpha\\_D21 & alpha\\_D3239 & alpha\\_J & beta\\_A & beta\\_D21 & beta\\_D3239 & beta\\_J & delta\\_A & delta\\_D21 & delta\\_D3239 & delta\\_J & EC\\_D21 & EC\\_D3239 & ENP3\\_D21 & ENP3\\_D3239\\\\\n",
       "\\hline\n",
       "\t5S\\_rRNA &  0.000000   &  0.0000000  &  0.0000000  &  0.0000000  &  0.000000   &  0.00000000 &  0.0000000  & 0.0000000   &  0.0000000  &  0.00000    &  0.000000   & 0.000000    &  0.00000000 &  0.0000000  &  0.0000000  &  0.0000000 \\\\\n",
       "\t7SK &  2.023998   &  0.3549769  &  0.4452561  &  1.6107203  &  2.111726   &  1.37331034 &  0.6614643  & 1.4142625   &  1.6107203  &  0.00000    &  0.492988   & 7.708218    &  3.22075526 &  1.0205370  &  5.0119075  &  0.2294101 \\\\\n",
       "\t7SK-1 &  0.000000   &  0.1774885  &  0.2023891  &  0.4026801  &  0.000000   &  0.09155402 &  0.1837401  & 0.2357104   &  0.4026801  &  0.00000    &  0.000000   & 0.000000    &  0.06852671 &  0.2164775  &  0.2088295  &  0.2294101 \\\\\n",
       "\t7SK-2 & 13.661983   & 74.3676663  & 45.5577943  & 11.2750422  & 10.822597   & 70.13038117 & 49.9038029  & 9.6641268   & 11.2750422  & 79.16321    & 59.651546   & 9.421156    & 61.36566670 & 74.5919754  & 64.7371380  & 55.7925259 \\\\\n",
       "\\end{tabular}\n"
      ],
      "text/markdown": [
       "\n",
       "| <!--/--> | alpha_A | alpha_D21 | alpha_D3239 | alpha_J | beta_A | beta_D21 | beta_D3239 | beta_J | delta_A | delta_D21 | delta_D3239 | delta_J | EC_D21 | EC_D3239 | ENP3_D21 | ENP3_D3239 |\n",
       "|---|---|---|---|---|---|---|---|---|---|---|---|---|---|---|---|---|\n",
       "| 5S_rRNA |  0.000000   |  0.0000000  |  0.0000000  |  0.0000000  |  0.000000   |  0.00000000 |  0.0000000  | 0.0000000   |  0.0000000  |  0.00000    |  0.000000   | 0.000000    |  0.00000000 |  0.0000000  |  0.0000000  |  0.0000000  |\n",
       "| 7SK |  2.023998   |  0.3549769  |  0.4452561  |  1.6107203  |  2.111726   |  1.37331034 |  0.6614643  | 1.4142625   |  1.6107203  |  0.00000    |  0.492988   | 7.708218    |  3.22075526 |  1.0205370  |  5.0119075  |  0.2294101  |\n",
       "| 7SK-1 |  0.000000   |  0.1774885  |  0.2023891  |  0.4026801  |  0.000000   |  0.09155402 |  0.1837401  | 0.2357104   |  0.4026801  |  0.00000    |  0.000000   | 0.000000    |  0.06852671 |  0.2164775  |  0.2088295  |  0.2294101  |\n",
       "| 7SK-2 | 13.661983   | 74.3676663  | 45.5577943  | 11.2750422  | 10.822597   | 70.13038117 | 49.9038029  | 9.6641268   | 11.2750422  | 79.16321    | 59.651546   | 9.421156    | 61.36566670 | 74.5919754  | 64.7371380  | 55.7925259  |\n",
       "\n"
      ],
      "text/plain": [
       "        alpha_A   alpha_D21  alpha_D3239 alpha_J    beta_A    beta_D21   \n",
       "5S_rRNA  0.000000  0.0000000  0.0000000   0.0000000  0.000000  0.00000000\n",
       "7SK      2.023998  0.3549769  0.4452561   1.6107203  2.111726  1.37331034\n",
       "7SK-1    0.000000  0.1774885  0.2023891   0.4026801  0.000000  0.09155402\n",
       "7SK-2   13.661983 74.3676663 45.5577943  11.2750422 10.822597 70.13038117\n",
       "        beta_D3239 beta_J    delta_A    delta_D21 delta_D3239 delta_J \n",
       "5S_rRNA  0.0000000 0.0000000  0.0000000  0.00000   0.000000   0.000000\n",
       "7SK      0.6614643 1.4142625  1.6107203  0.00000   0.492988   7.708218\n",
       "7SK-1    0.1837401 0.2357104  0.4026801  0.00000   0.000000   0.000000\n",
       "7SK-2   49.9038029 9.6641268 11.2750422 79.16321  59.651546   9.421156\n",
       "        EC_D21      EC_D3239   ENP3_D21   ENP3_D3239\n",
       "5S_rRNA  0.00000000  0.0000000  0.0000000  0.0000000\n",
       "7SK      3.22075526  1.0205370  5.0119075  0.2294101\n",
       "7SK-1    0.06852671  0.2164775  0.2088295  0.2294101\n",
       "7SK-2   61.36566670 74.5919754 64.7371380 55.7925259"
      ]
     },
     "metadata": {},
     "output_type": "display_data"
    },
    {
     "data": {
      "text/html": [
       "<ol class=list-inline>\n",
       "\t<li>18568</li>\n",
       "\t<li>16</li>\n",
       "</ol>\n"
      ],
      "text/latex": [
       "\\begin{enumerate*}\n",
       "\\item 18568\n",
       "\\item 16\n",
       "\\end{enumerate*}\n"
      ],
      "text/markdown": [
       "1. 18568\n",
       "2. 16\n",
       "\n",
       "\n"
      ],
      "text/plain": [
       "[1] 18568    16"
      ]
     },
     "metadata": {},
     "output_type": "display_data"
    }
   ],
   "source": [
    "A_norm=A_data\n",
    "for (i in 1:dim(A_data)[2]){\n",
    "    A_norm[,i]=(A_data[,i]/sum(A_data[,i]))*1000000\n",
    "}\n",
    "A_norm[1:4,]\n",
    "exp_peaks<-apply(A_norm,1,function(x) max(x)>1)\n",
    "A_norm1=A_norm[exp_peaks,]\n",
    "dim(A_norm1)\n",
    "peak_count=rownames(A_norm1)\n",
    "\n",
    "R_norm=R_data\n",
    "for (i in 1:dim(R_data)[2]){\n",
    "    R_norm[,i]=(R_data[,i]/sum(R_data[,i]))*1000000\n",
    "}\n",
    "R_norm[1:4,]\n",
    "\n",
    "exp_gene<-apply(R_norm,1,function(x) max(x)>3)\n",
    "R_norm1<-R_norm[exp_gene,]           \n",
    "dim(R_norm1)\n",
    "gene_count=rownames(R_norm1)"
   ]
  },
  {
   "cell_type": "code",
   "execution_count": 7,
   "metadata": {},
   "outputs": [
    {
     "data": {
      "text/html": [
       "<ol class=list-inline>\n",
       "\t<li>104218</li>\n",
       "\t<li>6</li>\n",
       "</ol>\n"
      ],
      "text/latex": [
       "\\begin{enumerate*}\n",
       "\\item 104218\n",
       "\\item 6\n",
       "\\end{enumerate*}\n"
      ],
      "text/markdown": [
       "1. 104218\n",
       "2. 6\n",
       "\n",
       "\n"
      ],
      "text/plain": [
       "[1] 104218      6"
      ]
     },
     "metadata": {},
     "output_type": "display_data"
    },
    {
     "data": {
      "text/html": [
       "<table>\n",
       "<thead><tr><th scope=col>V1</th><th scope=col>V2</th><th scope=col>V3</th><th scope=col>V4</th><th scope=col>V5</th><th scope=col>V6</th></tr></thead>\n",
       "<tbody>\n",
       "\t<tr><td>chr3                 </td><td>186648365            </td><td>186648865            </td><td>3:186648365-186648865</td><td>3:186647774-186648774</td><td>ST6GAL1              </td></tr>\n",
       "\t<tr><td>chr3                 </td><td>186648365            </td><td>186648865            </td><td>3:186648365-186648865</td><td>3:186647791-186648791</td><td>ST6GAL1              </td></tr>\n",
       "\t<tr><td>chr3                 </td><td>186648365            </td><td>186648865            </td><td>3:186648365-186648865</td><td>3:186647815-186648815</td><td>ST6GAL1              </td></tr>\n",
       "</tbody>\n",
       "</table>\n"
      ],
      "text/latex": [
       "\\begin{tabular}{r|llllll}\n",
       " V1 & V2 & V3 & V4 & V5 & V6\\\\\n",
       "\\hline\n",
       "\t chr3                  & 186648365             & 186648865             & 3:186648365-186648865 & 3:186647774-186648774 & ST6GAL1              \\\\\n",
       "\t chr3                  & 186648365             & 186648865             & 3:186648365-186648865 & 3:186647791-186648791 & ST6GAL1              \\\\\n",
       "\t chr3                  & 186648365             & 186648865             & 3:186648365-186648865 & 3:186647815-186648815 & ST6GAL1              \\\\\n",
       "\\end{tabular}\n"
      ],
      "text/markdown": [
       "\n",
       "| V1 | V2 | V3 | V4 | V5 | V6 |\n",
       "|---|---|---|---|---|---|\n",
       "| chr3                  | 186648365             | 186648865             | 3:186648365-186648865 | 3:186647774-186648774 | ST6GAL1               |\n",
       "| chr3                  | 186648365             | 186648865             | 3:186648365-186648865 | 3:186647791-186648791 | ST6GAL1               |\n",
       "| chr3                  | 186648365             | 186648865             | 3:186648365-186648865 | 3:186647815-186648815 | ST6GAL1               |\n",
       "\n"
      ],
      "text/plain": [
       "  V1   V2        V3        V4                    V5                    V6     \n",
       "1 chr3 186648365 186648865 3:186648365-186648865 3:186647774-186648774 ST6GAL1\n",
       "2 chr3 186648365 186648865 3:186648365-186648865 3:186647791-186648791 ST6GAL1\n",
       "3 chr3 186648365 186648865 3:186648365-186648865 3:186647815-186648815 ST6GAL1"
      ]
     },
     "metadata": {},
     "output_type": "display_data"
    }
   ],
   "source": [
    "# correlation\n",
    "## 1, proximal cCREs and target genes\n",
    "#PG=read.table('/oasis/tscc/scratch/gaw006/share/SCislet/extend_50kb_endo_TSS_1kb.bed')\n",
    "\n",
    "## 1, distal cCREs and target genes\n",
    "#PG=read.table('/oasis/tscc/scratch/gaw006/share/SCislet/all_EP_cicero_EP_final_2kb.bed')\n",
    "\n",
    "## 1, promoter cCREs and target genes\n",
    "PG=read.table('/oasis/tscc/scratch/gaw006/share/SCislet/endo_peak_peak_TSS_1kb.bed')\n",
    "dim(PG)\n",
    "PG[1:3,]"
   ]
  },
  {
   "cell_type": "code",
   "execution_count": 9,
   "metadata": {},
   "outputs": [
    {
     "data": {
      "text/html": [
       "<ol class=list-inline>\n",
       "\t<li>37701</li>\n",
       "\t<li>6</li>\n",
       "</ol>\n"
      ],
      "text/latex": [
       "\\begin{enumerate*}\n",
       "\\item 37701\n",
       "\\item 6\n",
       "\\end{enumerate*}\n"
      ],
      "text/markdown": [
       "1. 37701\n",
       "2. 6\n",
       "\n",
       "\n"
      ],
      "text/plain": [
       "[1] 37701     6"
      ]
     },
     "metadata": {},
     "output_type": "display_data"
    },
    {
     "data": {
      "text/html": [
       "<table>\n",
       "<thead><tr><th></th><th scope=col>V1</th><th scope=col>V2</th><th scope=col>V3</th><th scope=col>V4</th><th scope=col>V5</th><th scope=col>V6</th></tr></thead>\n",
       "<tbody>\n",
       "\t<tr><th scope=row>1</th><td>chr3                  </td><td>186648365             </td><td>186648865             </td><td>3:186648365-186648865 </td><td>3:186647774-186648774 </td><td>ST6GAL1               </td></tr>\n",
       "\t<tr><th scope=row>10</th><td>chr10                 </td><td> 17271797             </td><td> 17272297             </td><td>10:17271797-17272297  </td><td>10:17271503-17272503  </td><td>VIM                   </td></tr>\n",
       "\t<tr><th scope=row>12</th><td>chr11                 </td><td>101981499             </td><td>101981999             </td><td>11:101981499-101981999</td><td>11:101980692-101981692</td><td>YAP1                  </td></tr>\n",
       "\t<tr><th scope=row>15</th><td>chr11                 </td><td>119293646             </td><td>119294146             </td><td>11:119293646-119294146</td><td>11:119292772-119293772</td><td>THY1                  </td></tr>\n",
       "</tbody>\n",
       "</table>\n"
      ],
      "text/latex": [
       "\\begin{tabular}{r|llllll}\n",
       "  & V1 & V2 & V3 & V4 & V5 & V6\\\\\n",
       "\\hline\n",
       "\t1 & chr3                   & 186648365              & 186648865              & 3:186648365-186648865  & 3:186647774-186648774  & ST6GAL1               \\\\\n",
       "\t10 & chr10                  &  17271797              &  17272297              & 10:17271797-17272297   & 10:17271503-17272503   & VIM                   \\\\\n",
       "\t12 & chr11                  & 101981499              & 101981999              & 11:101981499-101981999 & 11:101980692-101981692 & YAP1                  \\\\\n",
       "\t15 & chr11                  & 119293646              & 119294146              & 11:119293646-119294146 & 11:119292772-119293772 & THY1                  \\\\\n",
       "\\end{tabular}\n"
      ],
      "text/markdown": [
       "\n",
       "| <!--/--> | V1 | V2 | V3 | V4 | V5 | V6 |\n",
       "|---|---|---|---|---|---|---|\n",
       "| 1 | chr3                   | 186648365              | 186648865              | 3:186648365-186648865  | 3:186647774-186648774  | ST6GAL1                |\n",
       "| 10 | chr10                  |  17271797              |  17272297              | 10:17271797-17272297   | 10:17271503-17272503   | VIM                    |\n",
       "| 12 | chr11                  | 101981499              | 101981999              | 11:101981499-101981999 | 11:101980692-101981692 | YAP1                   |\n",
       "| 15 | chr11                  | 119293646              | 119294146              | 11:119293646-119294146 | 11:119292772-119293772 | THY1                   |\n",
       "\n"
      ],
      "text/plain": [
       "   V1    V2        V3        V4                     V5                    \n",
       "1  chr3  186648365 186648865 3:186648365-186648865  3:186647774-186648774 \n",
       "10 chr10  17271797  17272297 10:17271797-17272297   10:17271503-17272503  \n",
       "12 chr11 101981499 101981999 11:101981499-101981999 11:101980692-101981692\n",
       "15 chr11 119293646 119294146 11:119293646-119294146 11:119292772-119293772\n",
       "   V6     \n",
       "1  ST6GAL1\n",
       "10 VIM    \n",
       "12 YAP1   \n",
       "15 THY1   "
      ]
     },
     "metadata": {},
     "output_type": "display_data"
    },
    {
     "data": {
      "text/html": [
       "35369"
      ],
      "text/latex": [
       "35369"
      ],
      "text/markdown": [
       "35369"
      ],
      "text/plain": [
       "[1] 35369"
      ]
     },
     "metadata": {},
     "output_type": "display_data"
    },
    {
     "data": {
      "text/html": [
       "17012"
      ],
      "text/latex": [
       "17012"
      ],
      "text/markdown": [
       "17012"
      ],
      "text/plain": [
       "[1] 17012"
      ]
     },
     "metadata": {},
     "output_type": "display_data"
    },
    {
     "data": {
      "text/html": [
       "390682"
      ],
      "text/latex": [
       "390682"
      ],
      "text/markdown": [
       "390682"
      ],
      "text/plain": [
       "[1] 390682"
      ]
     },
     "metadata": {},
     "output_type": "display_data"
    },
    {
     "data": {
      "text/html": [
       "18568"
      ],
      "text/latex": [
       "18568"
      ],
      "text/markdown": [
       "18568"
      ],
      "text/plain": [
       "[1] 18568"
      ]
     },
     "metadata": {},
     "output_type": "display_data"
    },
    {
     "data": {
      "text/html": [
       "33818"
      ],
      "text/latex": [
       "33818"
      ],
      "text/markdown": [
       "33818"
      ],
      "text/plain": [
       "[1] 33818"
      ]
     },
     "metadata": {},
     "output_type": "display_data"
    },
    {
     "data": {
      "text/html": [
       "13891"
      ],
      "text/latex": [
       "13891"
      ],
      "text/markdown": [
       "13891"
      ],
      "text/plain": [
       "[1] 13891"
      ]
     },
     "metadata": {},
     "output_type": "display_data"
    },
    {
     "data": {
      "text/html": [
       "<ol class=list-inline>\n",
       "\t<li>33818</li>\n",
       "\t<li>16</li>\n",
       "</ol>\n"
      ],
      "text/latex": [
       "\\begin{enumerate*}\n",
       "\\item 33818\n",
       "\\item 16\n",
       "\\end{enumerate*}\n"
      ],
      "text/markdown": [
       "1. 33818\n",
       "2. 16\n",
       "\n",
       "\n"
      ],
      "text/plain": [
       "[1] 33818    16"
      ]
     },
     "metadata": {},
     "output_type": "display_data"
    },
    {
     "data": {
      "text/html": [
       "<ol class=list-inline>\n",
       "\t<li>13891</li>\n",
       "\t<li>16</li>\n",
       "</ol>\n"
      ],
      "text/latex": [
       "\\begin{enumerate*}\n",
       "\\item 13891\n",
       "\\item 16\n",
       "\\end{enumerate*}\n"
      ],
      "text/markdown": [
       "1. 13891\n",
       "2. 16\n",
       "\n",
       "\n"
      ],
      "text/plain": [
       "[1] 13891    16"
      ]
     },
     "metadata": {},
     "output_type": "display_data"
    },
    {
     "data": {
      "text/html": [
       "<ol class=list-inline>\n",
       "\t<li>31653</li>\n",
       "\t<li>6</li>\n",
       "</ol>\n"
      ],
      "text/latex": [
       "\\begin{enumerate*}\n",
       "\\item 31653\n",
       "\\item 6\n",
       "\\end{enumerate*}\n"
      ],
      "text/markdown": [
       "1. 31653\n",
       "2. 6\n",
       "\n",
       "\n"
      ],
      "text/plain": [
       "[1] 31653     6"
      ]
     },
     "metadata": {},
     "output_type": "display_data"
    }
   ],
   "source": [
    "keep=(!duplicated(PG[,c(4,6)]))\n",
    "PG=PG[keep,]\n",
    "dim(PG)\n",
    "PG[1:4,]\n",
    "\n",
    "peak_PG=unique(as.character(PG$V4))\n",
    "gene_PG=unique(as.character(PG$V6))\n",
    "length(peak_PG)\n",
    "length(gene_PG)\n",
    "\n",
    "length(peak_count)\n",
    "length(gene_count)\n",
    "\n",
    "peak_use=intersect(peak_PG,peak_count)\n",
    "gene_use=intersect(gene_PG,gene_count)\n",
    "\n",
    "length(peak_use)\n",
    "length(gene_use)\n",
    "\n",
    "A_use=A_norm1[(rownames(A_norm1) %in% peak_use),]\n",
    "R_use=R_norm1[(rownames(R_norm1) %in% gene_use),]\n",
    "dim(A_use)\n",
    "dim(R_use)\n",
    "\n",
    "PG=PG[(PG$V4 %in% peak_use) & (PG$V6 %in% gene_use),]\n",
    "dim(PG)"
   ]
  },
  {
   "cell_type": "code",
   "execution_count": 10,
   "metadata": {},
   "outputs": [
    {
     "data": {
      "text/html": [
       "<ol class=list-inline>\n",
       "\t<li>'ST6GAL1'</li>\n",
       "\t<li>'VIM'</li>\n",
       "\t<li>'YAP1'</li>\n",
       "\t<li>'THY1'</li>\n",
       "</ol>\n"
      ],
      "text/latex": [
       "\\begin{enumerate*}\n",
       "\\item 'ST6GAL1'\n",
       "\\item 'VIM'\n",
       "\\item 'YAP1'\n",
       "\\item 'THY1'\n",
       "\\end{enumerate*}\n"
      ],
      "text/markdown": [
       "1. 'ST6GAL1'\n",
       "2. 'VIM'\n",
       "3. 'YAP1'\n",
       "4. 'THY1'\n",
       "\n",
       "\n"
      ],
      "text/plain": [
       "[1] \"ST6GAL1\" \"VIM\"     \"YAP1\"    \"THY1\"   "
      ]
     },
     "metadata": {},
     "output_type": "display_data"
    },
    {
     "data": {
      "text/html": [
       "<ol class=list-inline>\n",
       "\t<li>'THRB'</li>\n",
       "\t<li>'CEP170'</li>\n",
       "\t<li>'BCAM'</li>\n",
       "\t<li>'SH3D19'</li>\n",
       "</ol>\n"
      ],
      "text/latex": [
       "\\begin{enumerate*}\n",
       "\\item 'THRB'\n",
       "\\item 'CEP170'\n",
       "\\item 'BCAM'\n",
       "\\item 'SH3D19'\n",
       "\\end{enumerate*}\n"
      ],
      "text/markdown": [
       "1. 'THRB'\n",
       "2. 'CEP170'\n",
       "3. 'BCAM'\n",
       "4. 'SH3D19'\n",
       "\n",
       "\n"
      ],
      "text/plain": [
       "[1] \"THRB\"   \"CEP170\" \"BCAM\"   \"SH3D19\""
      ]
     },
     "metadata": {},
     "output_type": "display_data"
    },
    {
     "data": {
      "text/html": [
       "<table>\n",
       "<thead><tr><th></th><th scope=col>V1</th><th scope=col>V2</th><th scope=col>V3</th><th scope=col>V4</th><th scope=col>V5</th><th scope=col>V6</th></tr></thead>\n",
       "<tbody>\n",
       "\t<tr><th scope=row>1</th><td>chr3                  </td><td>186648365             </td><td>186648865             </td><td>3:186648365-186648865 </td><td>3:186647774-186648774 </td><td>THRB                  </td></tr>\n",
       "\t<tr><th scope=row>10</th><td>chr10                 </td><td> 17271797             </td><td> 17272297             </td><td>10:17271797-17272297  </td><td>10:17271503-17272503  </td><td>CEP170                </td></tr>\n",
       "\t<tr><th scope=row>12</th><td>chr11                 </td><td>101981499             </td><td>101981999             </td><td>11:101981499-101981999</td><td>11:101980692-101981692</td><td>BCAM                  </td></tr>\n",
       "\t<tr><th scope=row>15</th><td>chr11                 </td><td>119293646             </td><td>119294146             </td><td>11:119293646-119294146</td><td>11:119292772-119293772</td><td>SH3D19                </td></tr>\n",
       "</tbody>\n",
       "</table>\n"
      ],
      "text/latex": [
       "\\begin{tabular}{r|llllll}\n",
       "  & V1 & V2 & V3 & V4 & V5 & V6\\\\\n",
       "\\hline\n",
       "\t1 & chr3                   & 186648365              & 186648865              & 3:186648365-186648865  & 3:186647774-186648774  & THRB                  \\\\\n",
       "\t10 & chr10                  &  17271797              &  17272297              & 10:17271797-17272297   & 10:17271503-17272503   & CEP170                \\\\\n",
       "\t12 & chr11                  & 101981499              & 101981999              & 11:101981499-101981999 & 11:101980692-101981692 & BCAM                  \\\\\n",
       "\t15 & chr11                  & 119293646              & 119294146              & 11:119293646-119294146 & 11:119292772-119293772 & SH3D19                \\\\\n",
       "\\end{tabular}\n"
      ],
      "text/markdown": [
       "\n",
       "| <!--/--> | V1 | V2 | V3 | V4 | V5 | V6 |\n",
       "|---|---|---|---|---|---|---|\n",
       "| 1 | chr3                   | 186648365              | 186648865              | 3:186648365-186648865  | 3:186647774-186648774  | THRB                   |\n",
       "| 10 | chr10                  |  17271797              |  17272297              | 10:17271797-17272297   | 10:17271503-17272503   | CEP170                 |\n",
       "| 12 | chr11                  | 101981499              | 101981999              | 11:101981499-101981999 | 11:101980692-101981692 | BCAM                   |\n",
       "| 15 | chr11                  | 119293646              | 119294146              | 11:119293646-119294146 | 11:119292772-119293772 | SH3D19                 |\n",
       "\n"
      ],
      "text/plain": [
       "   V1    V2        V3        V4                     V5                    \n",
       "1  chr3  186648365 186648865 3:186648365-186648865  3:186647774-186648774 \n",
       "10 chr10  17271797  17272297 10:17271797-17272297   10:17271503-17272503  \n",
       "12 chr11 101981499 101981999 11:101981499-101981999 11:101980692-101981692\n",
       "15 chr11 119293646 119294146 11:119293646-119294146 11:119292772-119293772\n",
       "   V6    \n",
       "1  THRB  \n",
       "10 CEP170\n",
       "12 BCAM  \n",
       "15 SH3D19"
      ]
     },
     "metadata": {},
     "output_type": "display_data"
    }
   ],
   "source": [
    "### random shuffle\n",
    "A_use=A_use[,sample(1:16, 16)]\n",
    "R_use=R_use[,sample(1:16, 16)]\n",
    "\n",
    "PG_genename=as.character(PG$V6)\n",
    "PG_genename[1:4]\n",
    "PG_genename1=PG_genename[sample(1:length(PG_genename), length(PG_genename))]\n",
    "PG_genename1[1:4]\n",
    "PG$V6=PG_genename1\n",
    "PG[1:4,]"
   ]
  },
  {
   "cell_type": "code",
   "execution_count": 19,
   "metadata": {},
   "outputs": [
    {
     "data": {
      "text/html": [
       "<ol class=list-inline>\n",
       "\t<li>31653</li>\n",
       "\t<li>3</li>\n",
       "</ol>\n"
      ],
      "text/latex": [
       "\\begin{enumerate*}\n",
       "\\item 31653\n",
       "\\item 3\n",
       "\\end{enumerate*}\n"
      ],
      "text/markdown": [
       "1. 31653\n",
       "2. 3\n",
       "\n",
       "\n"
      ],
      "text/plain": [
       "[1] 31653     3"
      ]
     },
     "metadata": {},
     "output_type": "display_data"
    },
    {
     "data": {
      "text/html": [
       "<table>\n",
       "<thead><tr><th scope=col>pvalue</th><th scope=col>stat</th><th scope=col>FDR</th></tr></thead>\n",
       "<tbody>\n",
       "\t<tr><td>8.375279e-07</td><td> 0.9124359  </td><td>0           </td></tr>\n",
       "\t<tr><td>1.187894e-04</td><td> 0.8153056  </td><td>0           </td></tr>\n",
       "\t<tr><td>5.165099e-01</td><td>-0.1751288  </td><td>0           </td></tr>\n",
       "\t<tr><td>4.302752e-02</td><td> 0.5111251  </td><td>0           </td></tr>\n",
       "\t<tr><td>4.538696e-06</td><td> 0.8874318  </td><td>0           </td></tr>\n",
       "</tbody>\n",
       "</table>\n"
      ],
      "text/latex": [
       "\\begin{tabular}{lll}\n",
       " pvalue & stat & FDR\\\\\n",
       "\\hline\n",
       "\t 8.375279e-07 &  0.9124359   & 0           \\\\\n",
       "\t 1.187894e-04 &  0.8153056   & 0           \\\\\n",
       "\t 5.165099e-01 & -0.1751288   & 0           \\\\\n",
       "\t 4.302752e-02 &  0.5111251   & 0           \\\\\n",
       "\t 4.538696e-06 &  0.8874318   & 0           \\\\\n",
       "\\end{tabular}\n"
      ],
      "text/markdown": [
       "\n",
       "| pvalue | stat | FDR |\n",
       "|---|---|---|\n",
       "| 8.375279e-07 |  0.9124359   | 0            |\n",
       "| 1.187894e-04 |  0.8153056   | 0            |\n",
       "| 5.165099e-01 | -0.1751288   | 0            |\n",
       "| 4.302752e-02 |  0.5111251   | 0            |\n",
       "| 4.538696e-06 |  0.8874318   | 0            |\n",
       "\n"
      ],
      "text/plain": [
       "     pvalue       stat       FDR\n",
       "[1,] 8.375279e-07  0.9124359 0  \n",
       "[2,] 1.187894e-04  0.8153056 0  \n",
       "[3,] 5.165099e-01 -0.1751288 0  \n",
       "[4,] 4.302752e-02  0.5111251 0  \n",
       "[5,] 4.538696e-06  0.8874318 0  "
      ]
     },
     "metadata": {},
     "output_type": "display_data"
    },
    {
     "data": {
      "text/html": [
       "<table>\n",
       "<thead><tr><th scope=col>pvalue</th><th scope=col>stat</th><th scope=col>FDR</th><th scope=col>PG_E</th><th scope=col>PG_gene</th></tr></thead>\n",
       "<tbody>\n",
       "\t<tr><td>8.37527940677033e-07 </td><td>0.912435861443153    </td><td>0                    </td><td>3:186648365-186648865</td><td>ST6GAL1              </td></tr>\n",
       "\t<tr><td>0.000118789401029541 </td><td>0.815305592321785    </td><td>0                    </td><td>10:17271797-17272297 </td><td>VIM                  </td></tr>\n",
       "</tbody>\n",
       "</table>\n"
      ],
      "text/latex": [
       "\\begin{tabular}{lllll}\n",
       " pvalue & stat & FDR & PG\\_E & PG\\_gene\\\\\n",
       "\\hline\n",
       "\t 8.37527940677033e-07  & 0.912435861443153     & 0                     & 3:186648365-186648865 & ST6GAL1              \\\\\n",
       "\t 0.000118789401029541  & 0.815305592321785     & 0                     & 10:17271797-17272297  & VIM                  \\\\\n",
       "\\end{tabular}\n"
      ],
      "text/markdown": [
       "\n",
       "| pvalue | stat | FDR | PG_E | PG_gene |\n",
       "|---|---|---|---|---|\n",
       "| 8.37527940677033e-07  | 0.912435861443153     | 0                     | 3:186648365-186648865 | ST6GAL1               |\n",
       "| 0.000118789401029541  | 0.815305592321785     | 0                     | 10:17271797-17272297  | VIM                   |\n",
       "\n"
      ],
      "text/plain": [
       "     pvalue               stat              FDR PG_E                  PG_gene\n",
       "[1,] 8.37527940677033e-07 0.912435861443153 0   3:186648365-186648865 ST6GAL1\n",
       "[2,] 0.000118789401029541 0.815305592321785 0   10:17271797-17272297  VIM    "
      ]
     },
     "metadata": {},
     "output_type": "display_data"
    }
   ],
   "source": [
    "## correlation:\n",
    "PG_E=as.character(PG$V4)\n",
    "PG_gene=as.character(PG$V6)\n",
    "peak_name=rownames(A_use)\n",
    "gene_name=rownames(R_use)\n",
    "\n",
    "C=matrix(0,length(PG_E),3)\n",
    "colnames(C)=c('pvalue','stat','FDR')\n",
    "dim(C)\n",
    "\n",
    "for (i in 1:length(PG_E)){\n",
    "    temp_peak=(A_use[peak_name==PG_E[i],])\n",
    "    temp_gene=(R_use[gene_name==PG_gene[i],])\n",
    "    temp_cor=suppressWarnings(cor.test(temp_peak,temp_gene,method =\"spearman\"))\n",
    "    C[i,1]=temp_cor$p.value\n",
    "    C[i,2]=temp_cor$estimate\n",
    "}\n",
    "C[1:5,]\n",
    "\n",
    "C1=cbind(C,PG_E,PG_gene)\n",
    "C1[1:2,]"
   ]
  },
  {
   "cell_type": "code",
   "execution_count": 10,
   "metadata": {},
   "outputs": [],
   "source": [
    "#write.csv(C1,'/projects/sanderlab/gaowei/Han/primary_correlation/result/TSSCREs_gene_new.csv')"
   ]
  },
  {
   "cell_type": "code",
   "execution_count": 13,
   "metadata": {},
   "outputs": [
    {
     "data": {
      "text/html": [
       "<ol class=list-inline>\n",
       "\t<li>22641360</li>\n",
       "\t<li>2</li>\n",
       "</ol>\n"
      ],
      "text/latex": [
       "\\begin{enumerate*}\n",
       "\\item 22641360\n",
       "\\item 2\n",
       "\\end{enumerate*}\n"
      ],
      "text/markdown": [
       "1. 22641360\n",
       "2. 2\n",
       "\n",
       "\n"
      ],
      "text/plain": [
       "[1] 22641360        2"
      ]
     },
     "metadata": {},
     "output_type": "display_data"
    },
    {
     "data": {
      "text/html": [
       "<ol class=list-inline>\n",
       "\t<li>22641360</li>\n",
       "\t<li>2</li>\n",
       "</ol>\n"
      ],
      "text/latex": [
       "\\begin{enumerate*}\n",
       "\\item 22641360\n",
       "\\item 2\n",
       "\\end{enumerate*}\n"
      ],
      "text/markdown": [
       "1. 22641360\n",
       "2. 2\n",
       "\n",
       "\n"
      ],
      "text/plain": [
       "[1] 22641360        2"
      ]
     },
     "metadata": {},
     "output_type": "display_data"
    }
   ],
   "source": [
    "########cCREs-TF correlation\n",
    "peak_mtx_use<-read.csv(\"/oasis/tscc/scratch/gaw006/share/SCislet/peak_mtx_use.csv\",row.names = 1)\n",
    "gene_mtx_use<-read.csv(\"/oasis/tscc/scratch/gaw006/share/SCislet/gene_mtx_use.csv\",row.names = 1)\n",
    "PTF<-read.csv(\"/oasis/tscc/scratch/gaw006/share/SCislet/peak_TF_matrix.csv\",row.names = 1)\n",
    "dim(PTF)\n",
    "\n",
    "keep1 = (PTF$peaks %in% rownames(peak_mtx_use))\n",
    "keep2 = (PTF$TF_genes %in% rownames(gene_mtx_use))\n",
    "PTF = PTF[keep1 & keep2,]\n",
    "dim(PTF)\n",
    "\n",
    "PTF_E=as.character(PTF$peaks)\n",
    "PTF_gene=as.character(PTF$TF_genes)\n"
   ]
  },
  {
   "cell_type": "code",
   "execution_count": 14,
   "metadata": {},
   "outputs": [
    {
     "data": {
      "text/html": [
       "<table>\n",
       "<thead><tr><th></th><th scope=col>alpha_A</th><th scope=col>alpha_D21</th><th scope=col>alpha_D3239</th><th scope=col>alpha_J</th></tr></thead>\n",
       "<tbody>\n",
       "\t<tr><th scope=row>1:100036489-100036989</th><td>0.2463905 </td><td> 1.2590055</td><td> 0.4869258</td><td>0.1645412 </td></tr>\n",
       "\t<tr><th scope=row>1:100102196-100102696</th><td>0.1437278 </td><td> 0.3402717</td><td> 0.2921555</td><td>0.2468118 </td></tr>\n",
       "\t<tr><th scope=row>1:10010341-10010841</th><td>9.1472456 </td><td> 5.2742121</td><td> 6.3624969</td><td>9.7079303 </td></tr>\n",
       "\t<tr><th scope=row>1:100111732-100112232</th><td>1.7042006 </td><td>12.5900546</td><td>12.6925321</td><td>2.1390355 </td></tr>\n",
       "</tbody>\n",
       "</table>\n"
      ],
      "text/latex": [
       "\\begin{tabular}{r|llll}\n",
       "  & alpha\\_A & alpha\\_D21 & alpha\\_D3239 & alpha\\_J\\\\\n",
       "\\hline\n",
       "\t1:100036489-100036989 & 0.2463905  &  1.2590055 &  0.4869258 & 0.1645412 \\\\\n",
       "\t1:100102196-100102696 & 0.1437278  &  0.3402717 &  0.2921555 & 0.2468118 \\\\\n",
       "\t1:10010341-10010841 & 9.1472456  &  5.2742121 &  6.3624969 & 9.7079303 \\\\\n",
       "\t1:100111732-100112232 & 1.7042006  & 12.5900546 & 12.6925321 & 2.1390355 \\\\\n",
       "\\end{tabular}\n"
      ],
      "text/markdown": [
       "\n",
       "| <!--/--> | alpha_A | alpha_D21 | alpha_D3239 | alpha_J |\n",
       "|---|---|---|---|---|\n",
       "| 1:100036489-100036989 | 0.2463905  |  1.2590055 |  0.4869258 | 0.1645412  |\n",
       "| 1:100102196-100102696 | 0.1437278  |  0.3402717 |  0.2921555 | 0.2468118  |\n",
       "| 1:10010341-10010841 | 9.1472456  |  5.2742121 |  6.3624969 | 9.7079303  |\n",
       "| 1:100111732-100112232 | 1.7042006  | 12.5900546 | 12.6925321 | 2.1390355  |\n",
       "\n"
      ],
      "text/plain": [
       "                      alpha_A   alpha_D21  alpha_D3239 alpha_J  \n",
       "1:100036489-100036989 0.2463905  1.2590055  0.4869258  0.1645412\n",
       "1:100102196-100102696 0.1437278  0.3402717  0.2921555  0.2468118\n",
       "1:10010341-10010841   9.1472456  5.2742121  6.3624969  9.7079303\n",
       "1:100111732-100112232 1.7042006 12.5900546 12.6925321  2.1390355"
      ]
     },
     "metadata": {},
     "output_type": "display_data"
    },
    {
     "data": {
      "text/html": [
       "<table>\n",
       "<thead><tr><th></th><th scope=col>alpha_A</th><th scope=col>alpha_D21</th><th scope=col>alpha_D3239</th></tr></thead>\n",
       "<tbody>\n",
       "\t<tr><th scope=row>ALX1</th><td>0        </td><td>1.4199077</td><td>0.2428670</td></tr>\n",
       "\t<tr><th scope=row>ALX3</th><td>0        </td><td>1.4199077</td><td>0.4857339</td></tr>\n",
       "\t<tr><th scope=row>ALX4</th><td>0        </td><td>0.1774885</td><td>0.3440615</td></tr>\n",
       "</tbody>\n",
       "</table>\n"
      ],
      "text/latex": [
       "\\begin{tabular}{r|lll}\n",
       "  & alpha\\_A & alpha\\_D21 & alpha\\_D3239\\\\\n",
       "\\hline\n",
       "\tALX1 & 0         & 1.4199077 & 0.2428670\\\\\n",
       "\tALX3 & 0         & 1.4199077 & 0.4857339\\\\\n",
       "\tALX4 & 0         & 0.1774885 & 0.3440615\\\\\n",
       "\\end{tabular}\n"
      ],
      "text/markdown": [
       "\n",
       "| <!--/--> | alpha_A | alpha_D21 | alpha_D3239 |\n",
       "|---|---|---|---|\n",
       "| ALX1 | 0         | 1.4199077 | 0.2428670 |\n",
       "| ALX3 | 0         | 1.4199077 | 0.4857339 |\n",
       "| ALX4 | 0         | 0.1774885 | 0.3440615 |\n",
       "\n"
      ],
      "text/plain": [
       "     alpha_A alpha_D21 alpha_D3239\n",
       "ALX1 0       1.4199077 0.2428670  \n",
       "ALX3 0       1.4199077 0.4857339  \n",
       "ALX4 0       0.1774885 0.3440615  "
      ]
     },
     "metadata": {},
     "output_type": "display_data"
    }
   ],
   "source": [
    "peak_mtx_use[1:4,1:4]\n",
    "gene_mtx_use[1:3,1:3]\n"
   ]
  },
  {
   "cell_type": "code",
   "execution_count": 3,
   "metadata": {},
   "outputs": [
    {
     "data": {
      "text/html": [
       "<ol class=list-inline>\n",
       "\t<li>22641360</li>\n",
       "\t<li>3</li>\n",
       "</ol>\n"
      ],
      "text/latex": [
       "\\begin{enumerate*}\n",
       "\\item 22641360\n",
       "\\item 3\n",
       "\\end{enumerate*}\n"
      ],
      "text/markdown": [
       "1. 22641360\n",
       "2. 3\n",
       "\n",
       "\n"
      ],
      "text/plain": [
       "[1] 22641360        3"
      ]
     },
     "metadata": {},
     "output_type": "display_data"
    },
    {
     "data": {
      "text/html": [
       "<table>\n",
       "<thead><tr><th scope=col>pvalue</th><th scope=col>stat</th><th scope=col>FDR</th></tr></thead>\n",
       "<tbody>\n",
       "\t<tr><td>0.909540098</td><td> 0.03090509</td><td>0          </td></tr>\n",
       "\t<tr><td>0.015138527</td><td>-0.59455498</td><td>0          </td></tr>\n",
       "\t<tr><td>0.002824810</td><td> 0.69462859</td><td>0          </td></tr>\n",
       "\t<tr><td>0.534551859</td><td> 0.16777046</td><td>0          </td></tr>\n",
       "\t<tr><td>0.002662921</td><td>-0.69757193</td><td>0          </td></tr>\n",
       "</tbody>\n",
       "</table>\n"
      ],
      "text/latex": [
       "\\begin{tabular}{lll}\n",
       " pvalue & stat & FDR\\\\\n",
       "\\hline\n",
       "\t 0.909540098 &  0.03090509 & 0          \\\\\n",
       "\t 0.015138527 & -0.59455498 & 0          \\\\\n",
       "\t 0.002824810 &  0.69462859 & 0          \\\\\n",
       "\t 0.534551859 &  0.16777046 & 0          \\\\\n",
       "\t 0.002662921 & -0.69757193 & 0          \\\\\n",
       "\\end{tabular}\n"
      ],
      "text/markdown": [
       "\n",
       "| pvalue | stat | FDR |\n",
       "|---|---|---|\n",
       "| 0.909540098 |  0.03090509 | 0           |\n",
       "| 0.015138527 | -0.59455498 | 0           |\n",
       "| 0.002824810 |  0.69462859 | 0           |\n",
       "| 0.534551859 |  0.16777046 | 0           |\n",
       "| 0.002662921 | -0.69757193 | 0           |\n",
       "\n"
      ],
      "text/plain": [
       "     pvalue      stat        FDR\n",
       "[1,] 0.909540098  0.03090509 0  \n",
       "[2,] 0.015138527 -0.59455498 0  \n",
       "[3,] 0.002824810  0.69462859 0  \n",
       "[4,] 0.534551859  0.16777046 0  \n",
       "[5,] 0.002662921 -0.69757193 0  "
      ]
     },
     "metadata": {},
     "output_type": "display_data"
    }
   ],
   "source": [
    "C=matrix(0,length(PTF_E),3)\n",
    "colnames(C)=c('pvalue','stat','FDR')\n",
    "dim(C)\n",
    "\n",
    "for (i in 1:length(PTF_E)){\n",
    "  temp_peak=as.numeric(peak_mtx_use[rownames(peak_mtx_use)==PTF_E[i],])\n",
    "  temp_gene=as.numeric(gene_mtx_use[rownames(gene_mtx_use)==PTF_gene[i],])\n",
    "  temp_cor=suppressWarnings(cor.test(temp_peak,temp_gene,method =\"spearman\"))\n",
    "  C[i,1]=temp_cor$p.value\n",
    "  C[i,2]=temp_cor$estimate\n",
    "}\n",
    "C[1:5,]"
   ]
  },
  {
   "cell_type": "code",
   "execution_count": 4,
   "metadata": {},
   "outputs": [
    {
     "data": {
      "text/html": [
       "<table>\n",
       "<thead><tr><th scope=col>pvalue</th><th scope=col>stat</th><th scope=col>FDR</th></tr></thead>\n",
       "<tbody>\n",
       "\t<tr><td>0.909540098</td><td> 0.03090509</td><td>0          </td></tr>\n",
       "\t<tr><td>0.015138527</td><td>-0.59455498</td><td>0          </td></tr>\n",
       "\t<tr><td>0.002824810</td><td> 0.69462859</td><td>0          </td></tr>\n",
       "\t<tr><td>0.534551859</td><td> 0.16777046</td><td>0          </td></tr>\n",
       "\t<tr><td>0.002662921</td><td>-0.69757193</td><td>0          </td></tr>\n",
       "</tbody>\n",
       "</table>\n"
      ],
      "text/latex": [
       "\\begin{tabular}{lll}\n",
       " pvalue & stat & FDR\\\\\n",
       "\\hline\n",
       "\t 0.909540098 &  0.03090509 & 0          \\\\\n",
       "\t 0.015138527 & -0.59455498 & 0          \\\\\n",
       "\t 0.002824810 &  0.69462859 & 0          \\\\\n",
       "\t 0.534551859 &  0.16777046 & 0          \\\\\n",
       "\t 0.002662921 & -0.69757193 & 0          \\\\\n",
       "\\end{tabular}\n"
      ],
      "text/markdown": [
       "\n",
       "| pvalue | stat | FDR |\n",
       "|---|---|---|\n",
       "| 0.909540098 |  0.03090509 | 0           |\n",
       "| 0.015138527 | -0.59455498 | 0           |\n",
       "| 0.002824810 |  0.69462859 | 0           |\n",
       "| 0.534551859 |  0.16777046 | 0           |\n",
       "| 0.002662921 | -0.69757193 | 0           |\n",
       "\n"
      ],
      "text/plain": [
       "     pvalue      stat        FDR\n",
       "[1,] 0.909540098  0.03090509 0  \n",
       "[2,] 0.015138527 -0.59455498 0  \n",
       "[3,] 0.002824810  0.69462859 0  \n",
       "[4,] 0.534551859  0.16777046 0  \n",
       "[5,] 0.002662921 -0.69757193 0  "
      ]
     },
     "metadata": {},
     "output_type": "display_data"
    }
   ],
   "source": [
    "C[1:5,]\n",
    "#C_TF<-as.data.frame(cbind(\"peak_ID\"=PTF_E,\"gene\"=PTF_gene,C))\n",
    "#write.csv(C_TF,file = \"/projects/sanderlab/gaowei/Han/primary_correlation/result/C_TF_new.csv\",quote = F)"
   ]
  },
  {
   "cell_type": "markdown",
   "metadata": {},
   "source": [
    "# Correlation distribution"
   ]
  },
  {
   "cell_type": "code",
   "execution_count": 3,
   "metadata": {},
   "outputs": [
    {
     "name": "stderr",
     "output_type": "stream",
     "text": [
      "Warning message:\n",
      "“no DISPLAY variable so Tk is not available”Package 'sm', version 2.2-5.6: type help(sm) for summary information\n"
     ]
    },
    {
     "data": {
      "image/png": "[encoded data removed]",
      "text/plain": [
       "plot without title"
      ]
     },
     "metadata": {},
     "output_type": "display_data"
    }
   ],
   "source": [
    "## promoter cCRE-gene\n",
    "A=read.csv('/oasis/tscc/scratch/gaw006/share/SCislet/TSSCREs_gene_new.csv')\n",
    "R=read.csv('/oasis/tscc/scratch/gaw006/share/SCislet/TSSCREs_gene_random_new.csv')\n",
    "\n",
    "c <- factor(c(rep('cicero',length(A$stat)),rep('random',length(A$stat))))\n",
    "val=c(A$stat,R$stat)\n",
    "sm.density.compare(val, c,xlab=\"Correlation\", bandwidths=9)\n",
    "\n",
    "colfill <- c(2:(1+length(levels(c))))\n",
    "legend(-1.05,1.05,levels(c),fill=colfill)"
   ]
  },
  {
   "cell_type": "code",
   "execution_count": 5,
   "metadata": {},
   "outputs": [
    {
     "data": {
      "text/html": [
       "<table>\n",
       "<thead><tr><th scope=col>X.1</th><th scope=col>X</th><th scope=col>pvalue</th><th scope=col>stat</th><th scope=col>FDR</th><th scope=col>PG_E</th><th scope=col>PG_gene</th></tr></thead>\n",
       "<tbody>\n",
       "\t<tr><td>1                     </td><td>1                     </td><td>8.375279e-07          </td><td> 0.9124359            </td><td>0.004428196           </td><td>3:186648365-186648865 </td><td>ST6GAL1               </td></tr>\n",
       "\t<tr><td>2                     </td><td>2                     </td><td>1.187894e-04          </td><td> 0.8153056            </td><td>0.011597050           </td><td>10:17271797-17272297  </td><td>VIM                   </td></tr>\n",
       "\t<tr><td>3                     </td><td>3                     </td><td>5.165099e-01          </td><td>-0.1751288            </td><td>1.018290014           </td><td>11:101981499-101981999</td><td>YAP1                  </td></tr>\n",
       "</tbody>\n",
       "</table>\n"
      ],
      "text/latex": [
       "\\begin{tabular}{r|lllllll}\n",
       " X.1 & X & pvalue & stat & FDR & PG\\_E & PG\\_gene\\\\\n",
       "\\hline\n",
       "\t 1                      & 1                      & 8.375279e-07           &  0.9124359             & 0.004428196            & 3:186648365-186648865  & ST6GAL1               \\\\\n",
       "\t 2                      & 2                      & 1.187894e-04           &  0.8153056             & 0.011597050            & 10:17271797-17272297   & VIM                   \\\\\n",
       "\t 3                      & 3                      & 5.165099e-01           & -0.1751288             & 1.018290014            & 11:101981499-101981999 & YAP1                  \\\\\n",
       "\\end{tabular}\n"
      ],
      "text/markdown": [
       "\n",
       "X.1 | X | pvalue | stat | FDR | PG_E | PG_gene | \n",
       "|---|---|---|\n",
       "| 1                      | 1                      | 8.375279e-07           |  0.9124359             | 0.004428196            | 3:186648365-186648865  | ST6GAL1                | \n",
       "| 2                      | 2                      | 1.187894e-04           |  0.8153056             | 0.011597050            | 10:17271797-17272297   | VIM                    | \n",
       "| 3                      | 3                      | 5.165099e-01           | -0.1751288             | 1.018290014            | 11:101981499-101981999 | YAP1                   | \n",
       "\n",
       "\n"
      ],
      "text/plain": [
       "  X.1 X pvalue       stat       FDR         PG_E                   PG_gene\n",
       "1 1   1 8.375279e-07  0.9124359 0.004428196 3:186648365-186648865  ST6GAL1\n",
       "2 2   2 1.187894e-04  0.8153056 0.011597050 10:17271797-17272297   VIM    \n",
       "3 3   3 5.165099e-01 -0.1751288 1.018290014 11:101981499-101981999 YAP1   "
      ]
     },
     "metadata": {},
     "output_type": "display_data"
    }
   ],
   "source": [
    "### FDR \n",
    "scc.test<- A$stat\n",
    "scc.permute<- R$stat\n",
    "fit.test<-fitdistr(scc.test, \"normal\") ## normal dist for total events \n",
    "fit.permute<-fitdistr(scc.permute, \"normal\") ## normal dist  for random events\n",
    "\n",
    "p1 = 1-pnorm(scc.test, mean=fit.test$estimate[1], sd=fit.test$estimate[2]) ## probability of total events with SCC > input scc\n",
    "p2 = 1-pnorm(scc.test, mean=fit.permute$estimate[1], sd=fit.permute$estimate[2]) ## probability of random events with SCC > input scc\n",
    "r = p2 / p1 ## FDR = p-random / p-total\n",
    "A$FDR=r\n",
    "A[1:3,]\n"
   ]
  },
  {
   "cell_type": "code",
   "execution_count": 8,
   "metadata": {},
   "outputs": [
    {
     "data": {
      "image/png": "[encoded data removed]",
      "text/plain": [
       "plot without title"
      ]
     },
     "metadata": {},
     "output_type": "display_data"
    }
   ],
   "source": [
    "## distal cCRE-gene\n",
    "A=read.csv('/oasis/tscc/scratch/gaw006/share/SCislet/cicerocCREs_gene_new.csv')\n",
    "R=read.csv('/oasis/tscc/scratch/gaw006/share/SCislet/cicerocCREs_gene_random_new.csv')\n",
    "\n",
    "c <- factor(c(rep('cicero',length(A$stat)),rep('random',length(A$stat))))\n",
    "val=c(A$stat,R$stat)\n",
    "sm.density.compare(val, c,xlab=\"Correlation\", bandwidths=9)\n",
    "\n",
    "colfill <- c(2:(1+length(levels(c))))\n",
    "legend(-1.05,1.05,levels(c),fill=colfill)"
   ]
  },
  {
   "cell_type": "code",
   "execution_count": 9,
   "metadata": {},
   "outputs": [
    {
     "data": {
      "text/html": [
       "<table>\n",
       "<thead><tr><th scope=col>X.1</th><th scope=col>X</th><th scope=col>pvalue</th><th scope=col>stat</th><th scope=col>FDR</th><th scope=col>PG_E</th><th scope=col>PG_gene</th></tr></thead>\n",
       "<tbody>\n",
       "\t<tr><td>1                </td><td>1                </td><td>0.02430914       </td><td>0.55923488       </td><td>0.1428555        </td><td>1:762658-763158  </td><td>SAMD11           </td></tr>\n",
       "\t<tr><td>2                </td><td>2                </td><td>0.35887252       </td><td>0.24576901       </td><td>0.5414431        </td><td>1:967849-968349  </td><td>SAMD11           </td></tr>\n",
       "\t<tr><td>3                </td><td>3                </td><td>0.77802214       </td><td>0.07658321       </td><td>0.8098361        </td><td>1:1070708-1071208</td><td>SAMD11           </td></tr>\n",
       "</tbody>\n",
       "</table>\n"
      ],
      "text/latex": [
       "\\begin{tabular}{r|lllllll}\n",
       " X.1 & X & pvalue & stat & FDR & PG\\_E & PG\\_gene\\\\\n",
       "\\hline\n",
       "\t 1                 & 1                 & 0.02430914        & 0.55923488        & 0.1428555         & 1:762658-763158   & SAMD11           \\\\\n",
       "\t 2                 & 2                 & 0.35887252        & 0.24576901        & 0.5414431         & 1:967849-968349   & SAMD11           \\\\\n",
       "\t 3                 & 3                 & 0.77802214        & 0.07658321        & 0.8098361         & 1:1070708-1071208 & SAMD11           \\\\\n",
       "\\end{tabular}\n"
      ],
      "text/markdown": [
       "\n",
       "X.1 | X | pvalue | stat | FDR | PG_E | PG_gene | \n",
       "|---|---|---|\n",
       "| 1                 | 1                 | 0.02430914        | 0.55923488        | 0.1428555         | 1:762658-763158   | SAMD11            | \n",
       "| 2                 | 2                 | 0.35887252        | 0.24576901        | 0.5414431         | 1:967849-968349   | SAMD11            | \n",
       "| 3                 | 3                 | 0.77802214        | 0.07658321        | 0.8098361         | 1:1070708-1071208 | SAMD11            | \n",
       "\n",
       "\n"
      ],
      "text/plain": [
       "  X.1 X pvalue     stat       FDR       PG_E              PG_gene\n",
       "1 1   1 0.02430914 0.55923488 0.1428555 1:762658-763158   SAMD11 \n",
       "2 2   2 0.35887252 0.24576901 0.5414431 1:967849-968349   SAMD11 \n",
       "3 3   3 0.77802214 0.07658321 0.8098361 1:1070708-1071208 SAMD11 "
      ]
     },
     "metadata": {},
     "output_type": "display_data"
    }
   ],
   "source": [
    "### FDR \n",
    "scc.test<- A$stat\n",
    "scc.permute<- R$stat\n",
    "fit.test<-fitdistr(scc.test, \"normal\") ## normal dist for total events \n",
    "fit.permute<-fitdistr(scc.permute, \"normal\") ## normal dist  for random events\n",
    "\n",
    "p1 = 1-pnorm(scc.test, mean=fit.test$estimate[1], sd=fit.test$estimate[2]) ## probability of total events with SCC > input scc\n",
    "p2 = 1-pnorm(scc.test, mean=fit.permute$estimate[1], sd=fit.permute$estimate[2]) ## probability of random events with SCC > input scc\n",
    "r = p2 / p1 ## FDR = p-random / p-total\n",
    "A$FDR=r\n",
    "A[1:3,]\n"
   ]
  },
  {
   "cell_type": "code",
   "execution_count": 10,
   "metadata": {},
   "outputs": [
    {
     "data": {
      "image/png": "[encoded data removed]",
      "text/plain": [
       "plot without title"
      ]
     },
     "metadata": {},
     "output_type": "display_data"
    }
   ],
   "source": [
    "## proximal cCRE-gene\n",
    "A=read.csv('/oasis/tscc/scratch/gaw006/share/SCislet/proximalcCREs_gene_new.csv')\n",
    "R=read.csv('/oasis/tscc/scratch/gaw006/share/SCislet/proximalcCREs_gene_random_new.csv')\n",
    "\n",
    "c <- factor(c(rep('proximal',length(A$stat)),rep('random',length(A$stat))))\n",
    "val=c(A$stat,R$stat)\n",
    "sm.density.compare(val, c,xlab=\"Correlation\", bandwidths=9)\n",
    "\n",
    "colfill <- c(2:(1+length(levels(c))))\n",
    "legend(-1.05,1.05,levels(c),fill=colfill)"
   ]
  },
  {
   "cell_type": "code",
   "execution_count": 11,
   "metadata": {},
   "outputs": [
    {
     "data": {
      "text/html": [
       "<table>\n",
       "<thead><tr><th scope=col>X.1</th><th scope=col>X</th><th scope=col>pvalue</th><th scope=col>stat</th><th scope=col>FDR</th><th scope=col>PG_E</th><th scope=col>PG_gene</th></tr></thead>\n",
       "<tbody>\n",
       "\t<tr><td>1                   </td><td>1                   </td><td>0.1099411           </td><td> 0.4150111          </td><td>0.3078006           </td><td>11:17859771-17860271</td><td>SERGEF              </td></tr>\n",
       "\t<tr><td>2                   </td><td>2                   </td><td>0.2916065           </td><td> 0.2810891          </td><td>0.4588003           </td><td>12:11927155-11927655</td><td>ETV6                </td></tr>\n",
       "\t<tr><td>3                   </td><td>3                   </td><td>0.1609005           </td><td>-0.3679177          </td><td>1.0082591           </td><td>1:22416755-22417255 </td><td>CDC42               </td></tr>\n",
       "</tbody>\n",
       "</table>\n"
      ],
      "text/latex": [
       "\\begin{tabular}{r|lllllll}\n",
       " X.1 & X & pvalue & stat & FDR & PG\\_E & PG\\_gene\\\\\n",
       "\\hline\n",
       "\t 1                    & 1                    & 0.1099411            &  0.4150111           & 0.3078006            & 11:17859771-17860271 & SERGEF              \\\\\n",
       "\t 2                    & 2                    & 0.2916065            &  0.2810891           & 0.4588003            & 12:11927155-11927655 & ETV6                \\\\\n",
       "\t 3                    & 3                    & 0.1609005            & -0.3679177           & 1.0082591            & 1:22416755-22417255  & CDC42               \\\\\n",
       "\\end{tabular}\n"
      ],
      "text/markdown": [
       "\n",
       "X.1 | X | pvalue | stat | FDR | PG_E | PG_gene | \n",
       "|---|---|---|\n",
       "| 1                    | 1                    | 0.1099411            |  0.4150111           | 0.3078006            | 11:17859771-17860271 | SERGEF               | \n",
       "| 2                    | 2                    | 0.2916065            |  0.2810891           | 0.4588003            | 12:11927155-11927655 | ETV6                 | \n",
       "| 3                    | 3                    | 0.1609005            | -0.3679177           | 1.0082591            | 1:22416755-22417255  | CDC42                | \n",
       "\n",
       "\n"
      ],
      "text/plain": [
       "  X.1 X pvalue    stat       FDR       PG_E                 PG_gene\n",
       "1 1   1 0.1099411  0.4150111 0.3078006 11:17859771-17860271 SERGEF \n",
       "2 2   2 0.2916065  0.2810891 0.4588003 12:11927155-11927655 ETV6   \n",
       "3 3   3 0.1609005 -0.3679177 1.0082591 1:22416755-22417255  CDC42  "
      ]
     },
     "metadata": {},
     "output_type": "display_data"
    }
   ],
   "source": [
    "### FDR \n",
    "scc.test<- A$stat\n",
    "scc.permute<- R$stat\n",
    "fit.test<-fitdistr(scc.test, \"normal\") ## normal dist for total events \n",
    "fit.permute<-fitdistr(scc.permute, \"normal\") ## normal dist  for random events\n",
    "\n",
    "p1 = 1-pnorm(scc.test, mean=fit.test$estimate[1], sd=fit.test$estimate[2]) ## probability of total events with SCC > input scc\n",
    "p2 = 1-pnorm(scc.test, mean=fit.permute$estimate[1], sd=fit.permute$estimate[2]) ## probability of random events with SCC > input scc\n",
    "r = p2 / p1 ## FDR = p-random / p-total\n",
    "A$FDR=r\n",
    "A[1:3,]"
   ]
  },
  {
   "cell_type": "code",
   "execution_count": 14,
   "metadata": {},
   "outputs": [
    {
     "data": {
      "image/png": "[encoded data removed]",
      "text/plain": [
       "plot without title"
      ]
     },
     "metadata": {},
     "output_type": "display_data"
    }
   ],
   "source": [
    "## TF-bindg cCRE  vs TF expression\n",
    "A=read.csv('/oasis/tscc/scratch/gaw006/share/SCislet/C_TF_new.csv')\n",
    "R=read.csv('/oasis/tscc/scratch/gaw006/share/SCislet/C_TF_random_new.csv')\n",
    "\n",
    "c <- factor(c(rep('TF-cCRE',length(A$stat)),rep('random',length(A$stat))))\n",
    "val=c(A$stat,R$stat)\n",
    "sm.density.compare(val, c,xlab=\"Correlation\", bandwidths=9)\n",
    "\n",
    "colfill <- c(2:(1+length(levels(c))))\n",
    "legend(-1.05,1.05,levels(c),fill=colfill)"
   ]
  },
  {
   "cell_type": "code",
   "execution_count": 15,
   "metadata": {},
   "outputs": [
    {
     "data": {
      "text/html": [
       "<table>\n",
       "<thead><tr><th scope=col>X.1</th><th scope=col>X</th><th scope=col>peak_ID</th><th scope=col>gene</th><th scope=col>pvalue</th><th scope=col>stat</th><th scope=col>FDR</th><th scope=col>scc.pos.fdr</th><th scope=col>scc.neg.fdr</th></tr></thead>\n",
       "<tbody>\n",
       "\t<tr><td>1                     </td><td>1                     </td><td>18:12009169-12009669  </td><td>IRF1                  </td><td>0.909540098           </td><td> 0.03090509           </td><td>0                     </td><td>0.94589867            </td><td>1.05034020            </td></tr>\n",
       "\t<tr><td>2                     </td><td>2                     </td><td>18:70535857-70536357  </td><td>IRF1                  </td><td>0.015138527           </td><td>-0.59455498           </td><td>0                     </td><td>1.08863647            </td><td>0.12290039            </td></tr>\n",
       "\t<tr><td>3                     </td><td>3                     </td><td>21:45285460-45285960  </td><td>IRF1                  </td><td>0.002824810           </td><td> 0.69462859           </td><td>0                     </td><td>0.06100404            </td><td>1.06662678            </td></tr>\n",
       "\t<tr><td>4                     </td><td>4                     </td><td>5:161494179-161494679 </td><td>IRF1                  </td><td>0.534551859           </td><td> 0.16777046           </td><td>0                     </td><td>0.72129198            </td><td>1.15996612            </td></tr>\n",
       "\t<tr><td>5                     </td><td>5                     </td><td>8:23711429-23711929   </td><td>IRF1                  </td><td>0.002662921           </td><td>-0.69757193           </td><td>0                     </td><td>1.05964140            </td><td>0.06252315            </td></tr>\n",
       "\t<tr><td>6                     </td><td>6                     </td><td>10:104405037-104405537</td><td>IRF1                  </td><td>0.006524479           </td><td> 0.64900680           </td><td>0                     </td><td>0.08331039            </td><td>1.07988679            </td></tr>\n",
       "</tbody>\n",
       "</table>\n"
      ],
      "text/latex": [
       "\\begin{tabular}{r|lllllllll}\n",
       " X.1 & X & peak\\_ID & gene & pvalue & stat & FDR & scc.pos.fdr & scc.neg.fdr\\\\\n",
       "\\hline\n",
       "\t 1                      & 1                      & 18:12009169-12009669   & IRF1                   & 0.909540098            &  0.03090509            & 0                      & 0.94589867             & 1.05034020            \\\\\n",
       "\t 2                      & 2                      & 18:70535857-70536357   & IRF1                   & 0.015138527            & -0.59455498            & 0                      & 1.08863647             & 0.12290039            \\\\\n",
       "\t 3                      & 3                      & 21:45285460-45285960   & IRF1                   & 0.002824810            &  0.69462859            & 0                      & 0.06100404             & 1.06662678            \\\\\n",
       "\t 4                      & 4                      & 5:161494179-161494679  & IRF1                   & 0.534551859            &  0.16777046            & 0                      & 0.72129198             & 1.15996612            \\\\\n",
       "\t 5                      & 5                      & 8:23711429-23711929    & IRF1                   & 0.002662921            & -0.69757193            & 0                      & 1.05964140             & 0.06252315            \\\\\n",
       "\t 6                      & 6                      & 10:104405037-104405537 & IRF1                   & 0.006524479            &  0.64900680            & 0                      & 0.08331039             & 1.07988679            \\\\\n",
       "\\end{tabular}\n"
      ],
      "text/markdown": [
       "\n",
       "X.1 | X | peak_ID | gene | pvalue | stat | FDR | scc.pos.fdr | scc.neg.fdr | \n",
       "|---|---|---|---|---|---|\n",
       "| 1                      | 1                      | 18:12009169-12009669   | IRF1                   | 0.909540098            |  0.03090509            | 0                      | 0.94589867             | 1.05034020             | \n",
       "| 2                      | 2                      | 18:70535857-70536357   | IRF1                   | 0.015138527            | -0.59455498            | 0                      | 1.08863647             | 0.12290039             | \n",
       "| 3                      | 3                      | 21:45285460-45285960   | IRF1                   | 0.002824810            |  0.69462859            | 0                      | 0.06100404             | 1.06662678             | \n",
       "| 4                      | 4                      | 5:161494179-161494679  | IRF1                   | 0.534551859            |  0.16777046            | 0                      | 0.72129198             | 1.15996612             | \n",
       "| 5                      | 5                      | 8:23711429-23711929    | IRF1                   | 0.002662921            | -0.69757193            | 0                      | 1.05964140             | 0.06252315             | \n",
       "| 6                      | 6                      | 10:104405037-104405537 | IRF1                   | 0.006524479            |  0.64900680            | 0                      | 0.08331039             | 1.07988679             | \n",
       "\n",
       "\n"
      ],
      "text/plain": [
       "  X.1 X peak_ID                gene pvalue      stat        FDR scc.pos.fdr\n",
       "1 1   1 18:12009169-12009669   IRF1 0.909540098  0.03090509 0   0.94589867 \n",
       "2 2   2 18:70535857-70536357   IRF1 0.015138527 -0.59455498 0   1.08863647 \n",
       "3 3   3 21:45285460-45285960   IRF1 0.002824810  0.69462859 0   0.06100404 \n",
       "4 4   4 5:161494179-161494679  IRF1 0.534551859  0.16777046 0   0.72129198 \n",
       "5 5   5 8:23711429-23711929    IRF1 0.002662921 -0.69757193 0   1.05964140 \n",
       "6 6   6 10:104405037-104405537 IRF1 0.006524479  0.64900680 0   0.08331039 \n",
       "  scc.neg.fdr\n",
       "1 1.05034020 \n",
       "2 0.12290039 \n",
       "3 1.06662678 \n",
       "4 1.15996612 \n",
       "5 0.06252315 \n",
       "6 1.07988679 "
      ]
     },
     "metadata": {},
     "output_type": "display_data"
    }
   ],
   "source": [
    "### FDR \n",
    "scc.test<- A$stat\n",
    "scc.permute<- R$stat\n",
    "fit.test<-fitdistr(scc.test, \"normal\") ## normal dist for total events \n",
    "fit.permute<-fitdistr(scc.permute, \"normal\") ## normal dist  for random events\n",
    "\n",
    "p1 = 1-pnorm(scc.test, mean=fit.test$estimate[1], sd=fit.test$estimate[2]) ## probability of total events with SCC > input scc\n",
    "p2 = 1-pnorm(scc.test, mean=fit.permute$estimate[1], sd=fit.permute$estimate[2]) ## probability of random events with SCC > input scc\n",
    "\n",
    "###positive corr FDR\n",
    "p1 = 1-pnorm(scc.test, mean=fit.test$estimate[1], sd=fit.test$estimate[2]) ## probability of total events with SCC > input scc\n",
    "p2 = 1-pnorm(scc.test, mean=fit.permute$estimate[1], sd=fit.permute$estimate[2]) ## probability of random events with SCC > input scc\n",
    "r1 = p2 / p1 ## FDR = p-random / p-total\n",
    "A$scc.pos.fdr=r1\n",
    "\n",
    "###negative corr FDR\n",
    "p3 = pnorm(scc.test, mean=fit.test$estimate[1], sd=fit.test$estimate[2]) ## probability of total events with SCC > input scc\n",
    "p4 = pnorm(scc.test, mean=fit.permute$estimate[1], sd=fit.permute$estimate[2]) ## probability of random events with SCC > input scc\n",
    "r2 = p4 / p3 ## FDR = p-random / p-total\n",
    "A$scc.neg.fdr=r2\n",
    "head(A)\n"
   ]
  }
 ],
 "metadata": {
  "kernelspec": {
   "display_name": "R [conda env:root] *",
   "language": "R",
   "name": "conda-root-r"
  },
  "language_info": {
   "codemirror_mode": "r",
   "file_extension": ".r",
   "mimetype": "text/x-r-source",
   "name": "R",
   "pygments_lexer": "r",
   "version": "3.5.1"
  }
 },
 "nbformat": 4,
 "nbformat_minor": 2
}
