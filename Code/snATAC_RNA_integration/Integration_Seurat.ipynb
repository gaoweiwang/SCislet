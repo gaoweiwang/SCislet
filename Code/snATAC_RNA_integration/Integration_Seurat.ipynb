{
 "cells": [
  {
   "cell_type": "code",
   "execution_count": 3,
   "metadata": {},
   "outputs": [],
   "source": [
    "library(dplyr)\n",
    "library(Seurat)\n",
    "library(ggplot2)\n",
    "library(sctransform)\n",
    "library(scater)\n",
    "library(reticulate)\n",
    "library('Biobase')\n",
    "library(pheatmap)\n",
    "library(gplots)\n",
    "library('hdf5r')"
   ]
  },
  {
   "cell_type": "code",
   "execution_count": 4,
   "metadata": {},
   "outputs": [
    {
     "data": {
      "text/plain": [
       "[1] ‘3.0.1’"
      ]
     },
     "metadata": {},
     "output_type": "display_data"
    }
   ],
   "source": [
    "packageVersion('Seurat')"
   ]
  },
  {
   "cell_type": "markdown",
   "metadata": {},
   "source": [
    "# Integration of SC-islet snATAC-seq and scRNA-seq data"
   ]
  },
  {
   "cell_type": "markdown",
   "metadata": {},
   "source": [
    "## scRNA-seq data"
   ]
  },
  {
   "cell_type": "code",
   "execution_count": 24,
   "metadata": {},
   "outputs": [
    {
     "data": {
      "text/html": [
       "<ol class=list-inline>\n",
       "\t<li>32738</li>\n",
       "\t<li>25686</li>\n",
       "</ol>\n"
      ],
      "text/latex": [
       "\\begin{enumerate*}\n",
       "\\item 32738\n",
       "\\item 25686\n",
       "\\end{enumerate*}\n"
      ],
      "text/markdown": [
       "1. 32738\n",
       "2. 25686\n",
       "\n",
       "\n"
      ],
      "text/plain": [
       "[1] 32738 25686"
      ]
     },
     "metadata": {},
     "output_type": "display_data"
    }
   ],
   "source": [
    "test.data <- Matrix::readMM('/oasis/tscc/scratch/gaw006/share/SCislet/SC_RNA.mtx')\n",
    "test.gene=read.table('/oasis/tscc/scratch/gaw006/share/SCislet/SC_RNA.genes')\n",
    "test.cell=read.table('/oasis/tscc/scratch/gaw006/share/SCislet/SC_RNA.barcodes')\n",
    "test.data=Matrix::t(test.data)\n",
    "\n",
    "rownames(test.data)=test.gene$V1\n",
    "colnames(test.data)=test.cell$V1\n",
    "dim(test.data)"
   ]
  },
  {
   "cell_type": "code",
   "execution_count": 33,
   "metadata": {},
   "outputs": [
    {
     "data": {
      "text/html": [
       "<ol class=list-inline>\n",
       "\t<li>32738</li>\n",
       "\t<li>25686</li>\n",
       "</ol>\n"
      ],
      "text/latex": [
       "\\begin{enumerate*}\n",
       "\\item 32738\n",
       "\\item 25686\n",
       "\\end{enumerate*}\n"
      ],
      "text/markdown": [
       "1. 32738\n",
       "2. 25686\n",
       "\n",
       "\n"
      ],
      "text/plain": [
       "[1] 32738 25686"
      ]
     },
     "metadata": {},
     "output_type": "display_data"
    },
    {
     "data": {
      "text/html": [
       "TRUE"
      ],
      "text/latex": [
       "TRUE"
      ],
      "text/markdown": [
       "TRUE"
      ],
      "text/plain": [
       "[1] TRUE"
      ]
     },
     "metadata": {},
     "output_type": "display_data"
    },
    {
     "name": "stderr",
     "output_type": "stream",
     "text": [
      "Warning message:\n",
      "“Feature names cannot have underscores ('_'), replacing with dashes ('-')”"
     ]
    },
    {
     "data": {
      "text/plain": [
       "An object of class Seurat \n",
       "32738 features across 25686 samples within 1 assay \n",
       "Active assay: RNA (32738 features)"
      ]
     },
     "metadata": {},
     "output_type": "display_data"
    }
   ],
   "source": [
    "#B=read.csv('/projects/sanderlab/gaowei/Han/merge_final/matrix/RNAprimary_anno.csv')\n",
    "B=read.csv('/oasis/tscc/scratch/gaw006/share/SCislet/SC_RNA_barcode.csv')\n",
    "\n",
    "barcode_all=as.character(B$index)\n",
    "barcode_temp=barcode_all\n",
    "B_temp=B\n",
    "\n",
    "test.data1=test.data[,colnames(test.data) %in% barcode_temp]\n",
    "dim(test.data1)\n",
    "all(colnames(test.data1)==as.character(B_temp$X))\n",
    "\n",
    "primary_RNA <- CreateSeuratObject(counts = test.data1, assay = \"RNA\", project = \"10x_RNA\")\n",
    "primary_RNA\n",
    "\n",
    "primary_RNA[[\"leiden\"]] <- as.character(B_temp$leiden)\n",
    "primary_RNA[[\"donor\"]] <- as.character(B_temp$donor)\n",
    "#primary_RNA[[\"anno\"]] <- as.character(B_temp$anno)\n",
    "#primary_RNA[[\"anno1\"]] <- as.character(B_temp$anno1)\n",
    "#primary_RNA[[\"anno2\"]] <- as.character(B_temp$anno2)"
   ]
  },
  {
   "cell_type": "code",
   "execution_count": 35,
   "metadata": {},
   "outputs": [],
   "source": [
    "primary_RNA[[\"percent.mt\"]] <- PercentageFeatureSet(primary_RNA, pattern = \"^MT-\")\n",
    "\n",
    "primary_RNA <- NormalizeData(primary_RNA, normalization.method = \"LogNormalize\", scale.factor = 10000)\n",
    "primary_RNA <- FindVariableFeatures(primary_RNA, selection.method = \"vst\", nfeatures = 2000)\n"
   ]
  },
  {
   "cell_type": "code",
   "execution_count": 36,
   "metadata": {},
   "outputs": [
    {
     "name": "stderr",
     "output_type": "stream",
     "text": [
      "Regressing out percent.mt, log_count\n",
      "Centering and scaling data matrix\n"
     ]
    }
   ],
   "source": [
    "primary_RNA@meta.data$log_count=log(primary_RNA@meta.data$nCount_RNA)\n",
    "primary_RNA <- ScaleData(primary_RNA, vars.to.regress = c(\"percent.mt\",\"log_count\"))\n"
   ]
  },
  {
   "cell_type": "code",
   "execution_count": 37,
   "metadata": {},
   "outputs": [
    {
     "name": "stdout",
     "output_type": "stream",
     "text": [
      "PC_ 1 \n",
      "Positive:  FN1, LDHB, GSTP1, CLDN6, FBLN1, SERPINF1, PHGDH, IGFBP2, ZFP36L1, KRT18 \n",
      "\t   COL2A1, LYPD6B, SOX9, SPINK1, NASP, MGST1, CNN3, APOE, CSRP2, MDK \n",
      "\t   REST, ANGPT2, FRZB, TUBB, KRT8, HMGB1, HMGA1, TSPAN6, MFAP2, S100A10 \n",
      "Negative:  CHGA, CRYBA2, NEUROD1, SCG3, MAFB, INS, PTPRN, STMN2, KCNJ6, SCG5 \n",
      "\t   SLC7A8, KIAA1244, KIF5C, KCNK16, INSM1, TMED8, ATP2A3, SYT7, CACNA1A, NKX2-2 \n",
      "\t   MAP1B, FEV, CBX6, CELF3, CELF4, MT-ND2, ACVR1C, SCGN, CPEB4, ERO1LB \n",
      "PC_ 2 \n",
      "Positive:  TTR, CLU, VEGFA, GCG, ASPH, ABCC8, INS, IFI6, SLC7A2, RPS6KA3 \n",
      "\t   NCAM1, DPP4, CBX6, KIAA1244, ISL1, LMO2, SLC7A8, SLC30A8, ETV1, FCGRT \n",
      "\t   KIAA1324, SPTSSB, RAB7L1, SLC22A17, CTSZ, UTRN, PAX6, PALLD, ZFP36L2, JUN \n",
      "Negative:  RBP1, NEUROG3, KRT19, APOA1, THSD4, PRDX1, HIST1H2BK, LRRTM1, TAGLN3, C9orf16 \n",
      "\t   RP11-123K19.1, IHH, AC068535.3, PAX4, AMIGO2, FAM181B, SCG2, C22orf42, NNAT, FABP5 \n",
      "\t   C11orf87, HPCA, CDKN1C, MDK, HEPACAM2, RGS2, HES6, BAIAP2L2, TUBA1A, GUCA2B \n",
      "PC_ 3 \n",
      "Positive:  B3GAT1, NKX6-1, MNX1, SGPL1, PTHLH, CBLN1, CRISPLD1, SYT13, LMX1A, PRPS2 \n",
      "\t   COL5A2, PALM2, KCNS3, ADRA2A, STC1, SERINC2, PKIA, INSM1, UBE2QL1, SLC18A1 \n",
      "\t   RASGRP1, CXCL12, EVL, THSD4, DDC, PODXL, ARPP21, TPH1, TP53INP1, MBNL2 \n",
      "Negative:  CLU, ALDH1A1, SERPINI1, DPP4, SPTSSB, ETV1, TTR, ASPH, ERO1LB, SERPINE2 \n",
      "\t   PTGER3, GLS, ARX, GCG, VTN, LY6H, RPS6KA3, AGT, AQP10, SEC11C \n",
      "\t   SLC6A19, LMO2, SERPINA1, C12orf75, FAM46A, ABHD15, SDC2, PLK2, FXYD3, F10 \n",
      "PC_ 4 \n",
      "Positive:  TOP2A, MKI67, UBE2C, CDK1, NUSAP1, DLGAP5, CENPF, GTSE1, BIRC5, TPX2 \n",
      "\t   ASPM, RRM2, NDC80, HMGB2, KIFC1, NCAPG, PBK, AURKB, PRC1, CCNB2 \n",
      "\t   FOXM1, CCNA2, KIF4A, KIF23, KIF2C, CENPE, KIF15, CDCA3, NUF2, SMC4 \n",
      "Negative:  COL5A2, GSTA1, FRZB, TPH1, ANGPT2, CCND2, ARHGAP24, ADAMTS9, NPY1R, CBLN1 \n",
      "\t   PALM2, MBNL2, APOE, FN1, TFF3, MNX1, KCNJ3, PDLIM1, LYPD1, PRSS1 \n",
      "\t   SOX4, B3GAT1, CDHR3, SYT13, MME, ANXA2, CDH6, SERPINB6, GSTA2, IFITM3 \n",
      "PC_ 5 \n",
      "Positive:  APOA2, TMOD1, VMP1, IGF2, NBEAL2, NEAT1, DUSP4, LDLRAP1, TNFRSF21, FAM20A \n",
      "\t   GAL, IRF2BP2, SURF4, C2CD4A, PLCE1, PITX1, IL6R, JADE1, ACVR1C, B3GALT1 \n",
      "\t   HS3ST5, C12orf75, CAPN2, RASSF4, PCP4, KCNK16, C10orf10, NR0B1, LPAR1, ISL1 \n",
      "Negative:  EEF1A2, CHGB, ADH6, CBLN4, NPW, F10, CHGA, TUBA4A, TIMP1, SIX2 \n",
      "\t   APLP1, CALY, FOSB, USH1C, TUBA1A, PARVB, FTCD, CAMK1D, GPX3, ASS1 \n",
      "\t   SCGN, FOS, FXYD2, RAB3C, COL5A2, SCG2, SNTG1, CYSTM1, DNAJC12, HOPX \n"
     ]
    }
   ],
   "source": [
    "primary_RNA <- RunPCA(primary_RNA, features = VariableFeatures(object = primary_RNA))"
   ]
  },
  {
   "cell_type": "code",
   "execution_count": 38,
   "metadata": {},
   "outputs": [
    {
     "name": "stderr",
     "output_type": "stream",
     "text": [
      "Computing nearest neighbor graph\n",
      "Computing SNN\n"
     ]
    },
    {
     "name": "stdout",
     "output_type": "stream",
     "text": [
      "Modularity Optimizer version 1.3.0 by Ludo Waltman and Nees Jan van Eck\n",
      "\n",
      "Number of nodes: 25686\n",
      "Number of edges: 875427\n",
      "\n",
      "Running Louvain algorithm...\n",
      "Maximum modularity in 10 random starts: 0.9291\n",
      "Number of communities: 15\n",
      "Elapsed time: 5 seconds\n"
     ]
    }
   ],
   "source": [
    "primary_RNA <- FindNeighbors(primary_RNA, dims = 1:20)\n",
    "primary_RNA <- FindClusters(primary_RNA, resolution = 0.5)\n",
    "primary_RNA <- RunUMAP(primary_RNA, dims = 1:20)"
   ]
  },
  {
   "cell_type": "code",
   "execution_count": 39,
   "metadata": {},
   "outputs": [
    {
     "data": {
      "text/html": [
       "<table>\n",
       "<thead><tr><th scope=col>index</th><th scope=col>UMAP_1</th><th scope=col>UMAP_2</th></tr></thead>\n",
       "<tbody>\n",
       "\t<tr><td>D11_AAACCCAAGAACTGAT-1</td><td>9.486988              </td><td> 7.8144700            </td></tr>\n",
       "\t<tr><td>D11_AAACCCAAGACATCAA-1</td><td>6.949167              </td><td>-0.5240627            </td></tr>\n",
       "\t<tr><td>D11_AAACCCACAAGAGATT-1</td><td>7.134753              </td><td>-0.5965236            </td></tr>\n",
       "</tbody>\n",
       "</table>\n"
      ],
      "text/latex": [
       "\\begin{tabular}{r|lll}\n",
       " index & UMAP\\_1 & UMAP\\_2\\\\\n",
       "\\hline\n",
       "\t D11\\_AAACCCAAGAACTGAT-1 & 9.486988                 &  7.8144700              \\\\\n",
       "\t D11\\_AAACCCAAGACATCAA-1 & 6.949167                 & -0.5240627              \\\\\n",
       "\t D11\\_AAACCCACAAGAGATT-1 & 7.134753                 & -0.5965236              \\\\\n",
       "\\end{tabular}\n"
      ],
      "text/markdown": [
       "\n",
       "index | UMAP_1 | UMAP_2 | \n",
       "|---|---|---|\n",
       "| D11_AAACCCAAGAACTGAT-1 | 9.486988               |  7.8144700             | \n",
       "| D11_AAACCCAAGACATCAA-1 | 6.949167               | -0.5240627             | \n",
       "| D11_AAACCCACAAGAGATT-1 | 7.134753               | -0.5965236             | \n",
       "\n",
       "\n"
      ],
      "text/plain": [
       "  index                  UMAP_1   UMAP_2    \n",
       "1 D11_AAACCCAAGAACTGAT-1 9.486988  7.8144700\n",
       "2 D11_AAACCCAAGACATCAA-1 6.949167 -0.5240627\n",
       "3 D11_AAACCCACAAGAGATT-1 7.134753 -0.5965236"
      ]
     },
     "metadata": {},
     "output_type": "display_data"
    }
   ],
   "source": [
    "U=read.csv('/oasis/tscc/scratch/gaw006/share/SCislet/SC_scRNA_UMAP.csv')\n",
    "U[1:3,]"
   ]
  },
  {
   "cell_type": "code",
   "execution_count": 40,
   "metadata": {},
   "outputs": [
    {
     "data": {
      "text/html": [
       "TRUE"
      ],
      "text/latex": [
       "TRUE"
      ],
      "text/markdown": [
       "TRUE"
      ],
      "text/plain": [
       "[1] TRUE"
      ]
     },
     "metadata": {},
     "output_type": "display_data"
    }
   ],
   "source": [
    "U=read.csv('/oasis/tscc/scratch/gaw006/share/SCislet/SC_scRNA_UMAP.csv')\n",
    "U_temp=U[as.character(U$index) %in% as.character(B_temp$index),]\n",
    "all(as.character(U_temp$index)==as.character(B_temp$index))\n",
    "\n",
    "primary_RNA[[\"UMAP1\"]] <- as.numeric(U_temp$UMAP_1)\n",
    "primary_RNA[[\"UMAP2\"]] <- as.numeric(U_temp$UMAP_2)"
   ]
  },
  {
   "cell_type": "code",
   "execution_count": 41,
   "metadata": {},
   "outputs": [],
   "source": [
    "primary_RNA@reductions$umap@cell.embeddings[,1] <- primary_RNA$UMAP1\n",
    "primary_RNA@reductions$umap@cell.embeddings[,2] <- primary_RNA$UMAP2"
   ]
  },
  {
   "cell_type": "code",
   "execution_count": 42,
   "metadata": {},
   "outputs": [],
   "source": [
    "#saveRDS(primary_RNA, file = \"/oasis/tscc/scratch/gaw006/share/Han/Seurat_obj/new/SC_RNA.rds\")"
   ]
  },
  {
   "cell_type": "markdown",
   "metadata": {},
   "source": [
    "## snATAC-seq data"
   ]
  },
  {
   "cell_type": "code",
   "execution_count": 43,
   "metadata": {},
   "outputs": [
    {
     "data": {
      "text/html": [
       "<ol class=list-inline>\n",
       "\t<li>462765</li>\n",
       "\t<li>65255</li>\n",
       "</ol>\n"
      ],
      "text/latex": [
       "\\begin{enumerate*}\n",
       "\\item 462765\n",
       "\\item 65255\n",
       "\\end{enumerate*}\n"
      ],
      "text/markdown": [
       "1. 462765\n",
       "2. 65255\n",
       "\n",
       "\n"
      ],
      "text/plain": [
       "[1] 462765  65255"
      ]
     },
     "metadata": {},
     "output_type": "display_data"
    }
   ],
   "source": [
    "test.data <- Matrix::readMM('/oasis/tscc/scratch/gaw006/share/SCislet/matrix_500/all_500_b.mtx')\n",
    "test.data@x[test.data@x > 0] <- 1\n",
    "test.gene=read.table('/oasis/tscc/scratch/gaw006/share/SCislet/all_500_b.genes')\n",
    "test.cell=read.table('/oasis/tscc/scratch/gaw006/share/SCislet/all_500_b.barcodes')\n",
    "test.data=Matrix::t(test.data)\n",
    "\n",
    "rownames(test.data)=test.gene$V1\n",
    "colnames(test.data)=test.cell$V1\n",
    "dim(test.data)\n"
   ]
  },
  {
   "cell_type": "code",
   "execution_count": 44,
   "metadata": {},
   "outputs": [
    {
     "data": {
      "text/html": [
       "<table>\n",
       "<thead><tr><th scope=col>index</th><th scope=col>batch</th><th scope=col>donor</th><th scope=col>duplicated_reads</th><th scope=col>frac_duplicated_reads</th><th scope=col>frac_mito_reads</th><th scope=col>frac_promoters_used</th><th scope=col>frac_reads_in_peaks</th><th scope=col>frac_reads_in_promoters</th><th scope=col>log10_n_counts</th><th scope=col>⋯</th><th scope=col>n_peaks</th><th scope=col>norm_log_counts</th><th scope=col>reads_in_peaks</th><th scope=col>reads_in_promoters</th><th scope=col>total_sequenced_reads</th><th scope=col>tss_used</th><th scope=col>unique_mito_reads</th><th scope=col>unique_usable_reads</th><th scope=col>leiden</th><th scope=col>anno</th></tr></thead>\n",
       "<tbody>\n",
       "\t<tr><td>MM129_AAACGAAAGGACTAGC</td><td>0                     </td><td>MM129                 </td><td>16642                 </td><td>0.3425972             </td><td>0.0006922375          </td><td>0.1715083             </td><td>0.7075160             </td><td>0.2442142             </td><td>4.512698              </td><td>⋯                     </td><td>15104                 </td><td>7.274705              </td><td>22470                 </td><td> 7756                 </td><td>48576                 </td><td>3318                  </td><td>22                    </td><td>31759                 </td><td>2                     </td><td>PP1                   </td></tr>\n",
       "\t<tr><td>MM129_AAACGAAAGGCAATTA</td><td>0                     </td><td>MM129                 </td><td>18778                 </td><td>0.2855579             </td><td>0.0001712072          </td><td>0.2160653             </td><td>0.6379631             </td><td>0.2196323             </td><td>4.677799              </td><td>⋯                     </td><td>21669                 </td><td>7.231448              </td><td>29805                 </td><td>10261                 </td><td>65759                 </td><td>4180                  </td><td> 8                    </td><td>46719                 </td><td>2                     </td><td>PP1                   </td></tr>\n",
       "\t<tr><td>MM129_AAACGAAAGGCTTCGC</td><td>0                     </td><td>MM129                 </td><td>16138                 </td><td>0.3735908             </td><td>0.0000000000          </td><td>0.1350667             </td><td>0.6681628             </td><td>0.2197411             </td><td>4.441224              </td><td>⋯                     </td><td>12965                 </td><td>7.292044              </td><td>18013                 </td><td> 5924                 </td><td>43197                 </td><td>2613                  </td><td> 0                    </td><td>26959                 </td><td>2                     </td><td>PP1                   </td></tr>\n",
       "</tbody>\n",
       "</table>\n"
      ],
      "text/latex": [
       "\\begin{tabular}{r|llllllllllllllllllllllll}\n",
       " index & batch & donor & duplicated\\_reads & frac\\_duplicated\\_reads & frac\\_mito\\_reads & frac\\_promoters\\_used & frac\\_reads\\_in\\_peaks & frac\\_reads\\_in\\_promoters & log10\\_n\\_counts & ⋯ & n\\_peaks & norm\\_log\\_counts & reads\\_in\\_peaks & reads\\_in\\_promoters & total\\_sequenced\\_reads & tss\\_used & unique\\_mito\\_reads & unique\\_usable\\_reads & leiden & anno\\\\\n",
       "\\hline\n",
       "\t MM129\\_AAACGAAAGGACTAGC & 0                        & MM129                    & 16642                    & 0.3425972                & 0.0006922375             & 0.1715083                & 0.7075160                & 0.2442142                & 4.512698                 & ⋯                        & 15104                    & 7.274705                 & 22470                    &  7756                    & 48576                    & 3318                     & 22                       & 31759                    & 2                        & PP1                     \\\\\n",
       "\t MM129\\_AAACGAAAGGCAATTA & 0                        & MM129                    & 18778                    & 0.2855579                & 0.0001712072             & 0.2160653                & 0.6379631                & 0.2196323                & 4.677799                 & ⋯                        & 21669                    & 7.231448                 & 29805                    & 10261                    & 65759                    & 4180                     &  8                       & 46719                    & 2                        & PP1                     \\\\\n",
       "\t MM129\\_AAACGAAAGGCTTCGC & 0                        & MM129                    & 16138                    & 0.3735908                & 0.0000000000             & 0.1350667                & 0.6681628                & 0.2197411                & 4.441224                 & ⋯                        & 12965                    & 7.292044                 & 18013                    &  5924                    & 43197                    & 2613                     &  0                       & 26959                    & 2                        & PP1                     \\\\\n",
       "\\end{tabular}\n"
      ],
      "text/markdown": [
       "\n",
       "index | batch | donor | duplicated_reads | frac_duplicated_reads | frac_mito_reads | frac_promoters_used | frac_reads_in_peaks | frac_reads_in_promoters | log10_n_counts | ⋯ | n_peaks | norm_log_counts | reads_in_peaks | reads_in_promoters | total_sequenced_reads | tss_used | unique_mito_reads | unique_usable_reads | leiden | anno | \n",
       "|---|---|---|\n",
       "| MM129_AAACGAAAGGACTAGC | 0                      | MM129                  | 16642                  | 0.3425972              | 0.0006922375           | 0.1715083              | 0.7075160              | 0.2442142              | 4.512698               | ⋯                      | 15104                  | 7.274705               | 22470                  |  7756                  | 48576                  | 3318                   | 22                     | 31759                  | 2                      | PP1                    | \n",
       "| MM129_AAACGAAAGGCAATTA | 0                      | MM129                  | 18778                  | 0.2855579              | 0.0001712072           | 0.2160653              | 0.6379631              | 0.2196323              | 4.677799               | ⋯                      | 21669                  | 7.231448               | 29805                  | 10261                  | 65759                  | 4180                   |  8                     | 46719                  | 2                      | PP1                    | \n",
       "| MM129_AAACGAAAGGCTTCGC | 0                      | MM129                  | 16138                  | 0.3735908              | 0.0000000000           | 0.1350667              | 0.6681628              | 0.2197411              | 4.441224               | ⋯                      | 12965                  | 7.292044               | 18013                  |  5924                  | 43197                  | 2613                   |  0                     | 26959                  | 2                      | PP1                    | \n",
       "\n",
       "\n"
      ],
      "text/plain": [
       "  index                  batch donor duplicated_reads frac_duplicated_reads\n",
       "1 MM129_AAACGAAAGGACTAGC 0     MM129 16642            0.3425972            \n",
       "2 MM129_AAACGAAAGGCAATTA 0     MM129 18778            0.2855579            \n",
       "3 MM129_AAACGAAAGGCTTCGC 0     MM129 16138            0.3735908            \n",
       "  frac_mito_reads frac_promoters_used frac_reads_in_peaks\n",
       "1 0.0006922375    0.1715083           0.7075160          \n",
       "2 0.0001712072    0.2160653           0.6379631          \n",
       "3 0.0000000000    0.1350667           0.6681628          \n",
       "  frac_reads_in_promoters log10_n_counts ⋯ n_peaks norm_log_counts\n",
       "1 0.2442142               4.512698       ⋯ 15104   7.274705       \n",
       "2 0.2196323               4.677799       ⋯ 21669   7.231448       \n",
       "3 0.2197411               4.441224       ⋯ 12965   7.292044       \n",
       "  reads_in_peaks reads_in_promoters total_sequenced_reads tss_used\n",
       "1 22470           7756              48576                 3318    \n",
       "2 29805          10261              65759                 4180    \n",
       "3 18013           5924              43197                 2613    \n",
       "  unique_mito_reads unique_usable_reads leiden anno\n",
       "1 22                31759               2      PP1 \n",
       "2  8                46719               2      PP1 \n",
       "3  0                26959               2      PP1 "
      ]
     },
     "metadata": {},
     "output_type": "display_data"
    },
    {
     "data": {
      "text/html": [
       "TRUE"
      ],
      "text/latex": [
       "TRUE"
      ],
      "text/markdown": [
       "TRUE"
      ],
      "text/plain": [
       "[1] TRUE"
      ]
     },
     "metadata": {},
     "output_type": "display_data"
    }
   ],
   "source": [
    "B=read.csv('/oasis/tscc/scratch/gaw006/share/SCislet/SC_ATAC_barcode.csv')\n",
    "barcode_all=as.character(B$index)\n",
    "B[1:3,]\n",
    "\n",
    "barcode_temp=colnames(test.data)\n",
    "B_temp=B[barcode_all %in% barcode_temp,]\n",
    "\n",
    "test.data=test.data[,colnames(test.data) %in% barcode_temp]\n",
    "all(colnames(test.data)==as.character(B_temp$index))\n"
   ]
  },
  {
   "cell_type": "code",
   "execution_count": 45,
   "metadata": {},
   "outputs": [
    {
     "data": {
      "text/html": [
       "'dgTMatrix'"
      ],
      "text/latex": [
       "'dgTMatrix'"
      ],
      "text/markdown": [
       "'dgTMatrix'"
      ],
      "text/plain": [
       "[1] \"dgTMatrix\"\n",
       "attr(,\"package\")\n",
       "[1] \"Matrix\""
      ]
     },
     "metadata": {},
     "output_type": "display_data"
    }
   ],
   "source": [
    "peak_name=rownames(test.data)\n",
    "peak_name1=peak_name\n",
    "for (i in 1:length(peak_name)){\n",
    "    peak_name1[i]=paste0('chr',peak_name[i])\n",
    "}\n",
    "rownames(test.data)=peak_name1\n",
    "activity.matrix <- CreateGeneActivityMatrix(peak.matrix = test.data, annotation.file = \"/projects/sanderlab/gaowei/reference/refdata-cellranger-atac-hg19-1.1.0/genes/genes.gtf\", \n",
    "   seq.levels = paste0('chr',c(1:22, \"X\", \"Y\")), upstream = 2000, verbose = TRUE)\n",
    "\n",
    "class(test.data)"
   ]
  },
  {
   "cell_type": "code",
   "execution_count": 46,
   "metadata": {},
   "outputs": [
    {
     "name": "stderr",
     "output_type": "stream",
     "text": [
      "Warning message:\n",
      "“Feature names cannot have underscores ('_'), replacing with dashes ('-')”"
     ]
    }
   ],
   "source": [
    "pbmc.atac <- CreateSeuratObject(counts = test.data, assay = \"ATAC\", project = \"10x_ATAC\")\n",
    "pbmc.atac[[\"ACTIVITY\"]] <- CreateAssayObject(counts = activity.matrix)\n"
   ]
  },
  {
   "cell_type": "code",
   "execution_count": 47,
   "metadata": {},
   "outputs": [
    {
     "data": {
      "text/html": [
       "TRUE"
      ],
      "text/latex": [
       "TRUE"
      ],
      "text/markdown": [
       "TRUE"
      ],
      "text/plain": [
       "[1] TRUE"
      ]
     },
     "metadata": {},
     "output_type": "display_data"
    }
   ],
   "source": [
    "U=read.csv('/oasis/tscc/scratch/gaw006/share/SCislet/SC_snATAC_UMAP.csv')\n",
    "U_temp=U[as.character(U$index) %in% as.character(B_temp$index),]\n",
    "all(as.character(U_temp$index)==as.character(B_temp$index))\n",
    "\n",
    "pbmc.atac[[\"UMAP1\"]] <- as.numeric(U_temp$UMAP_1)\n",
    "pbmc.atac[[\"UMAP2\"]] <- as.numeric(U_temp$UMAP_2)"
   ]
  },
  {
   "cell_type": "code",
   "execution_count": 48,
   "metadata": {},
   "outputs": [],
   "source": [
    "pbmc.atac[[\"leiden\"]] <- as.character(B_temp$leiden)\n",
    "pbmc.atac[[\"donor\"]] <- as.character(B_temp$donor)\n",
    "pbmc.atac[[\"anno\"]] <- as.character(B_temp$anno)\n"
   ]
  },
  {
   "cell_type": "code",
   "execution_count": 49,
   "metadata": {},
   "outputs": [
    {
     "name": "stderr",
     "output_type": "stream",
     "text": [
      "Centering and scaling data matrix\n"
     ]
    }
   ],
   "source": [
    "DefaultAssay(pbmc.atac) <- \"ACTIVITY\"\n",
    "pbmc.atac <- FindVariableFeatures(pbmc.atac)\n",
    "pbmc.atac <- NormalizeData(pbmc.atac)\n",
    "\n",
    "pbmc.atac <- ScaleData(pbmc.atac)"
   ]
  },
  {
   "cell_type": "code",
   "execution_count": 50,
   "metadata": {},
   "outputs": [
    {
     "name": "stderr",
     "output_type": "stream",
     "text": [
      "Performing TF-IDF normalization\n",
      "Running SVD on TF-IDF matrix\n",
      "Scaling cell embeddings\n"
     ]
    }
   ],
   "source": [
    "DefaultAssay(pbmc.atac) <- \"ATAC\"\n",
    "VariableFeatures(pbmc.atac) <- names(which(Matrix::rowSums(pbmc.atac) > 100))\n",
    "pbmc.atac <- RunLSI(pbmc.atac, n = 50, scale.max = NULL)\n",
    "pbmc.atac <- RunUMAP(pbmc.atac, reduction = \"lsi\", dims = 1:50)"
   ]
  },
  {
   "cell_type": "code",
   "execution_count": 51,
   "metadata": {},
   "outputs": [],
   "source": [
    "pbmc.atac@reductions$umap@cell.embeddings[,1] <- pbmc.atac$UMAP1\n",
    "pbmc.atac@reductions$umap@cell.embeddings[,2] <- pbmc.atac$UMAP2"
   ]
  },
  {
   "cell_type": "code",
   "execution_count": 52,
   "metadata": {},
   "outputs": [
    {
     "data": {
      "text/html": [
       "<table>\n",
       "<thead><tr><th></th><th scope=col>orig.ident</th><th scope=col>nCount_ATAC</th><th scope=col>nFeature_ATAC</th><th scope=col>nCount_ACTIVITY</th><th scope=col>nFeature_ACTIVITY</th><th scope=col>UMAP1</th><th scope=col>UMAP2</th><th scope=col>leiden</th><th scope=col>donor</th><th scope=col>anno</th></tr></thead>\n",
       "<tbody>\n",
       "\t<tr><th scope=row>MM129_AAACGAAAGGACTAGC</th><td>MM129    </td><td> 9865    </td><td> 9865    </td><td> 7615    </td><td>5688     </td><td>2.655208 </td><td>-13.55851</td><td>2        </td><td>MM129    </td><td>PP1      </td></tr>\n",
       "\t<tr><th scope=row>MM129_AAACGAAAGGCAATTA</th><td>MM129    </td><td>13087    </td><td>13087    </td><td>10046    </td><td>7016     </td><td>2.295038 </td><td>-12.92538</td><td>2        </td><td>MM129    </td><td>PP1      </td></tr>\n",
       "\t<tr><th scope=row>MM129_AAACGAAAGGCTTCGC</th><td>MM129    </td><td> 8093    </td><td> 8093    </td><td> 6096    </td><td>4766     </td><td>2.192755 </td><td>-12.37533</td><td>2        </td><td>MM129    </td><td>PP1      </td></tr>\n",
       "</tbody>\n",
       "</table>\n"
      ],
      "text/latex": [
       "\\begin{tabular}{r|llllllllll}\n",
       "  & orig.ident & nCount\\_ATAC & nFeature\\_ATAC & nCount\\_ACTIVITY & nFeature\\_ACTIVITY & UMAP1 & UMAP2 & leiden & donor & anno\\\\\n",
       "\\hline\n",
       "\tMM129\\_AAACGAAAGGACTAGC & MM129     &  9865     &  9865     &  7615     & 5688      & 2.655208  & -13.55851 & 2         & MM129     & PP1      \\\\\n",
       "\tMM129\\_AAACGAAAGGCAATTA & MM129     & 13087     & 13087     & 10046     & 7016      & 2.295038  & -12.92538 & 2         & MM129     & PP1      \\\\\n",
       "\tMM129\\_AAACGAAAGGCTTCGC & MM129     &  8093     &  8093     &  6096     & 4766      & 2.192755  & -12.37533 & 2         & MM129     & PP1      \\\\\n",
       "\\end{tabular}\n"
      ],
      "text/markdown": [
       "\n",
       "| <!--/--> | orig.ident | nCount_ATAC | nFeature_ATAC | nCount_ACTIVITY | nFeature_ACTIVITY | UMAP1 | UMAP2 | leiden | donor | anno | \n",
       "|---|---|---|\n",
       "| MM129_AAACGAAAGGACTAGC | MM129     |  9865     |  9865     |  7615     | 5688      | 2.655208  | -13.55851 | 2         | MM129     | PP1       | \n",
       "| MM129_AAACGAAAGGCAATTA | MM129     | 13087     | 13087     | 10046     | 7016      | 2.295038  | -12.92538 | 2         | MM129     | PP1       | \n",
       "| MM129_AAACGAAAGGCTTCGC | MM129     |  8093     |  8093     |  6096     | 4766      | 2.192755  | -12.37533 | 2         | MM129     | PP1       | \n",
       "\n",
       "\n"
      ],
      "text/plain": [
       "                       orig.ident nCount_ATAC nFeature_ATAC nCount_ACTIVITY\n",
       "MM129_AAACGAAAGGACTAGC MM129       9865        9865          7615          \n",
       "MM129_AAACGAAAGGCAATTA MM129      13087       13087         10046          \n",
       "MM129_AAACGAAAGGCTTCGC MM129       8093        8093          6096          \n",
       "                       nFeature_ACTIVITY UMAP1    UMAP2     leiden donor anno\n",
       "MM129_AAACGAAAGGACTAGC 5688              2.655208 -13.55851 2      MM129 PP1 \n",
       "MM129_AAACGAAAGGCAATTA 7016              2.295038 -12.92538 2      MM129 PP1 \n",
       "MM129_AAACGAAAGGCTTCGC 4766              2.192755 -12.37533 2      MM129 PP1 "
      ]
     },
     "metadata": {},
     "output_type": "display_data"
    }
   ],
   "source": [
    "pbmc.atac@meta.data[1:3,]"
   ]
  },
  {
   "cell_type": "code",
   "execution_count": 53,
   "metadata": {},
   "outputs": [],
   "source": [
    "#saveRDS(pbmc.atac, file = \"/oasis/tscc/scratch/gaw006/share/SCislet/SC_ATAC.rds\")"
   ]
  },
  {
   "cell_type": "markdown",
   "metadata": {},
   "source": [
    "## Integration"
   ]
  },
  {
   "cell_type": "code",
   "execution_count": 21,
   "metadata": {},
   "outputs": [],
   "source": [
    "pbmc.rna <- readRDS(\"/oasis/tscc/scratch/gaw006/share/SCislet/SC_RNA.rds\")\n",
    "pbmc.rna$tech <- \"rna\"\n",
    "\n",
    "pbmc.atac <- readRDS(\"/oasis/tscc/scratch/gaw006/share/SCislet/SC_ATAC.rds\")\n",
    "pbmc.atac$tech <- \"atac\"\n"
   ]
  },
  {
   "cell_type": "code",
   "execution_count": 23,
   "metadata": {},
   "outputs": [
    {
     "data": {
      "text/html": [
       "<table>\n",
       "<thead><tr><th></th><th scope=col>orig.ident</th><th scope=col>nCount_RNA</th><th scope=col>nFeature_RNA</th><th scope=col>leiden</th><th scope=col>donor</th><th scope=col>percent.mt</th><th scope=col>log_count</th><th scope=col>RNA_snn_res.0.5</th><th scope=col>seurat_clusters</th><th scope=col>UMAP1</th><th scope=col>UMAP2</th><th scope=col>tech</th><th scope=col>anno</th></tr></thead>\n",
       "<tbody>\n",
       "\t<tr><th scope=row>D11_AAACCCAAGAACTGAT-1</th><td>D11       </td><td>12415     </td><td>4120      </td><td>6         </td><td>D11       </td><td> 7.482884 </td><td>9.426661  </td><td>5         </td><td>5         </td><td>9.486988  </td><td> 7.8144700</td><td>rna       </td><td>anno_     </td></tr>\n",
       "\t<tr><th scope=row>D11_AAACCCAAGACATCAA-1</th><td>D11       </td><td>11961     </td><td>4105      </td><td>0         </td><td>D11       </td><td>14.171056 </td><td>9.389407  </td><td>1         </td><td>1         </td><td>6.949167  </td><td>-0.5240627</td><td>rna       </td><td>anno_     </td></tr>\n",
       "\t<tr><th scope=row>D11_AAACCCACAAGAGATT-1</th><td>D11       </td><td> 8323     </td><td>3238      </td><td>0         </td><td>D11       </td><td> 9.419680 </td><td>9.026778  </td><td>1         </td><td>1         </td><td>7.134753  </td><td>-0.5965236</td><td>rna       </td><td>anno_     </td></tr>\n",
       "</tbody>\n",
       "</table>\n"
      ],
      "text/latex": [
       "\\begin{tabular}{r|lllllllllllll}\n",
       "  & orig.ident & nCount\\_RNA & nFeature\\_RNA & leiden & donor & percent.mt & log\\_count & RNA\\_snn\\_res.0.5 & seurat\\_clusters & UMAP1 & UMAP2 & tech & anno\\\\\n",
       "\\hline\n",
       "\tD11\\_AAACCCAAGAACTGAT-1 & D11        & 12415      & 4120       & 6          & D11        &  7.482884  & 9.426661   & 5          & 5          & 9.486988   &  7.8144700 & rna        & anno\\_   \\\\\n",
       "\tD11\\_AAACCCAAGACATCAA-1 & D11        & 11961      & 4105       & 0          & D11        & 14.171056  & 9.389407   & 1          & 1          & 6.949167   & -0.5240627 & rna        & anno\\_   \\\\\n",
       "\tD11\\_AAACCCACAAGAGATT-1 & D11        &  8323      & 3238       & 0          & D11        &  9.419680  & 9.026778   & 1          & 1          & 7.134753   & -0.5965236 & rna        & anno\\_   \\\\\n",
       "\\end{tabular}\n"
      ],
      "text/markdown": [
       "\n",
       "| <!--/--> | orig.ident | nCount_RNA | nFeature_RNA | leiden | donor | percent.mt | log_count | RNA_snn_res.0.5 | seurat_clusters | UMAP1 | UMAP2 | tech | anno | \n",
       "|---|---|---|\n",
       "| D11_AAACCCAAGAACTGAT-1 | D11        | 12415      | 4120       | 6          | D11        |  7.482884  | 9.426661   | 5          | 5          | 9.486988   |  7.8144700 | rna        | anno_      | \n",
       "| D11_AAACCCAAGACATCAA-1 | D11        | 11961      | 4105       | 0          | D11        | 14.171056  | 9.389407   | 1          | 1          | 6.949167   | -0.5240627 | rna        | anno_      | \n",
       "| D11_AAACCCACAAGAGATT-1 | D11        |  8323      | 3238       | 0          | D11        |  9.419680  | 9.026778   | 1          | 1          | 7.134753   | -0.5965236 | rna        | anno_      | \n",
       "\n",
       "\n"
      ],
      "text/plain": [
       "                       orig.ident nCount_RNA nFeature_RNA leiden donor\n",
       "D11_AAACCCAAGAACTGAT-1 D11        12415      4120         6      D11  \n",
       "D11_AAACCCAAGACATCAA-1 D11        11961      4105         0      D11  \n",
       "D11_AAACCCACAAGAGATT-1 D11         8323      3238         0      D11  \n",
       "                       percent.mt log_count RNA_snn_res.0.5 seurat_clusters\n",
       "D11_AAACCCAAGAACTGAT-1  7.482884  9.426661  5               5              \n",
       "D11_AAACCCAAGACATCAA-1 14.171056  9.389407  1               1              \n",
       "D11_AAACCCACAAGAGATT-1  9.419680  9.026778  1               1              \n",
       "                       UMAP1    UMAP2      tech anno \n",
       "D11_AAACCCAAGAACTGAT-1 9.486988  7.8144700 rna  anno_\n",
       "D11_AAACCCAAGACATCAA-1 6.949167 -0.5240627 rna  anno_\n",
       "D11_AAACCCACAAGAGATT-1 7.134753 -0.5965236 rna  anno_"
      ]
     },
     "metadata": {},
     "output_type": "display_data"
    },
    {
     "data": {
      "text/html": [
       "<table>\n",
       "<thead><tr><th></th><th scope=col>orig.ident</th><th scope=col>nCount_ATAC</th><th scope=col>nFeature_ATAC</th><th scope=col>nCount_ACTIVITY</th><th scope=col>nFeature_ACTIVITY</th><th scope=col>UMAP1</th><th scope=col>UMAP2</th><th scope=col>leiden</th><th scope=col>donor</th><th scope=col>anno</th><th scope=col>tech</th></tr></thead>\n",
       "<tbody>\n",
       "\t<tr><th scope=row>MM129_AAACGAAAGGACTAGC</th><td>MM129    </td><td> 9865    </td><td> 9865    </td><td> 7615    </td><td>5688     </td><td>2.655208 </td><td>-13.55851</td><td>2        </td><td>MM129    </td><td>PP1      </td><td>atac     </td></tr>\n",
       "\t<tr><th scope=row>MM129_AAACGAAAGGCAATTA</th><td>MM129    </td><td>13087    </td><td>13087    </td><td>10046    </td><td>7016     </td><td>2.295038 </td><td>-12.92538</td><td>2        </td><td>MM129    </td><td>PP1      </td><td>atac     </td></tr>\n",
       "\t<tr><th scope=row>MM129_AAACGAAAGGCTTCGC</th><td>MM129    </td><td> 8093    </td><td> 8093    </td><td> 6096    </td><td>4766     </td><td>2.192755 </td><td>-12.37533</td><td>2        </td><td>MM129    </td><td>PP1      </td><td>atac     </td></tr>\n",
       "</tbody>\n",
       "</table>\n"
      ],
      "text/latex": [
       "\\begin{tabular}{r|lllllllllll}\n",
       "  & orig.ident & nCount\\_ATAC & nFeature\\_ATAC & nCount\\_ACTIVITY & nFeature\\_ACTIVITY & UMAP1 & UMAP2 & leiden & donor & anno & tech\\\\\n",
       "\\hline\n",
       "\tMM129\\_AAACGAAAGGACTAGC & MM129     &  9865     &  9865     &  7615     & 5688      & 2.655208  & -13.55851 & 2         & MM129     & PP1       & atac     \\\\\n",
       "\tMM129\\_AAACGAAAGGCAATTA & MM129     & 13087     & 13087     & 10046     & 7016      & 2.295038  & -12.92538 & 2         & MM129     & PP1       & atac     \\\\\n",
       "\tMM129\\_AAACGAAAGGCTTCGC & MM129     &  8093     &  8093     &  6096     & 4766      & 2.192755  & -12.37533 & 2         & MM129     & PP1       & atac     \\\\\n",
       "\\end{tabular}\n"
      ],
      "text/markdown": [
       "\n",
       "| <!--/--> | orig.ident | nCount_ATAC | nFeature_ATAC | nCount_ACTIVITY | nFeature_ACTIVITY | UMAP1 | UMAP2 | leiden | donor | anno | tech | \n",
       "|---|---|---|\n",
       "| MM129_AAACGAAAGGACTAGC | MM129     |  9865     |  9865     |  7615     | 5688      | 2.655208  | -13.55851 | 2         | MM129     | PP1       | atac      | \n",
       "| MM129_AAACGAAAGGCAATTA | MM129     | 13087     | 13087     | 10046     | 7016      | 2.295038  | -12.92538 | 2         | MM129     | PP1       | atac      | \n",
       "| MM129_AAACGAAAGGCTTCGC | MM129     |  8093     |  8093     |  6096     | 4766      | 2.192755  | -12.37533 | 2         | MM129     | PP1       | atac      | \n",
       "\n",
       "\n"
      ],
      "text/plain": [
       "                       orig.ident nCount_ATAC nFeature_ATAC nCount_ACTIVITY\n",
       "MM129_AAACGAAAGGACTAGC MM129       9865        9865          7615          \n",
       "MM129_AAACGAAAGGCAATTA MM129      13087       13087         10046          \n",
       "MM129_AAACGAAAGGCTTCGC MM129       8093        8093          6096          \n",
       "                       nFeature_ACTIVITY UMAP1    UMAP2     leiden donor anno\n",
       "MM129_AAACGAAAGGACTAGC 5688              2.655208 -13.55851 2      MM129 PP1 \n",
       "MM129_AAACGAAAGGCAATTA 7016              2.295038 -12.92538 2      MM129 PP1 \n",
       "MM129_AAACGAAAGGCTTCGC 4766              2.192755 -12.37533 2      MM129 PP1 \n",
       "                       tech\n",
       "MM129_AAACGAAAGGACTAGC atac\n",
       "MM129_AAACGAAAGGCAATTA atac\n",
       "MM129_AAACGAAAGGCTTCGC atac"
      ]
     },
     "metadata": {},
     "output_type": "display_data"
    }
   ],
   "source": [
    "pbmc.rna@meta.data$anno=paste0('anno_',pbmc.rna@meta.data$anno)\n",
    "pbmc.rna@meta.data[1:3,]\n",
    "pbmc.atac@meta.data[1:3,]"
   ]
  },
  {
   "cell_type": "code",
   "execution_count": 24,
   "metadata": {},
   "outputs": [
    {
     "name": "stderr",
     "output_type": "stream",
     "text": [
      "Warning message in RunCCA.Seurat(object1 = reference, object2 = query, features = features, :\n",
      "“Running CCA on different assays”Running CCA\n",
      "Merging objects\n",
      "Finding neighborhoods\n",
      "Finding anchors\n",
      "\tFound 39006 anchors\n",
      "Filtering anchors\n",
      "\tRetained 2485 anchors\n",
      "Extracting within-dataset neighbors\n",
      "Finding integration vectors\n",
      "Finding integration vector weights\n",
      "Predicting cell labels\n"
     ]
    }
   ],
   "source": [
    "transfer.anchors <- FindTransferAnchors(reference = pbmc.rna, query = pbmc.atac, features = VariableFeatures(object = pbmc.rna), \n",
    "    reference.assay = \"RNA\", query.assay = \"ACTIVITY\", reduction = \"cca\")\n",
    "\n",
    "leiden_ID=as.character(pbmc.rna@meta.data$leiden)\n",
    "leiden.predictions <- TransferData(anchorset = transfer.anchors, refdata = leiden_ID, weight.reduction = pbmc.atac[[\"lsi\"]])\n",
    "pbmc.atac <- AddMetaData(pbmc.atac, metadata = leiden.predictions)\n",
    "\n",
    "pbmc.atac@meta.data$predicted_leiden=pbmc.atac@meta.data$predicted.id\n"
   ]
  },
  {
   "cell_type": "code",
   "execution_count": 26,
   "metadata": {},
   "outputs": [
    {
     "name": "stderr",
     "output_type": "stream",
     "text": [
      "Finding integration vectors\n",
      "Finding integration vector weights\n",
      "Predicting cell labels\n"
     ]
    }
   ],
   "source": [
    "anno_ID=as.character(pbmc.rna@meta.data$anno)\n",
    "anno.predictions <- TransferData(anchorset = transfer.anchors, refdata = anno_ID, weight.reduction = pbmc.atac[[\"lsi\"]])\n",
    "pbmc.atac <- AddMetaData(pbmc.atac, metadata = anno.predictions)\n",
    "\n",
    "pbmc.atac@meta.data$predicted_anno=pbmc.atac@meta.data$predicted.id"
   ]
  },
  {
   "cell_type": "code",
   "execution_count": 27,
   "metadata": {},
   "outputs": [
    {
     "data": {
      "text/html": [
       "<table>\n",
       "<thead><tr><th></th><th scope=col>orig.ident</th><th scope=col>nCount_RNA</th><th scope=col>nFeature_RNA</th><th scope=col>leiden</th><th scope=col>donor</th><th scope=col>percent.mt</th><th scope=col>log_count</th><th scope=col>RNA_snn_res.0.5</th><th scope=col>seurat_clusters</th><th scope=col>UMAP1</th><th scope=col>UMAP2</th><th scope=col>tech</th><th scope=col>anno</th></tr></thead>\n",
       "<tbody>\n",
       "\t<tr><th scope=row>D11_AAACCCAAGAACTGAT-1</th><td>D11       </td><td>12415     </td><td>4120      </td><td>6         </td><td>D11       </td><td> 7.482884 </td><td>9.426661  </td><td>5         </td><td>5         </td><td>9.486988  </td><td> 7.8144700</td><td>rna       </td><td>anno_     </td></tr>\n",
       "\t<tr><th scope=row>D11_AAACCCAAGACATCAA-1</th><td>D11       </td><td>11961     </td><td>4105      </td><td>0         </td><td>D11       </td><td>14.171056 </td><td>9.389407  </td><td>1         </td><td>1         </td><td>6.949167  </td><td>-0.5240627</td><td>rna       </td><td>anno_     </td></tr>\n",
       "\t<tr><th scope=row>D11_AAACCCACAAGAGATT-1</th><td>D11       </td><td> 8323     </td><td>3238      </td><td>0         </td><td>D11       </td><td> 9.419680 </td><td>9.026778  </td><td>1         </td><td>1         </td><td>7.134753  </td><td>-0.5965236</td><td>rna       </td><td>anno_     </td></tr>\n",
       "</tbody>\n",
       "</table>\n"
      ],
      "text/latex": [
       "\\begin{tabular}{r|lllllllllllll}\n",
       "  & orig.ident & nCount\\_RNA & nFeature\\_RNA & leiden & donor & percent.mt & log\\_count & RNA\\_snn\\_res.0.5 & seurat\\_clusters & UMAP1 & UMAP2 & tech & anno\\\\\n",
       "\\hline\n",
       "\tD11\\_AAACCCAAGAACTGAT-1 & D11        & 12415      & 4120       & 6          & D11        &  7.482884  & 9.426661   & 5          & 5          & 9.486988   &  7.8144700 & rna        & anno\\_   \\\\\n",
       "\tD11\\_AAACCCAAGACATCAA-1 & D11        & 11961      & 4105       & 0          & D11        & 14.171056  & 9.389407   & 1          & 1          & 6.949167   & -0.5240627 & rna        & anno\\_   \\\\\n",
       "\tD11\\_AAACCCACAAGAGATT-1 & D11        &  8323      & 3238       & 0          & D11        &  9.419680  & 9.026778   & 1          & 1          & 7.134753   & -0.5965236 & rna        & anno\\_   \\\\\n",
       "\\end{tabular}\n"
      ],
      "text/markdown": [
       "\n",
       "| <!--/--> | orig.ident | nCount_RNA | nFeature_RNA | leiden | donor | percent.mt | log_count | RNA_snn_res.0.5 | seurat_clusters | UMAP1 | UMAP2 | tech | anno | \n",
       "|---|---|---|\n",
       "| D11_AAACCCAAGAACTGAT-1 | D11        | 12415      | 4120       | 6          | D11        |  7.482884  | 9.426661   | 5          | 5          | 9.486988   |  7.8144700 | rna        | anno_      | \n",
       "| D11_AAACCCAAGACATCAA-1 | D11        | 11961      | 4105       | 0          | D11        | 14.171056  | 9.389407   | 1          | 1          | 6.949167   | -0.5240627 | rna        | anno_      | \n",
       "| D11_AAACCCACAAGAGATT-1 | D11        |  8323      | 3238       | 0          | D11        |  9.419680  | 9.026778   | 1          | 1          | 7.134753   | -0.5965236 | rna        | anno_      | \n",
       "\n",
       "\n"
      ],
      "text/plain": [
       "                       orig.ident nCount_RNA nFeature_RNA leiden donor\n",
       "D11_AAACCCAAGAACTGAT-1 D11        12415      4120         6      D11  \n",
       "D11_AAACCCAAGACATCAA-1 D11        11961      4105         0      D11  \n",
       "D11_AAACCCACAAGAGATT-1 D11         8323      3238         0      D11  \n",
       "                       percent.mt log_count RNA_snn_res.0.5 seurat_clusters\n",
       "D11_AAACCCAAGAACTGAT-1  7.482884  9.426661  5               5              \n",
       "D11_AAACCCAAGACATCAA-1 14.171056  9.389407  1               1              \n",
       "D11_AAACCCACAAGAGATT-1  9.419680  9.026778  1               1              \n",
       "                       UMAP1    UMAP2      tech anno \n",
       "D11_AAACCCAAGAACTGAT-1 9.486988  7.8144700 rna  anno_\n",
       "D11_AAACCCAAGACATCAA-1 6.949167 -0.5240627 rna  anno_\n",
       "D11_AAACCCACAAGAGATT-1 7.134753 -0.5965236 rna  anno_"
      ]
     },
     "metadata": {},
     "output_type": "display_data"
    },
    {
     "data": {
      "text/html": [
       "<table>\n",
       "<thead><tr><th></th><th scope=col>orig.ident</th><th scope=col>nCount_ATAC</th><th scope=col>nFeature_ATAC</th><th scope=col>nCount_ACTIVITY</th><th scope=col>nFeature_ACTIVITY</th><th scope=col>UMAP1</th><th scope=col>UMAP2</th><th scope=col>leiden</th><th scope=col>donor</th><th scope=col>anno</th><th scope=col>⋯</th><th scope=col>prediction.score.2</th><th scope=col>prediction.score.7</th><th scope=col>prediction.score.5</th><th scope=col>prediction.score.11</th><th scope=col>prediction.score.12</th><th scope=col>prediction.score.10</th><th scope=col>prediction.score.max</th><th scope=col>predicted_leiden</th><th scope=col>prediction.score.anno_</th><th scope=col>predicted_anno</th></tr></thead>\n",
       "<tbody>\n",
       "\t<tr><th scope=row>MM129_AAACGAAAGGACTAGC</th><td>MM129      </td><td> 9865      </td><td> 9865      </td><td> 7615      </td><td>5688       </td><td>2.655208   </td><td>-13.55851  </td><td>2          </td><td>MM129      </td><td>PP1        </td><td>⋯          </td><td>0.059579196</td><td>0.000000000</td><td>0.08886732 </td><td>0.09063191 </td><td>0          </td><td>0          </td><td>1          </td><td>1          </td><td>1          </td><td>anno_      </td></tr>\n",
       "\t<tr><th scope=row>MM129_AAACGAAAGGCAATTA</th><td>MM129      </td><td>13087      </td><td>13087      </td><td>10046      </td><td>7016       </td><td>2.295038   </td><td>-12.92538  </td><td>2          </td><td>MM129      </td><td>PP1        </td><td>⋯          </td><td>0.003911255</td><td>0.000000000</td><td>0.03461148 </td><td>0.00000000 </td><td>0          </td><td>0          </td><td>1          </td><td>1          </td><td>1          </td><td>anno_      </td></tr>\n",
       "\t<tr><th scope=row>MM129_AAACGAAAGGCTTCGC</th><td>MM129      </td><td> 8093      </td><td> 8093      </td><td> 6096      </td><td>4766       </td><td>2.192755   </td><td>-12.37533  </td><td>2          </td><td>MM129      </td><td>PP1        </td><td>⋯          </td><td>0.001483252</td><td>0.001280583</td><td>0.01674647 </td><td>0.00000000 </td><td>0          </td><td>0          </td><td>1          </td><td>1          </td><td>1          </td><td>anno_      </td></tr>\n",
       "</tbody>\n",
       "</table>\n"
      ],
      "text/latex": [
       "\\begin{tabular}{r|lllllllllllllllllllllllllllll}\n",
       "  & orig.ident & nCount\\_ATAC & nFeature\\_ATAC & nCount\\_ACTIVITY & nFeature\\_ACTIVITY & UMAP1 & UMAP2 & leiden & donor & anno & ⋯ & prediction.score.2 & prediction.score.7 & prediction.score.5 & prediction.score.11 & prediction.score.12 & prediction.score.10 & prediction.score.max & predicted\\_leiden & prediction.score.anno\\_ & predicted\\_anno\\\\\n",
       "\\hline\n",
       "\tMM129\\_AAACGAAAGGACTAGC & MM129       &  9865       &  9865       &  7615       & 5688        & 2.655208    & -13.55851   & 2           & MM129       & PP1         & ⋯           & 0.059579196 & 0.000000000 & 0.08886732  & 0.09063191  & 0           & 0           & 1           & 1           & 1           & anno\\_    \\\\\n",
       "\tMM129\\_AAACGAAAGGCAATTA & MM129       & 13087       & 13087       & 10046       & 7016        & 2.295038    & -12.92538   & 2           & MM129       & PP1         & ⋯           & 0.003911255 & 0.000000000 & 0.03461148  & 0.00000000  & 0           & 0           & 1           & 1           & 1           & anno\\_    \\\\\n",
       "\tMM129\\_AAACGAAAGGCTTCGC & MM129       &  8093       &  8093       &  6096       & 4766        & 2.192755    & -12.37533   & 2           & MM129       & PP1         & ⋯           & 0.001483252 & 0.001280583 & 0.01674647  & 0.00000000  & 0           & 0           & 1           & 1           & 1           & anno\\_    \\\\\n",
       "\\end{tabular}\n"
      ],
      "text/markdown": [
       "\n",
       "| <!--/--> | orig.ident | nCount_ATAC | nFeature_ATAC | nCount_ACTIVITY | nFeature_ACTIVITY | UMAP1 | UMAP2 | leiden | donor | anno | ⋯ | prediction.score.2 | prediction.score.7 | prediction.score.5 | prediction.score.11 | prediction.score.12 | prediction.score.10 | prediction.score.max | predicted_leiden | prediction.score.anno_ | predicted_anno | \n",
       "|---|---|---|\n",
       "| MM129_AAACGAAAGGACTAGC | MM129       |  9865       |  9865       |  7615       | 5688        | 2.655208    | -13.55851   | 2           | MM129       | PP1         | ⋯           | 0.059579196 | 0.000000000 | 0.08886732  | 0.09063191  | 0           | 0           | 1           | 1           | 1           | anno_       | \n",
       "| MM129_AAACGAAAGGCAATTA | MM129       | 13087       | 13087       | 10046       | 7016        | 2.295038    | -12.92538   | 2           | MM129       | PP1         | ⋯           | 0.003911255 | 0.000000000 | 0.03461148  | 0.00000000  | 0           | 0           | 1           | 1           | 1           | anno_       | \n",
       "| MM129_AAACGAAAGGCTTCGC | MM129       |  8093       |  8093       |  6096       | 4766        | 2.192755    | -12.37533   | 2           | MM129       | PP1         | ⋯           | 0.001483252 | 0.001280583 | 0.01674647  | 0.00000000  | 0           | 0           | 1           | 1           | 1           | anno_       | \n",
       "\n",
       "\n"
      ],
      "text/plain": [
       "                       orig.ident nCount_ATAC nFeature_ATAC nCount_ACTIVITY\n",
       "MM129_AAACGAAAGGACTAGC MM129       9865        9865          7615          \n",
       "MM129_AAACGAAAGGCAATTA MM129      13087       13087         10046          \n",
       "MM129_AAACGAAAGGCTTCGC MM129       8093        8093          6096          \n",
       "                       nFeature_ACTIVITY UMAP1    UMAP2     leiden donor anno ⋯\n",
       "MM129_AAACGAAAGGACTAGC 5688              2.655208 -13.55851 2      MM129 PP1  ⋯\n",
       "MM129_AAACGAAAGGCAATTA 7016              2.295038 -12.92538 2      MM129 PP1  ⋯\n",
       "MM129_AAACGAAAGGCTTCGC 4766              2.192755 -12.37533 2      MM129 PP1  ⋯\n",
       "                       prediction.score.2 prediction.score.7 prediction.score.5\n",
       "MM129_AAACGAAAGGACTAGC 0.059579196        0.000000000        0.08886732        \n",
       "MM129_AAACGAAAGGCAATTA 0.003911255        0.000000000        0.03461148        \n",
       "MM129_AAACGAAAGGCTTCGC 0.001483252        0.001280583        0.01674647        \n",
       "                       prediction.score.11 prediction.score.12\n",
       "MM129_AAACGAAAGGACTAGC 0.09063191          0                  \n",
       "MM129_AAACGAAAGGCAATTA 0.00000000          0                  \n",
       "MM129_AAACGAAAGGCTTCGC 0.00000000          0                  \n",
       "                       prediction.score.10 prediction.score.max\n",
       "MM129_AAACGAAAGGACTAGC 0                   1                   \n",
       "MM129_AAACGAAAGGCAATTA 0                   1                   \n",
       "MM129_AAACGAAAGGCTTCGC 0                   1                   \n",
       "                       predicted_leiden prediction.score.anno_ predicted_anno\n",
       "MM129_AAACGAAAGGACTAGC 1                1                      anno_         \n",
       "MM129_AAACGAAAGGCAATTA 1                1                      anno_         \n",
       "MM129_AAACGAAAGGCTTCGC 1                1                      anno_         "
      ]
     },
     "metadata": {},
     "output_type": "display_data"
    }
   ],
   "source": [
    "pbmc.rna@meta.data[1:3,]\n",
    "pbmc.atac@meta.data[1:3,]"
   ]
  },
  {
   "cell_type": "code",
   "execution_count": 28,
   "metadata": {},
   "outputs": [
    {
     "name": "stderr",
     "output_type": "stream",
     "text": [
      "Finding integration vectors\n",
      "Finding integration vector weights\n",
      "Transfering 32738 features onto reference data\n"
     ]
    }
   ],
   "source": [
    "refdata <- GetAssayData(pbmc.rna, assay = \"RNA\", slot = \"data\")\n",
    "imputation <- TransferData(anchorset = transfer.anchors, refdata = refdata, weight.reduction = pbmc.atac[[\"lsi\"]],\n",
    "    dims = 2:30)\n",
    "pbmc.atac[[\"RNA\"]] <- imputation\n",
    "\n"
   ]
  },
  {
   "cell_type": "code",
   "execution_count": 29,
   "metadata": {},
   "outputs": [],
   "source": [
    "pbmc.atac@reductions$umap@cell.embeddings[,1] <- pbmc.atac$UMAP1\n",
    "pbmc.atac@reductions$umap@cell.embeddings[,2] <- pbmc.atac$UMAP2\n",
    "#saveRDS(pbmc.atac, file = \"/oasis/tscc/scratch/gaw006/share/SCislet/SC_ATAC_integration.rds\")"
   ]
  },
  {
   "cell_type": "markdown",
   "metadata": {},
   "source": [
    "# Integration of endocrine snATAC-seq and snRNA-seq data"
   ]
  },
  {
   "cell_type": "markdown",
   "metadata": {},
   "source": [
    "## snRNA-seq data"
   ]
  },
  {
   "cell_type": "code",
   "execution_count": 31,
   "metadata": {},
   "outputs": [
    {
     "data": {
      "text/html": [
       "<ol class=list-inline>\n",
       "\t<li>32738</li>\n",
       "\t<li>72905</li>\n",
       "</ol>\n"
      ],
      "text/latex": [
       "\\begin{enumerate*}\n",
       "\\item 32738\n",
       "\\item 72905\n",
       "\\end{enumerate*}\n"
      ],
      "text/markdown": [
       "1. 32738\n",
       "2. 72905\n",
       "\n",
       "\n"
      ],
      "text/plain": [
       "[1] 32738 72905"
      ]
     },
     "metadata": {},
     "output_type": "display_data"
    }
   ],
   "source": [
    "test.data <- Matrix::readMM('/oasis/tscc/scratch/gaw006/share/SCislet/RNA_all.mtx')\n",
    "test.gene=read.table('/oasis/tscc/scratch/gaw006/share/SCislet/RNA_all.genes')\n",
    "test.cell=read.table('/oasis/tscc/scratch/gaw006/share/SCislet/RNA_all.barcodes')\n",
    "test.data=Matrix::t(test.data)\n",
    "\n",
    "rownames(test.data)=test.gene$V1\n",
    "colnames(test.data)=test.cell$V1\n",
    "dim(test.data)"
   ]
  },
  {
   "cell_type": "code",
   "execution_count": 33,
   "metadata": {},
   "outputs": [
    {
     "data": {
      "text/html": [
       "<ol class=list-inline>\n",
       "\t<li>32738</li>\n",
       "\t<li>72905</li>\n",
       "</ol>\n"
      ],
      "text/latex": [
       "\\begin{enumerate*}\n",
       "\\item 32738\n",
       "\\item 72905\n",
       "\\end{enumerate*}\n"
      ],
      "text/markdown": [
       "1. 32738\n",
       "2. 72905\n",
       "\n",
       "\n"
      ],
      "text/plain": [
       "[1] 32738 72905"
      ]
     },
     "metadata": {},
     "output_type": "display_data"
    },
    {
     "data": {
      "text/html": [
       "TRUE"
      ],
      "text/latex": [
       "TRUE"
      ],
      "text/markdown": [
       "TRUE"
      ],
      "text/plain": [
       "[1] TRUE"
      ]
     },
     "metadata": {},
     "output_type": "display_data"
    },
    {
     "name": "stderr",
     "output_type": "stream",
     "text": [
      "Warning message:\n",
      "“Feature names cannot have underscores ('_'), replacing with dashes ('-')”"
     ]
    },
    {
     "data": {
      "text/plain": [
       "An object of class Seurat \n",
       "32738 features across 72905 samples within 1 assay \n",
       "Active assay: RNA (32738 features)"
      ]
     },
     "metadata": {},
     "output_type": "display_data"
    }
   ],
   "source": [
    "B=read.csv('/oasis/tscc/scratch/gaw006/share/SCislet/RNA_barcode.csv')\n",
    "barcode_all=as.character(B$X)\n",
    "barcode_temp=barcode_all\n",
    "B_temp=B\n",
    "\n",
    "test.data1=test.data[,colnames(test.data) %in% barcode_temp]\n",
    "dim(test.data1)\n",
    "all(colnames(test.data1)==as.character(B_temp$X))\n",
    "\n",
    "primary_RNA <- CreateSeuratObject(counts = test.data1, assay = \"RNA\", project = \"10x_RNA\")\n",
    "primary_RNA\n",
    "\n",
    "primary_RNA[[\"leiden\"]] <- as.character(B_temp$leiden)\n",
    "primary_RNA[[\"donor\"]] <- as.character(B_temp$donor)\n",
    "primary_RNA[[\"anno\"]] <- as.character(B_temp$anno)\n",
    "primary_RNA[[\"anno1\"]] <- as.character(B_temp$anno1)\n",
    "primary_RNA[[\"anno2\"]] <- as.character(B_temp$anno2)"
   ]
  },
  {
   "cell_type": "code",
   "execution_count": 34,
   "metadata": {},
   "outputs": [
    {
     "data": {
      "text/html": [
       "TRUE"
      ],
      "text/latex": [
       "TRUE"
      ],
      "text/markdown": [
       "TRUE"
      ],
      "text/plain": [
       "[1] TRUE"
      ]
     },
     "metadata": {},
     "output_type": "display_data"
    }
   ],
   "source": [
    "U=read.csv('/oasis/tscc/scratch/gaw006/share/SCislet/RNA_UMAP.csv')\n",
    "U_temp=U[as.character(U$X) %in% as.character(B_temp$X),]\n",
    "all(as.character(U_temp$X)==as.character(B_temp$X))\n",
    "\n",
    "primary_RNA[[\"UMAP1\"]] <- as.numeric(U_temp$UMAP_1)\n",
    "primary_RNA[[\"UMAP2\"]] <- as.numeric(U_temp$UMAP_2)"
   ]
  },
  {
   "cell_type": "code",
   "execution_count": 35,
   "metadata": {},
   "outputs": [],
   "source": [
    "primary_RNA[[\"percent.mt\"]] <- PercentageFeatureSet(primary_RNA, pattern = \"^MT-\")\n",
    "\n",
    "primary_RNA <- NormalizeData(primary_RNA, normalization.method = \"LogNormalize\", scale.factor = 10000)\n",
    "primary_RNA <- FindVariableFeatures(primary_RNA, selection.method = \"vst\", nfeatures = 2000)\n"
   ]
  },
  {
   "cell_type": "code",
   "execution_count": 36,
   "metadata": {},
   "outputs": [
    {
     "name": "stderr",
     "output_type": "stream",
     "text": [
      "Regressing out percent.mt, log_count\n",
      "Centering and scaling data matrix\n"
     ]
    }
   ],
   "source": [
    "primary_RNA@meta.data$log_count=log(primary_RNA@meta.data$nCount_RNA)\n",
    "primary_RNA <- ScaleData(primary_RNA, vars.to.regress = c(\"percent.mt\",\"log_count\"))\n"
   ]
  },
  {
   "cell_type": "code",
   "execution_count": 37,
   "metadata": {},
   "outputs": [
    {
     "name": "stdout",
     "output_type": "stream",
     "text": [
      "PC_ 1 \n",
      "Positive:  FTH1, RPL17, PPDPF, RPL36A, IGFBP7, HLA-B, SCGB2A1, S100A6, HSPB1, GABARAP \n",
      "\t   VGF, JUNB, SELM, ANXA2, EEF1G, REG1A, PRDX1, NUPR1L, SCG2, C15orf48 \n",
      "\t   RASD1, SIVA1, TMEM141, FXYD5, HLA-E, FXYD2, C6orf1, HOPX, FXYD3, S100A11 \n",
      "Negative:  DPP10, HS6ST3, PDE4D, SGCD, CACNA2D1, LSAMP, LARGE, ANKS1B, CTNNA2, PRICKLE2 \n",
      "\t   KCNH7, HECW2, MLLT3, ADARB2, FAT3, GALNT13, RP1-34H18.1, RP11-499F3.2, PLCL1, FAM155A \n",
      "\t   DDC, LINC00907, NEGR1, XKR4, CTC-340A15.2, CDKAL1, UNC5D, AFF3, ADCY2, RAB3C \n",
      "PC_ 2 \n",
      "Positive:  BRINP3, ARPP21, LMX1A, COL5A2, ARHGAP24, KCNK13, TTC29, AFF3, TPH1, ASTN2 \n",
      "\t   MME, GRIA1, SLC18A1, ZMAT4, ADAMTS9, ADAMTSL3, ZBTB7C, SH3RF3, SORCS3, RYR2 \n",
      "\t   SYT6, RERG, PLD5, ASIC2, KCNS3, CRISPLD1, RP11-547I7.1, STAC, ARHGAP20, ADARB2 \n",
      "Negative:  PDZD2, CNTN4, ASPH, SLC35F4, SOX6, ETV1, MAGI2, ST6GALNAC5, RP11-767I20.1, PSD3 \n",
      "\t   POU6F2, LPAR1, USH2A, LRRTM4, NRXN3, UNC5C, BTBD11, LPPR5, IQGAP2, ESRRG \n",
      "\t   LINC-PINT, CNTN5, DSCAML1, LINC01146, PITPNC1, SNED1, MAMLD1, SLC35F3, SORBS1, DPP4 \n",
      "PC_ 3 \n",
      "Positive:  RPL9, UQCR11-1, MARCKSL1, NEUROD1, NLRP1, INSM1, KCTD12, UCP2, C9orf16, IGF2 \n",
      "\t   H1FX, APOA2, KRT19, RP11-349A22.5, GAL, NDUFB8-1, RGS4, STARD10, NUDT3, C1QL1 \n",
      "\t   VWA5B2, ZNF703, STMN1, RASA4, SOX11, MAFB, HIST1H2BK, CTXN1, CNIH2, TMBIM4-1 \n",
      "Negative:  AC105402.4, HS6ST3, FAM155A, PDE4D, DHFR, GSN, RP1-34H18.1, NRG1, CAMK1D, HS3ST4 \n",
      "\t   DACH2, WWOX, MTRNR2L12, MACROD2, RALYL, MAGI2, CTNNA2, LINC01091, CNTNAP2, LMCD1-AS1 \n",
      "\t   CDHR3, LDLRAD4, LARGE, GLIS3, C10orf11, GRIK2, NCKAP5, UBE2E2, TMEM132D, DSCAM \n",
      "PC_ 4 \n",
      "Positive:  MEG3, MEG8, SYT16, AGBL4, GP2, FAM115C, FKBP5, XIST, AL132709.5, TFCP2L1 \n",
      "\t   PNLIPRP1, TRPM3, IFLTD1, LINC01099, SCD5, CTD-2277K2.1, MYT1L, ZNF385D, CPA2, RP11-909M7.3 \n",
      "\t   AL132709.8, CEL, HDAC9, RP11-141M1.3, GLIS3, CPB1, ZBTB16, LRRTM3, PITPNC1, RP11-123M6.2 \n",
      "Negative:  CHGA, HS3ST4, CRYBA2, GC, FXYD3, NRXN3, HLA-B, TM4SF4, VGF, FXYD5 \n",
      "\t   C19orf77, FABP5, SERPINA1, DPP4, HLA-E, RYR1, SPOCK3, SCG2, SERPINE2, MCTP1 \n",
      "\t   HS3ST5, PRKD1, USH2A, SPTSSB, PRICKLE1, LPPR1, PTPRT, DCC, C15orf48, RP11-767I20.1 \n",
      "PC_ 5 \n",
      "Positive:  CPA1, CELA3A, GC, CLPS, JUND, CELA3B, PRSS1, CTRB1, POU6F2, CPB1 \n",
      "\t   IRX2, PRSS3, CTRC, CPA2, PNLIP, SPINK1, CTRB2, PNLIPRP1, PTPRT, FAP \n",
      "\t   DPP4, TUBA1B, PLA2G1B, RP11-413B19.2, APOH, SLC35F4, VIM, NR3C2, RP11-767I20.1, PDK4 \n",
      "Negative:  HADH, PCDH7, IAPP, RP11-619J20.1, EEF1G, TMEM196, DLK1, PDX1, NPTX2, GABARAP \n",
      "\t   PDX1-AS1, RBP4, NACA2, SAMD11, PTCHD4, RPL17, ANKRD6, CDH8, MSS51, PCDH11X \n",
      "\t   EDARADD, SNRPN, PCP4, PRSS23, CCSER1, CACNA1E, ACVR1C, LEPREL1, PCSK1, HCN1 \n"
     ]
    }
   ],
   "source": [
    "primary_RNA <- RunPCA(primary_RNA, features = VariableFeatures(object = primary_RNA))"
   ]
  },
  {
   "cell_type": "code",
   "execution_count": 38,
   "metadata": {},
   "outputs": [
    {
     "name": "stderr",
     "output_type": "stream",
     "text": [
      "Computing nearest neighbor graph\n",
      "Computing SNN\n"
     ]
    },
    {
     "name": "stdout",
     "output_type": "stream",
     "text": [
      "Modularity Optimizer version 1.3.0 by Ludo Waltman and Nees Jan van Eck\n",
      "\n",
      "Number of nodes: 72905\n",
      "Number of edges: 2506317\n",
      "\n",
      "Running Louvain algorithm...\n",
      "Maximum modularity in 10 random starts: 0.9639\n",
      "Number of communities: 24\n",
      "Elapsed time: 24 seconds\n"
     ]
    }
   ],
   "source": [
    "primary_RNA <- FindNeighbors(primary_RNA, dims = 1:20)\n",
    "primary_RNA <- FindClusters(primary_RNA, resolution = 0.5)\n",
    "primary_RNA <- RunUMAP(primary_RNA, dims = 1:20)"
   ]
  },
  {
   "cell_type": "code",
   "execution_count": 39,
   "metadata": {},
   "outputs": [],
   "source": [
    "primary_RNA@reductions$umap@cell.embeddings[,1] <- primary_RNA$UMAP1\n",
    "primary_RNA@reductions$umap@cell.embeddings[,2] <- primary_RNA$UMAP2"
   ]
  },
  {
   "cell_type": "code",
   "execution_count": 40,
   "metadata": {},
   "outputs": [],
   "source": [
    "#saveRDS(primary_RNA, file = \"/oasis/tscc/scratch/gaw006/share/SCislet/endocrine_RNA.rds\")"
   ]
  },
  {
   "cell_type": "markdown",
   "metadata": {},
   "source": [
    "## snATAC-seq"
   ]
  },
  {
   "cell_type": "markdown",
   "metadata": {},
   "source": [
    "### SC-islet"
   ]
  },
  {
   "cell_type": "code",
   "execution_count": 35,
   "metadata": {},
   "outputs": [
    {
     "data": {
      "text/html": [
       "<ol class=list-inline>\n",
       "\t<li>441034</li>\n",
       "\t<li>42441</li>\n",
       "</ol>\n"
      ],
      "text/latex": [
       "\\begin{enumerate*}\n",
       "\\item 441034\n",
       "\\item 42441\n",
       "\\end{enumerate*}\n"
      ],
      "text/markdown": [
       "1. 441034\n",
       "2. 42441\n",
       "\n",
       "\n"
      ],
      "text/plain": [
       "[1] 441034  42441"
      ]
     },
     "metadata": {},
     "output_type": "display_data"
    }
   ],
   "source": [
    "test.data <- Matrix::readMM('/oasis/tscc/scratch/gaw006/share/SCislet/snATACD_all.mtx')\n",
    "test.data@x[test.data@x > 0] <- 1\n",
    "test.gene=read.table('/oasis/tscc/scratch/gaw006/share/SCislet/snATACD_all.regions')\n",
    "test.cell=read.table('/oasis/tscc/scratch/gaw006/share/SCislet/snATACD_all.barcodes')\n",
    "test.data=Matrix::t(test.data)\n",
    "\n",
    "rownames(test.data)=test.gene$V1\n",
    "colnames(test.data)=test.cell$V1\n",
    "dim(test.data)"
   ]
  },
  {
   "cell_type": "code",
   "execution_count": 36,
   "metadata": {},
   "outputs": [
    {
     "data": {
      "text/html": [
       "<table>\n",
       "<thead><tr><th scope=col>X</th><th scope=col>unique_usable_reads</th><th scope=col>total_sequenced_reads</th><th scope=col>duplicated_reads</th><th scope=col>unique_mito_reads</th><th scope=col>reads_in_peaks</th><th scope=col>reads_in_promoters</th><th scope=col>tss_used</th><th scope=col>frac_reads_in_peaks</th><th scope=col>frac_reads_in_promoters</th><th scope=col>⋯</th><th scope=col>donor</th><th scope=col>n_peaks</th><th scope=col>norm_log_counts</th><th scope=col>log10_usable_counts</th><th scope=col>log_usable_counts</th><th scope=col>leiden</th><th scope=col>test</th><th scope=col>anno</th><th scope=col>anno1</th><th scope=col>anno2</th></tr></thead>\n",
       "<tbody>\n",
       "\t<tr><td>JYH792_AAACGAAAGGGTCTGA</td><td>13435                  </td><td>15429                  </td><td>1904                   </td><td> 10                    </td><td>6039                   </td><td>2767                   </td><td>1278                   </td><td>0.4494976              </td><td>0.2059546              </td><td>⋯                      </td><td>JYH792                 </td><td>6353                   </td><td>7.272557               </td><td>3.292034               </td><td>7.580189               </td><td>1                      </td><td>1                      </td><td>biobank_beta           </td><td>PA_beta                </td><td>beta1                  </td></tr>\n",
       "\t<tr><td>JYH792_AAACGAAAGTAGACCG</td><td> 8771                  </td><td>11271                  </td><td>2062                   </td><td>269                    </td><td>3097                   </td><td>1431                   </td><td> 699                   </td><td>0.3530954              </td><td>0.1631513              </td><td>⋯                      </td><td>JYH792                 </td><td>4295                   </td><td>7.360786               </td><td>3.140194               </td><td>7.230563               </td><td>0                      </td><td>0                      </td><td>biobank_alpha          </td><td>PA_alpha               </td><td>alpha                  </td></tr>\n",
       "\t<tr><td>JYH792_AAACGAACAAATAGTG</td><td> 5179                  </td><td> 6491                  </td><td>1154                   </td><td> 89                    </td><td>2393                   </td><td>1099                   </td><td> 540                   </td><td>0.4620583              </td><td>0.2122031              </td><td>⋯                      </td><td>JYH792                 </td><td>2651                   </td><td>7.486815               </td><td>2.973128               </td><td>6.845880               </td><td>0                      </td><td>0                      </td><td>biobank_alpha          </td><td>PA_alpha               </td><td>alpha                  </td></tr>\n",
       "</tbody>\n",
       "</table>\n"
      ],
      "text/latex": [
       "\\begin{tabular}{r|lllllllllllllllllllllllllllll}\n",
       " X & unique\\_usable\\_reads & total\\_sequenced\\_reads & duplicated\\_reads & unique\\_mito\\_reads & reads\\_in\\_peaks & reads\\_in\\_promoters & tss\\_used & frac\\_reads\\_in\\_peaks & frac\\_reads\\_in\\_promoters & ⋯ & donor & n\\_peaks & norm\\_log\\_counts & log10\\_usable\\_counts & log\\_usable\\_counts & leiden & test & anno & anno1 & anno2\\\\\n",
       "\\hline\n",
       "\t JYH792\\_AAACGAAAGGGTCTGA & 13435                     & 15429                     & 1904                      &  10                       & 6039                      & 2767                      & 1278                      & 0.4494976                 & 0.2059546                 & ⋯                         & JYH792                    & 6353                      & 7.272557                  & 3.292034                  & 7.580189                  & 1                         & 1                         & biobank\\_beta            & PA\\_beta                 & beta1                    \\\\\n",
       "\t JYH792\\_AAACGAAAGTAGACCG &  8771                     & 11271                     & 2062                      & 269                       & 3097                      & 1431                      &  699                      & 0.3530954                 & 0.1631513                 & ⋯                         & JYH792                    & 4295                      & 7.360786                  & 3.140194                  & 7.230563                  & 0                         & 0                         & biobank\\_alpha           & PA\\_alpha                & alpha                    \\\\\n",
       "\t JYH792\\_AAACGAACAAATAGTG &  5179                     &  6491                     & 1154                      &  89                       & 2393                      & 1099                      &  540                      & 0.4620583                 & 0.2122031                 & ⋯                         & JYH792                    & 2651                      & 7.486815                  & 2.973128                  & 6.845880                  & 0                         & 0                         & biobank\\_alpha           & PA\\_alpha                & alpha                    \\\\\n",
       "\\end{tabular}\n"
      ],
      "text/markdown": [
       "\n",
       "X | unique_usable_reads | total_sequenced_reads | duplicated_reads | unique_mito_reads | reads_in_peaks | reads_in_promoters | tss_used | frac_reads_in_peaks | frac_reads_in_promoters | ⋯ | donor | n_peaks | norm_log_counts | log10_usable_counts | log_usable_counts | leiden | test | anno | anno1 | anno2 | \n",
       "|---|---|---|\n",
       "| JYH792_AAACGAAAGGGTCTGA | 13435                   | 15429                   | 1904                    |  10                     | 6039                    | 2767                    | 1278                    | 0.4494976               | 0.2059546               | ⋯                       | JYH792                  | 6353                    | 7.272557                | 3.292034                | 7.580189                | 1                       | 1                       | biobank_beta            | PA_beta                 | beta1                   | \n",
       "| JYH792_AAACGAAAGTAGACCG |  8771                   | 11271                   | 2062                    | 269                     | 3097                    | 1431                    |  699                    | 0.3530954               | 0.1631513               | ⋯                       | JYH792                  | 4295                    | 7.360786                | 3.140194                | 7.230563                | 0                       | 0                       | biobank_alpha           | PA_alpha                | alpha                   | \n",
       "| JYH792_AAACGAACAAATAGTG |  5179                   |  6491                   | 1154                    |  89                     | 2393                    | 1099                    |  540                    | 0.4620583               | 0.2122031               | ⋯                       | JYH792                  | 2651                    | 7.486815                | 2.973128                | 6.845880                | 0                       | 0                       | biobank_alpha           | PA_alpha                | alpha                   | \n",
       "\n",
       "\n"
      ],
      "text/plain": [
       "  X                       unique_usable_reads total_sequenced_reads\n",
       "1 JYH792_AAACGAAAGGGTCTGA 13435               15429                \n",
       "2 JYH792_AAACGAAAGTAGACCG  8771               11271                \n",
       "3 JYH792_AAACGAACAAATAGTG  5179                6491                \n",
       "  duplicated_reads unique_mito_reads reads_in_peaks reads_in_promoters tss_used\n",
       "1 1904              10               6039           2767               1278    \n",
       "2 2062             269               3097           1431                699    \n",
       "3 1154              89               2393           1099                540    \n",
       "  frac_reads_in_peaks frac_reads_in_promoters ⋯ donor  n_peaks norm_log_counts\n",
       "1 0.4494976           0.2059546               ⋯ JYH792 6353    7.272557       \n",
       "2 0.3530954           0.1631513               ⋯ JYH792 4295    7.360786       \n",
       "3 0.4620583           0.2122031               ⋯ JYH792 2651    7.486815       \n",
       "  log10_usable_counts log_usable_counts leiden test anno          anno1   \n",
       "1 3.292034            7.580189          1      1    biobank_beta  PA_beta \n",
       "2 3.140194            7.230563          0      0    biobank_alpha PA_alpha\n",
       "3 2.973128            6.845880          0      0    biobank_alpha PA_alpha\n",
       "  anno2\n",
       "1 beta1\n",
       "2 alpha\n",
       "3 alpha"
      ]
     },
     "metadata": {},
     "output_type": "display_data"
    },
    {
     "data": {
      "text/html": [
       "TRUE"
      ],
      "text/latex": [
       "TRUE"
      ],
      "text/markdown": [
       "TRUE"
      ],
      "text/plain": [
       "[1] TRUE"
      ]
     },
     "metadata": {},
     "output_type": "display_data"
    }
   ],
   "source": [
    "B=read.csv('/oasis/tscc/scratch/gaw006/share/SCislet/snATAC_annotation_han.csv')\n",
    "barcode_all=as.character(B$X)\n",
    "B[1:3,]\n",
    "\n",
    "barcode_temp=colnames(test.data)\n",
    "B_temp=B[barcode_all %in% barcode_temp,]\n",
    "\n",
    "test.data=test.data[,colnames(test.data) %in% barcode_temp]\n",
    "all(colnames(test.data)==as.character(B_temp$X))"
   ]
  },
  {
   "cell_type": "code",
   "execution_count": 37,
   "metadata": {},
   "outputs": [
    {
     "data": {
      "text/html": [
       "'dgTMatrix'"
      ],
      "text/latex": [
       "'dgTMatrix'"
      ],
      "text/markdown": [
       "'dgTMatrix'"
      ],
      "text/plain": [
       "[1] \"dgTMatrix\"\n",
       "attr(,\"package\")\n",
       "[1] \"Matrix\""
      ]
     },
     "metadata": {},
     "output_type": "display_data"
    }
   ],
   "source": [
    "peak_name=rownames(test.data)\n",
    "peak_name1=peak_name\n",
    "for (i in 1:length(peak_name)){\n",
    "    peak_name1[i]=paste0('chr',peak_name[i])\n",
    "}\n",
    "rownames(test.data)=peak_name1\n",
    "activity.matrix <- CreateGeneActivityMatrix(peak.matrix = test.data, annotation.file = \"/projects/sanderlab/gaowei/reference/refdata-cellranger-atac-hg19-1.1.0/genes/genes.gtf\", \n",
    "   seq.levels = paste0('chr',c(1:22, \"X\", \"Y\")), upstream = 2000, verbose = TRUE)\n",
    "\n",
    "class(test.data)"
   ]
  },
  {
   "cell_type": "code",
   "execution_count": 38,
   "metadata": {},
   "outputs": [
    {
     "name": "stderr",
     "output_type": "stream",
     "text": [
      "Warning message:\n",
      "“Feature names cannot have underscores ('_'), replacing with dashes ('-')”"
     ]
    }
   ],
   "source": [
    "pbmc.atac <- CreateSeuratObject(counts = test.data, assay = \"ATAC\", project = \"10x_ATAC\")\n",
    "pbmc.atac[[\"ACTIVITY\"]] <- CreateAssayObject(counts = activity.matrix)"
   ]
  },
  {
   "cell_type": "code",
   "execution_count": 39,
   "metadata": {},
   "outputs": [
    {
     "data": {
      "text/html": [
       "TRUE"
      ],
      "text/latex": [
       "TRUE"
      ],
      "text/markdown": [
       "TRUE"
      ],
      "text/plain": [
       "[1] TRUE"
      ]
     },
     "metadata": {},
     "output_type": "display_data"
    }
   ],
   "source": [
    "U=read.csv('/oasis/tscc/scratch/gaw006/share/SCislet/snATAC_endo_UMAP.csv')\n",
    "U_temp=U[as.character(U$X) %in% as.character(B_temp$X),]\n",
    "\n",
    "all(as.character(U_temp$X)==as.character(B_temp$X))\n",
    "\n",
    "pbmc.atac[[\"UMAP1\"]] <- as.numeric(U_temp$UMAP_1)\n",
    "pbmc.atac[[\"UMAP2\"]] <- as.numeric(U_temp$UMAP_2)"
   ]
  },
  {
   "cell_type": "code",
   "execution_count": 40,
   "metadata": {},
   "outputs": [],
   "source": [
    "pbmc.atac[[\"leiden\"]] <- as.character(B_temp$leiden)\n",
    "pbmc.atac[[\"donor\"]] <- as.character(B_temp$donor)\n",
    "pbmc.atac[[\"anno\"]] <- as.character(B_temp$anno)\n",
    "pbmc.atac[[\"anno1\"]] <- as.character(B_temp$anno1)\n",
    "pbmc.atac[[\"anno2\"]] <- as.character(B_temp$anno2)"
   ]
  },
  {
   "cell_type": "code",
   "execution_count": 41,
   "metadata": {},
   "outputs": [
    {
     "name": "stderr",
     "output_type": "stream",
     "text": [
      "Centering and scaling data matrix\n"
     ]
    }
   ],
   "source": [
    "DefaultAssay(pbmc.atac) <- \"ACTIVITY\"\n",
    "pbmc.atac <- FindVariableFeatures(pbmc.atac)\n",
    "pbmc.atac <- NormalizeData(pbmc.atac)\n",
    "\n",
    "pbmc.atac <- ScaleData(pbmc.atac)"
   ]
  },
  {
   "cell_type": "code",
   "execution_count": 42,
   "metadata": {},
   "outputs": [],
   "source": [
    "#saveRDS(pbmc.atac, file = \"/oasis/tscc/scratch/gaw006/share/SCislet/endocrine_ATAC_SCislet.rds\")"
   ]
  },
  {
   "cell_type": "markdown",
   "metadata": {},
   "source": [
    "## Childhood"
   ]
  },
  {
   "cell_type": "code",
   "execution_count": 54,
   "metadata": {},
   "outputs": [
    {
     "data": {
      "text/html": [
       "<ol class=list-inline>\n",
       "\t<li>441034</li>\n",
       "\t<li>6843</li>\n",
       "</ol>\n"
      ],
      "text/latex": [
       "\\begin{enumerate*}\n",
       "\\item 441034\n",
       "\\item 6843\n",
       "\\end{enumerate*}\n"
      ],
      "text/markdown": [
       "1. 441034\n",
       "2. 6843\n",
       "\n",
       "\n"
      ],
      "text/plain": [
       "[1] 441034   6843"
      ]
     },
     "metadata": {},
     "output_type": "display_data"
    }
   ],
   "source": [
    "test.data <- Matrix::readMM('/oasis/tscc/scratch/gaw006/share/SCislet/snATACJ_all.mtx')\n",
    "test.data@x[test.data@x > 0] <- 1\n",
    "test.gene=read.table('/oasis/tscc/scratch/gaw006/share/SCislet/snATACJ_all.regions')\n",
    "test.cell=read.table('/oasis/tscc/scratch/gaw006/share/SCislet/snATACJ_all.barcodes')\n",
    "test.data=Matrix::t(test.data)\n",
    "\n",
    "rownames(test.data)=test.gene$V1\n",
    "colnames(test.data)=test.cell$V1\n",
    "dim(test.data)"
   ]
  },
  {
   "cell_type": "code",
   "execution_count": 55,
   "metadata": {},
   "outputs": [
    {
     "data": {
      "text/html": [
       "<table>\n",
       "<thead><tr><th scope=col>X</th><th scope=col>unique_usable_reads</th><th scope=col>total_sequenced_reads</th><th scope=col>duplicated_reads</th><th scope=col>unique_mito_reads</th><th scope=col>reads_in_peaks</th><th scope=col>reads_in_promoters</th><th scope=col>tss_used</th><th scope=col>frac_reads_in_peaks</th><th scope=col>frac_reads_in_promoters</th><th scope=col>⋯</th><th scope=col>donor</th><th scope=col>n_peaks</th><th scope=col>norm_log_counts</th><th scope=col>log10_usable_counts</th><th scope=col>log_usable_counts</th><th scope=col>leiden</th><th scope=col>test</th><th scope=col>anno</th><th scope=col>anno1</th><th scope=col>anno2</th></tr></thead>\n",
       "<tbody>\n",
       "\t<tr><td>JYH792_AAACGAAAGGGTCTGA</td><td>13435                  </td><td>15429                  </td><td>1904                   </td><td> 10                    </td><td>6039                   </td><td>2767                   </td><td>1278                   </td><td>0.4494976              </td><td>0.2059546              </td><td>⋯                      </td><td>JYH792                 </td><td>6353                   </td><td>7.272557               </td><td>3.292034               </td><td>7.580189               </td><td>1                      </td><td>1                      </td><td>biobank_beta           </td><td>PA_beta                </td><td>beta1                  </td></tr>\n",
       "\t<tr><td>JYH792_AAACGAAAGTAGACCG</td><td> 8771                  </td><td>11271                  </td><td>2062                   </td><td>269                    </td><td>3097                   </td><td>1431                   </td><td> 699                   </td><td>0.3530954              </td><td>0.1631513              </td><td>⋯                      </td><td>JYH792                 </td><td>4295                   </td><td>7.360786               </td><td>3.140194               </td><td>7.230563               </td><td>0                      </td><td>0                      </td><td>biobank_alpha          </td><td>PA_alpha               </td><td>alpha                  </td></tr>\n",
       "\t<tr><td>JYH792_AAACGAACAAATAGTG</td><td> 5179                  </td><td> 6491                  </td><td>1154                   </td><td> 89                    </td><td>2393                   </td><td>1099                   </td><td> 540                   </td><td>0.4620583              </td><td>0.2122031              </td><td>⋯                      </td><td>JYH792                 </td><td>2651                   </td><td>7.486815               </td><td>2.973128               </td><td>6.845880               </td><td>0                      </td><td>0                      </td><td>biobank_alpha          </td><td>PA_alpha               </td><td>alpha                  </td></tr>\n",
       "</tbody>\n",
       "</table>\n"
      ],
      "text/latex": [
       "\\begin{tabular}{r|lllllllllllllllllllllllllllll}\n",
       " X & unique\\_usable\\_reads & total\\_sequenced\\_reads & duplicated\\_reads & unique\\_mito\\_reads & reads\\_in\\_peaks & reads\\_in\\_promoters & tss\\_used & frac\\_reads\\_in\\_peaks & frac\\_reads\\_in\\_promoters & ⋯ & donor & n\\_peaks & norm\\_log\\_counts & log10\\_usable\\_counts & log\\_usable\\_counts & leiden & test & anno & anno1 & anno2\\\\\n",
       "\\hline\n",
       "\t JYH792\\_AAACGAAAGGGTCTGA & 13435                     & 15429                     & 1904                      &  10                       & 6039                      & 2767                      & 1278                      & 0.4494976                 & 0.2059546                 & ⋯                         & JYH792                    & 6353                      & 7.272557                  & 3.292034                  & 7.580189                  & 1                         & 1                         & biobank\\_beta            & PA\\_beta                 & beta1                    \\\\\n",
       "\t JYH792\\_AAACGAAAGTAGACCG &  8771                     & 11271                     & 2062                      & 269                       & 3097                      & 1431                      &  699                      & 0.3530954                 & 0.1631513                 & ⋯                         & JYH792                    & 4295                      & 7.360786                  & 3.140194                  & 7.230563                  & 0                         & 0                         & biobank\\_alpha           & PA\\_alpha                & alpha                    \\\\\n",
       "\t JYH792\\_AAACGAACAAATAGTG &  5179                     &  6491                     & 1154                      &  89                       & 2393                      & 1099                      &  540                      & 0.4620583                 & 0.2122031                 & ⋯                         & JYH792                    & 2651                      & 7.486815                  & 2.973128                  & 6.845880                  & 0                         & 0                         & biobank\\_alpha           & PA\\_alpha                & alpha                    \\\\\n",
       "\\end{tabular}\n"
      ],
      "text/markdown": [
       "\n",
       "X | unique_usable_reads | total_sequenced_reads | duplicated_reads | unique_mito_reads | reads_in_peaks | reads_in_promoters | tss_used | frac_reads_in_peaks | frac_reads_in_promoters | ⋯ | donor | n_peaks | norm_log_counts | log10_usable_counts | log_usable_counts | leiden | test | anno | anno1 | anno2 | \n",
       "|---|---|---|\n",
       "| JYH792_AAACGAAAGGGTCTGA | 13435                   | 15429                   | 1904                    |  10                     | 6039                    | 2767                    | 1278                    | 0.4494976               | 0.2059546               | ⋯                       | JYH792                  | 6353                    | 7.272557                | 3.292034                | 7.580189                | 1                       | 1                       | biobank_beta            | PA_beta                 | beta1                   | \n",
       "| JYH792_AAACGAAAGTAGACCG |  8771                   | 11271                   | 2062                    | 269                     | 3097                    | 1431                    |  699                    | 0.3530954               | 0.1631513               | ⋯                       | JYH792                  | 4295                    | 7.360786                | 3.140194                | 7.230563                | 0                       | 0                       | biobank_alpha           | PA_alpha                | alpha                   | \n",
       "| JYH792_AAACGAACAAATAGTG |  5179                   |  6491                   | 1154                    |  89                     | 2393                    | 1099                    |  540                    | 0.4620583               | 0.2122031               | ⋯                       | JYH792                  | 2651                    | 7.486815                | 2.973128                | 6.845880                | 0                       | 0                       | biobank_alpha           | PA_alpha                | alpha                   | \n",
       "\n",
       "\n"
      ],
      "text/plain": [
       "  X                       unique_usable_reads total_sequenced_reads\n",
       "1 JYH792_AAACGAAAGGGTCTGA 13435               15429                \n",
       "2 JYH792_AAACGAAAGTAGACCG  8771               11271                \n",
       "3 JYH792_AAACGAACAAATAGTG  5179                6491                \n",
       "  duplicated_reads unique_mito_reads reads_in_peaks reads_in_promoters tss_used\n",
       "1 1904              10               6039           2767               1278    \n",
       "2 2062             269               3097           1431                699    \n",
       "3 1154              89               2393           1099                540    \n",
       "  frac_reads_in_peaks frac_reads_in_promoters ⋯ donor  n_peaks norm_log_counts\n",
       "1 0.4494976           0.2059546               ⋯ JYH792 6353    7.272557       \n",
       "2 0.3530954           0.1631513               ⋯ JYH792 4295    7.360786       \n",
       "3 0.4620583           0.2122031               ⋯ JYH792 2651    7.486815       \n",
       "  log10_usable_counts log_usable_counts leiden test anno          anno1   \n",
       "1 3.292034            7.580189          1      1    biobank_beta  PA_beta \n",
       "2 3.140194            7.230563          0      0    biobank_alpha PA_alpha\n",
       "3 2.973128            6.845880          0      0    biobank_alpha PA_alpha\n",
       "  anno2\n",
       "1 beta1\n",
       "2 alpha\n",
       "3 alpha"
      ]
     },
     "metadata": {},
     "output_type": "display_data"
    },
    {
     "data": {
      "text/html": [
       "TRUE"
      ],
      "text/latex": [
       "TRUE"
      ],
      "text/markdown": [
       "TRUE"
      ],
      "text/plain": [
       "[1] TRUE"
      ]
     },
     "metadata": {},
     "output_type": "display_data"
    }
   ],
   "source": [
    "B=read.csv('/oasis/tscc/scratch/gaw006/share/SCislet/snATAC_annotation_han.csv')\n",
    "barcode_all=as.character(B$X)\n",
    "B[1:3,]\n",
    "\n",
    "barcode_temp=colnames(test.data)\n",
    "B_temp=B[barcode_all %in% barcode_temp,]\n",
    "\n",
    "test.data=test.data[,colnames(test.data) %in% barcode_temp]\n",
    "all(colnames(test.data)==as.character(B_temp$X))"
   ]
  },
  {
   "cell_type": "code",
   "execution_count": 56,
   "metadata": {},
   "outputs": [
    {
     "data": {
      "text/html": [
       "'dgTMatrix'"
      ],
      "text/latex": [
       "'dgTMatrix'"
      ],
      "text/markdown": [
       "'dgTMatrix'"
      ],
      "text/plain": [
       "[1] \"dgTMatrix\"\n",
       "attr(,\"package\")\n",
       "[1] \"Matrix\""
      ]
     },
     "metadata": {},
     "output_type": "display_data"
    }
   ],
   "source": [
    "peak_name=rownames(test.data)\n",
    "peak_name1=peak_name\n",
    "for (i in 1:length(peak_name)){\n",
    "    peak_name1[i]=paste0('chr',peak_name[i])\n",
    "}\n",
    "rownames(test.data)=peak_name1\n",
    "activity.matrix <- CreateGeneActivityMatrix(peak.matrix = test.data, annotation.file = \"/projects/sanderlab/gaowei/reference/refdata-cellranger-atac-hg19-1.1.0/genes/genes.gtf\", \n",
    "   seq.levels = paste0('chr',c(1:22, \"X\", \"Y\")), upstream = 2000, verbose = TRUE)\n",
    "\n",
    "class(test.data)"
   ]
  },
  {
   "cell_type": "code",
   "execution_count": 57,
   "metadata": {},
   "outputs": [
    {
     "name": "stderr",
     "output_type": "stream",
     "text": [
      "Warning message:\n",
      "“Feature names cannot have underscores ('_'), replacing with dashes ('-')”"
     ]
    }
   ],
   "source": [
    "pbmc.atac <- CreateSeuratObject(counts = test.data, assay = \"ATAC\", project = \"10x_ATAC\")\n",
    "pbmc.atac[[\"ACTIVITY\"]] <- CreateAssayObject(counts = activity.matrix)"
   ]
  },
  {
   "cell_type": "code",
   "execution_count": 58,
   "metadata": {},
   "outputs": [
    {
     "data": {
      "text/html": [
       "TRUE"
      ],
      "text/latex": [
       "TRUE"
      ],
      "text/markdown": [
       "TRUE"
      ],
      "text/plain": [
       "[1] TRUE"
      ]
     },
     "metadata": {},
     "output_type": "display_data"
    }
   ],
   "source": [
    "U=read.csv('/oasis/tscc/scratch/gaw006/share/SCislet/snATAC_endo_UMAP.csv')\n",
    "U_temp=U[as.character(U$X) %in% as.character(B_temp$X),]\n",
    "\n",
    "all(as.character(U_temp$X)==as.character(B_temp$X))\n",
    "\n",
    "pbmc.atac[[\"UMAP1\"]] <- as.numeric(U_temp$UMAP_1)\n",
    "pbmc.atac[[\"UMAP2\"]] <- as.numeric(U_temp$UMAP_2)"
   ]
  },
  {
   "cell_type": "code",
   "execution_count": 59,
   "metadata": {},
   "outputs": [],
   "source": [
    "pbmc.atac[[\"leiden\"]] <- as.character(B_temp$leiden)\n",
    "pbmc.atac[[\"donor\"]] <- as.character(B_temp$donor)\n",
    "pbmc.atac[[\"anno\"]] <- as.character(B_temp$anno)\n",
    "pbmc.atac[[\"anno1\"]] <- as.character(B_temp$anno1)\n",
    "pbmc.atac[[\"anno2\"]] <- as.character(B_temp$anno2)"
   ]
  },
  {
   "cell_type": "code",
   "execution_count": 60,
   "metadata": {},
   "outputs": [
    {
     "name": "stderr",
     "output_type": "stream",
     "text": [
      "Centering and scaling data matrix\n"
     ]
    }
   ],
   "source": [
    "DefaultAssay(pbmc.atac) <- \"ACTIVITY\"\n",
    "pbmc.atac <- FindVariableFeatures(pbmc.atac)\n",
    "pbmc.atac <- NormalizeData(pbmc.atac)\n",
    "\n",
    "pbmc.atac <- ScaleData(pbmc.atac)"
   ]
  },
  {
   "cell_type": "code",
   "execution_count": 61,
   "metadata": {},
   "outputs": [],
   "source": [
    "#saveRDS(pbmc.atac, file = \"/oasis/tscc/scratch/gaw006/share/SCislet/endocrine_ATAC_Childhood.rds\")"
   ]
  },
  {
   "cell_type": "markdown",
   "metadata": {},
   "source": [
    "### Adult"
   ]
  },
  {
   "cell_type": "code",
   "execution_count": 25,
   "metadata": {},
   "outputs": [
    {
     "data": {
      "text/html": [
       "<ol class=list-inline>\n",
       "\t<li>441034</li>\n",
       "\t<li>64461</li>\n",
       "</ol>\n"
      ],
      "text/latex": [
       "\\begin{enumerate*}\n",
       "\\item 441034\n",
       "\\item 64461\n",
       "\\end{enumerate*}\n"
      ],
      "text/markdown": [
       "1. 441034\n",
       "2. 64461\n",
       "\n",
       "\n"
      ],
      "text/plain": [
       "[1] 441034  64461"
      ]
     },
     "metadata": {},
     "output_type": "display_data"
    }
   ],
   "source": [
    "test.data <- Matrix::readMM('/oasis/tscc/scratch/gaw006/share/SCislet/snATACP_all.mtx')\n",
    "test.data@x[test.data@x > 0] <- 1\n",
    "test.gene=read.table('/oasis/tscc/scratch/gaw006/share/SCislet/snATACP_all.regions')\n",
    "test.cell=read.table('/oasis/tscc/scratch/gaw006/share/SCislet/snATACP_all.barcodes')\n",
    "test.data=Matrix::t(test.data)\n",
    "\n",
    "rownames(test.data)=test.gene$V1\n",
    "colnames(test.data)=test.cell$V1\n",
    "dim(test.data)\n",
    "\n",
    "test.data=test.data[,1:20000]"
   ]
  },
  {
   "cell_type": "code",
   "execution_count": 26,
   "metadata": {},
   "outputs": [
    {
     "data": {
      "text/html": [
       "<table>\n",
       "<thead><tr><th scope=col>X</th><th scope=col>unique_usable_reads</th><th scope=col>total_sequenced_reads</th><th scope=col>duplicated_reads</th><th scope=col>unique_mito_reads</th><th scope=col>reads_in_peaks</th><th scope=col>reads_in_promoters</th><th scope=col>tss_used</th><th scope=col>frac_reads_in_peaks</th><th scope=col>frac_reads_in_promoters</th><th scope=col>⋯</th><th scope=col>donor</th><th scope=col>n_peaks</th><th scope=col>norm_log_counts</th><th scope=col>log10_usable_counts</th><th scope=col>log_usable_counts</th><th scope=col>leiden</th><th scope=col>test</th><th scope=col>anno</th><th scope=col>anno1</th><th scope=col>anno2</th></tr></thead>\n",
       "<tbody>\n",
       "\t<tr><td>JYH792_AAACGAAAGGGTCTGA</td><td>13435                  </td><td>15429                  </td><td>1904                   </td><td> 10                    </td><td>6039                   </td><td>2767                   </td><td>1278                   </td><td>0.4494976              </td><td>0.2059546              </td><td>⋯                      </td><td>JYH792                 </td><td>6353                   </td><td>7.272557               </td><td>3.292034               </td><td>7.580189               </td><td>1                      </td><td>1                      </td><td>biobank_beta           </td><td>PA_beta                </td><td>beta1                  </td></tr>\n",
       "\t<tr><td>JYH792_AAACGAAAGTAGACCG</td><td> 8771                  </td><td>11271                  </td><td>2062                   </td><td>269                    </td><td>3097                   </td><td>1431                   </td><td> 699                   </td><td>0.3530954              </td><td>0.1631513              </td><td>⋯                      </td><td>JYH792                 </td><td>4295                   </td><td>7.360786               </td><td>3.140194               </td><td>7.230563               </td><td>0                      </td><td>0                      </td><td>biobank_alpha          </td><td>PA_alpha               </td><td>alpha                  </td></tr>\n",
       "\t<tr><td>JYH792_AAACGAACAAATAGTG</td><td> 5179                  </td><td> 6491                  </td><td>1154                   </td><td> 89                    </td><td>2393                   </td><td>1099                   </td><td> 540                   </td><td>0.4620583              </td><td>0.2122031              </td><td>⋯                      </td><td>JYH792                 </td><td>2651                   </td><td>7.486815               </td><td>2.973128               </td><td>6.845880               </td><td>0                      </td><td>0                      </td><td>biobank_alpha          </td><td>PA_alpha               </td><td>alpha                  </td></tr>\n",
       "</tbody>\n",
       "</table>\n"
      ],
      "text/latex": [
       "\\begin{tabular}{r|lllllllllllllllllllllllllllll}\n",
       " X & unique\\_usable\\_reads & total\\_sequenced\\_reads & duplicated\\_reads & unique\\_mito\\_reads & reads\\_in\\_peaks & reads\\_in\\_promoters & tss\\_used & frac\\_reads\\_in\\_peaks & frac\\_reads\\_in\\_promoters & ⋯ & donor & n\\_peaks & norm\\_log\\_counts & log10\\_usable\\_counts & log\\_usable\\_counts & leiden & test & anno & anno1 & anno2\\\\\n",
       "\\hline\n",
       "\t JYH792\\_AAACGAAAGGGTCTGA & 13435                     & 15429                     & 1904                      &  10                       & 6039                      & 2767                      & 1278                      & 0.4494976                 & 0.2059546                 & ⋯                         & JYH792                    & 6353                      & 7.272557                  & 3.292034                  & 7.580189                  & 1                         & 1                         & biobank\\_beta            & PA\\_beta                 & beta1                    \\\\\n",
       "\t JYH792\\_AAACGAAAGTAGACCG &  8771                     & 11271                     & 2062                      & 269                       & 3097                      & 1431                      &  699                      & 0.3530954                 & 0.1631513                 & ⋯                         & JYH792                    & 4295                      & 7.360786                  & 3.140194                  & 7.230563                  & 0                         & 0                         & biobank\\_alpha           & PA\\_alpha                & alpha                    \\\\\n",
       "\t JYH792\\_AAACGAACAAATAGTG &  5179                     &  6491                     & 1154                      &  89                       & 2393                      & 1099                      &  540                      & 0.4620583                 & 0.2122031                 & ⋯                         & JYH792                    & 2651                      & 7.486815                  & 2.973128                  & 6.845880                  & 0                         & 0                         & biobank\\_alpha           & PA\\_alpha                & alpha                    \\\\\n",
       "\\end{tabular}\n"
      ],
      "text/markdown": [
       "\n",
       "X | unique_usable_reads | total_sequenced_reads | duplicated_reads | unique_mito_reads | reads_in_peaks | reads_in_promoters | tss_used | frac_reads_in_peaks | frac_reads_in_promoters | ⋯ | donor | n_peaks | norm_log_counts | log10_usable_counts | log_usable_counts | leiden | test | anno | anno1 | anno2 | \n",
       "|---|---|---|\n",
       "| JYH792_AAACGAAAGGGTCTGA | 13435                   | 15429                   | 1904                    |  10                     | 6039                    | 2767                    | 1278                    | 0.4494976               | 0.2059546               | ⋯                       | JYH792                  | 6353                    | 7.272557                | 3.292034                | 7.580189                | 1                       | 1                       | biobank_beta            | PA_beta                 | beta1                   | \n",
       "| JYH792_AAACGAAAGTAGACCG |  8771                   | 11271                   | 2062                    | 269                     | 3097                    | 1431                    |  699                    | 0.3530954               | 0.1631513               | ⋯                       | JYH792                  | 4295                    | 7.360786                | 3.140194                | 7.230563                | 0                       | 0                       | biobank_alpha           | PA_alpha                | alpha                   | \n",
       "| JYH792_AAACGAACAAATAGTG |  5179                   |  6491                   | 1154                    |  89                     | 2393                    | 1099                    |  540                    | 0.4620583               | 0.2122031               | ⋯                       | JYH792                  | 2651                    | 7.486815                | 2.973128                | 6.845880                | 0                       | 0                       | biobank_alpha           | PA_alpha                | alpha                   | \n",
       "\n",
       "\n"
      ],
      "text/plain": [
       "  X                       unique_usable_reads total_sequenced_reads\n",
       "1 JYH792_AAACGAAAGGGTCTGA 13435               15429                \n",
       "2 JYH792_AAACGAAAGTAGACCG  8771               11271                \n",
       "3 JYH792_AAACGAACAAATAGTG  5179                6491                \n",
       "  duplicated_reads unique_mito_reads reads_in_peaks reads_in_promoters tss_used\n",
       "1 1904              10               6039           2767               1278    \n",
       "2 2062             269               3097           1431                699    \n",
       "3 1154              89               2393           1099                540    \n",
       "  frac_reads_in_peaks frac_reads_in_promoters ⋯ donor  n_peaks norm_log_counts\n",
       "1 0.4494976           0.2059546               ⋯ JYH792 6353    7.272557       \n",
       "2 0.3530954           0.1631513               ⋯ JYH792 4295    7.360786       \n",
       "3 0.4620583           0.2122031               ⋯ JYH792 2651    7.486815       \n",
       "  log10_usable_counts log_usable_counts leiden test anno          anno1   \n",
       "1 3.292034            7.580189          1      1    biobank_beta  PA_beta \n",
       "2 3.140194            7.230563          0      0    biobank_alpha PA_alpha\n",
       "3 2.973128            6.845880          0      0    biobank_alpha PA_alpha\n",
       "  anno2\n",
       "1 beta1\n",
       "2 alpha\n",
       "3 alpha"
      ]
     },
     "metadata": {},
     "output_type": "display_data"
    },
    {
     "data": {
      "text/html": [
       "TRUE"
      ],
      "text/latex": [
       "TRUE"
      ],
      "text/markdown": [
       "TRUE"
      ],
      "text/plain": [
       "[1] TRUE"
      ]
     },
     "metadata": {},
     "output_type": "display_data"
    }
   ],
   "source": [
    "B=read.csv('/oasis/tscc/scratch/gaw006/share/SCislet/snATAC_annotation_han.csv')\n",
    "barcode_all=as.character(B$X)\n",
    "B[1:3,]\n",
    "\n",
    "barcode_temp=colnames(test.data)\n",
    "B_temp=B[barcode_all %in% barcode_temp,]\n",
    "\n",
    "test.data=test.data[,colnames(test.data) %in% barcode_temp]\n",
    "all(colnames(test.data)==as.character(B_temp$X))"
   ]
  },
  {
   "cell_type": "code",
   "execution_count": 27,
   "metadata": {},
   "outputs": [
    {
     "data": {
      "text/html": [
       "'dgTMatrix'"
      ],
      "text/latex": [
       "'dgTMatrix'"
      ],
      "text/markdown": [
       "'dgTMatrix'"
      ],
      "text/plain": [
       "[1] \"dgTMatrix\"\n",
       "attr(,\"package\")\n",
       "[1] \"Matrix\""
      ]
     },
     "metadata": {},
     "output_type": "display_data"
    }
   ],
   "source": [
    "peak_name=rownames(test.data)\n",
    "peak_name1=peak_name\n",
    "for (i in 1:length(peak_name)){\n",
    "    peak_name1[i]=paste0('chr',peak_name[i])\n",
    "}\n",
    "rownames(test.data)=peak_name1\n",
    "activity.matrix <- CreateGeneActivityMatrix(peak.matrix = test.data, annotation.file = \"/projects/sanderlab/gaowei/reference/refdata-cellranger-atac-hg19-1.1.0/genes/genes.gtf\", \n",
    "   seq.levels = paste0('chr',c(1:22, \"X\", \"Y\")), upstream = 2000, verbose = TRUE)\n",
    "\n",
    "class(test.data)\n"
   ]
  },
  {
   "cell_type": "code",
   "execution_count": 28,
   "metadata": {},
   "outputs": [
    {
     "name": "stderr",
     "output_type": "stream",
     "text": [
      "Warning message:\n",
      "“Feature names cannot have underscores ('_'), replacing with dashes ('-')”"
     ]
    }
   ],
   "source": [
    "pbmc.atac <- CreateSeuratObject(counts = test.data, assay = \"ATAC\", project = \"10x_ATAC\")\n",
    "pbmc.atac[[\"ACTIVITY\"]] <- CreateAssayObject(counts = activity.matrix)"
   ]
  },
  {
   "cell_type": "code",
   "execution_count": 29,
   "metadata": {},
   "outputs": [
    {
     "data": {
      "text/html": [
       "TRUE"
      ],
      "text/latex": [
       "TRUE"
      ],
      "text/markdown": [
       "TRUE"
      ],
      "text/plain": [
       "[1] TRUE"
      ]
     },
     "metadata": {},
     "output_type": "display_data"
    }
   ],
   "source": [
    "U=read.csv('/oasis/tscc/scratch/gaw006/share/SCislet/snATAC_endo_UMAP.csv')\n",
    "U_temp=U[as.character(U$X) %in% as.character(B_temp$X),]\n",
    "\n",
    "all(as.character(U_temp$X)==as.character(B_temp$X))\n",
    "\n",
    "pbmc.atac[[\"UMAP1\"]] <- as.numeric(U_temp$UMAP_1)\n",
    "pbmc.atac[[\"UMAP2\"]] <- as.numeric(U_temp$UMAP_2)"
   ]
  },
  {
   "cell_type": "code",
   "execution_count": 30,
   "metadata": {},
   "outputs": [],
   "source": [
    "pbmc.atac[[\"leiden\"]] <- as.character(B_temp$leiden)\n",
    "pbmc.atac[[\"donor\"]] <- as.character(B_temp$donor)\n",
    "pbmc.atac[[\"anno\"]] <- as.character(B_temp$anno)\n",
    "pbmc.atac[[\"anno1\"]] <- as.character(B_temp$anno1)\n",
    "pbmc.atac[[\"anno2\"]] <- as.character(B_temp$anno2)"
   ]
  },
  {
   "cell_type": "code",
   "execution_count": 31,
   "metadata": {},
   "outputs": [
    {
     "name": "stderr",
     "output_type": "stream",
     "text": [
      "Centering and scaling data matrix\n"
     ]
    }
   ],
   "source": [
    "DefaultAssay(pbmc.atac) <- \"ACTIVITY\"\n",
    "pbmc.atac <- FindVariableFeatures(pbmc.atac)\n",
    "pbmc.atac <- NormalizeData(pbmc.atac)\n",
    "\n",
    "pbmc.atac <- ScaleData(pbmc.atac)"
   ]
  },
  {
   "cell_type": "code",
   "execution_count": 32,
   "metadata": {},
   "outputs": [
    {
     "name": "stderr",
     "output_type": "stream",
     "text": [
      "Performing TF-IDF normalization\n",
      "Running SVD on TF-IDF matrix\n",
      "Scaling cell embeddings\n"
     ]
    }
   ],
   "source": [
    "DefaultAssay(pbmc.atac) <- \"ATAC\"\n",
    "VariableFeatures(pbmc.atac) <- names(which(Matrix::rowSums(pbmc.atac) > 100))\n",
    "pbmc.atac <- RunLSI(pbmc.atac, n = 50, scale.max = NULL)\n",
    "pbmc.atac <- RunUMAP(pbmc.atac, reduction = \"lsi\", dims = 1:50)"
   ]
  },
  {
   "cell_type": "code",
   "execution_count": 33,
   "metadata": {},
   "outputs": [],
   "source": [
    "pbmc.atac@reductions$umap@cell.embeddings[,1] <- pbmc.atac$UMAP1\n",
    "pbmc.atac@reductions$umap@cell.embeddings[,2] <- pbmc.atac$UMAP2"
   ]
  },
  {
   "cell_type": "code",
   "execution_count": 34,
   "metadata": {},
   "outputs": [],
   "source": [
    "#saveRDS(pbmc.atac, file = \"/oasis/tscc/scratch/gaw006/share/SCislet/endocrine_ATAC_Adult.rds\")"
   ]
  },
  {
   "cell_type": "markdown",
   "metadata": {},
   "source": [
    "## integration"
   ]
  },
  {
   "cell_type": "code",
   "execution_count": 17,
   "metadata": {},
   "outputs": [],
   "source": [
    "pbmc.rna <- readRDS(\"/oasis/tscc/scratch/gaw006/share/SCislet/endocrine_RNA.rds\")\n",
    "pbmc.rna$tech <- \"rna\"\n",
    "\n",
    "pbmc.atac <- readRDS(\"/oasis/tscc/scratch/gaw006/share/SCislet/endocrine_ATAC_Adult.rds\")\n",
    "pbmc.atac$tech <- \"atac\""
   ]
  },
  {
   "cell_type": "code",
   "execution_count": 18,
   "metadata": {},
   "outputs": [
    {
     "data": {
      "text/html": [
       "<table>\n",
       "<thead><tr><th></th><th scope=col>orig.ident</th><th scope=col>nCount_RNA</th><th scope=col>nFeature_RNA</th><th scope=col>leiden</th><th scope=col>donor</th><th scope=col>anno</th><th scope=col>anno1</th><th scope=col>anno2</th><th scope=col>UMAP1</th><th scope=col>UMAP2</th><th scope=col>percent.mt</th><th scope=col>log_count</th><th scope=col>RNA_snn_res.0.5</th><th scope=col>seurat_clusters</th><th scope=col>tech</th></tr></thead>\n",
       "<tbody>\n",
       "\t<tr><th scope=row>2Y_scRNAseq_rep1_AAAGGGCTCCGTAGGC-1</th><td>2Y              </td><td>16523           </td><td>3256            </td><td>0               </td><td>2Y_scRNAseq_rep1</td><td>anno_gamma      </td><td>anno1_gamma_J   </td><td>anno2_alpha     </td><td> 0.03960709     </td><td>0.03791767      </td><td>4.472553        </td><td> 9.712509       </td><td>19              </td><td>19              </td><td>rna             </td></tr>\n",
       "\t<tr><th scope=row>2Y_scRNAseq_rep1_AAAGTCCTCATTACGG-1</th><td>2Y              </td><td>29804           </td><td>3695            </td><td>1               </td><td>2Y_scRNAseq_rep1</td><td>anno_beta       </td><td>anno1_beta_J    </td><td>anno2_beta1     </td><td>10.09771400     </td><td>0.28391224      </td><td>6.539391        </td><td>10.302398       </td><td>19              </td><td>19              </td><td>rna             </td></tr>\n",
       "\t<tr><th scope=row>2Y_scRNAseq_rep1_AAGCATCGTAGTATAG-1</th><td>2Y              </td><td>21927           </td><td>2823            </td><td>1               </td><td>2Y_scRNAseq_rep1</td><td>anno_beta       </td><td>anno1_beta_J    </td><td>anno2_beta1     </td><td> 9.47727500     </td><td>2.10515620      </td><td>4.929995        </td><td> 9.995474       </td><td>19              </td><td>19              </td><td>rna             </td></tr>\n",
       "</tbody>\n",
       "</table>\n"
      ],
      "text/latex": [
       "\\begin{tabular}{r|lllllllllllllll}\n",
       "  & orig.ident & nCount\\_RNA & nFeature\\_RNA & leiden & donor & anno & anno1 & anno2 & UMAP1 & UMAP2 & percent.mt & log\\_count & RNA\\_snn\\_res.0.5 & seurat\\_clusters & tech\\\\\n",
       "\\hline\n",
       "\t2Y\\_scRNAseq\\_rep1\\_AAAGGGCTCCGTAGGC-1 & 2Y                   & 16523                & 3256                 & 0                    & 2Y\\_scRNAseq\\_rep1 & anno\\_gamma         & anno1\\_gamma\\_J    & anno2\\_alpha        &  0.03960709          & 0.03791767           & 4.472553             &  9.712509            & 19                   & 19                   & rna                 \\\\\n",
       "\t2Y\\_scRNAseq\\_rep1\\_AAAGTCCTCATTACGG-1 & 2Y                   & 29804                & 3695                 & 1                    & 2Y\\_scRNAseq\\_rep1 & anno\\_beta          & anno1\\_beta\\_J     & anno2\\_beta1        & 10.09771400          & 0.28391224           & 6.539391             & 10.302398            & 19                   & 19                   & rna                 \\\\\n",
       "\t2Y\\_scRNAseq\\_rep1\\_AAGCATCGTAGTATAG-1 & 2Y                   & 21927                & 2823                 & 1                    & 2Y\\_scRNAseq\\_rep1 & anno\\_beta          & anno1\\_beta\\_J     & anno2\\_beta1        &  9.47727500          & 2.10515620           & 4.929995             &  9.995474            & 19                   & 19                   & rna                 \\\\\n",
       "\\end{tabular}\n"
      ],
      "text/markdown": [
       "\n",
       "| <!--/--> | orig.ident | nCount_RNA | nFeature_RNA | leiden | donor | anno | anno1 | anno2 | UMAP1 | UMAP2 | percent.mt | log_count | RNA_snn_res.0.5 | seurat_clusters | tech | \n",
       "|---|---|---|\n",
       "| 2Y_scRNAseq_rep1_AAAGGGCTCCGTAGGC-1 | 2Y               | 16523            | 3256             | 0                | 2Y_scRNAseq_rep1 | anno_gamma       | anno1_gamma_J    | anno2_alpha      |  0.03960709      | 0.03791767       | 4.472553         |  9.712509        | 19               | 19               | rna              | \n",
       "| 2Y_scRNAseq_rep1_AAAGTCCTCATTACGG-1 | 2Y               | 29804            | 3695             | 1                | 2Y_scRNAseq_rep1 | anno_beta        | anno1_beta_J     | anno2_beta1      | 10.09771400      | 0.28391224       | 6.539391         | 10.302398        | 19               | 19               | rna              | \n",
       "| 2Y_scRNAseq_rep1_AAGCATCGTAGTATAG-1 | 2Y               | 21927            | 2823             | 1                | 2Y_scRNAseq_rep1 | anno_beta        | anno1_beta_J     | anno2_beta1      |  9.47727500      | 2.10515620       | 4.929995         |  9.995474        | 19               | 19               | rna              | \n",
       "\n",
       "\n"
      ],
      "text/plain": [
       "                                    orig.ident nCount_RNA nFeature_RNA leiden\n",
       "2Y_scRNAseq_rep1_AAAGGGCTCCGTAGGC-1 2Y         16523      3256         0     \n",
       "2Y_scRNAseq_rep1_AAAGTCCTCATTACGG-1 2Y         29804      3695         1     \n",
       "2Y_scRNAseq_rep1_AAGCATCGTAGTATAG-1 2Y         21927      2823         1     \n",
       "                                    donor            anno       anno1        \n",
       "2Y_scRNAseq_rep1_AAAGGGCTCCGTAGGC-1 2Y_scRNAseq_rep1 anno_gamma anno1_gamma_J\n",
       "2Y_scRNAseq_rep1_AAAGTCCTCATTACGG-1 2Y_scRNAseq_rep1 anno_beta  anno1_beta_J \n",
       "2Y_scRNAseq_rep1_AAGCATCGTAGTATAG-1 2Y_scRNAseq_rep1 anno_beta  anno1_beta_J \n",
       "                                    anno2       UMAP1       UMAP2     \n",
       "2Y_scRNAseq_rep1_AAAGGGCTCCGTAGGC-1 anno2_alpha  0.03960709 0.03791767\n",
       "2Y_scRNAseq_rep1_AAAGTCCTCATTACGG-1 anno2_beta1 10.09771400 0.28391224\n",
       "2Y_scRNAseq_rep1_AAGCATCGTAGTATAG-1 anno2_beta1  9.47727500 2.10515620\n",
       "                                    percent.mt log_count RNA_snn_res.0.5\n",
       "2Y_scRNAseq_rep1_AAAGGGCTCCGTAGGC-1 4.472553    9.712509 19             \n",
       "2Y_scRNAseq_rep1_AAAGTCCTCATTACGG-1 6.539391   10.302398 19             \n",
       "2Y_scRNAseq_rep1_AAGCATCGTAGTATAG-1 4.929995    9.995474 19             \n",
       "                                    seurat_clusters tech\n",
       "2Y_scRNAseq_rep1_AAAGGGCTCCGTAGGC-1 19              rna \n",
       "2Y_scRNAseq_rep1_AAAGTCCTCATTACGG-1 19              rna \n",
       "2Y_scRNAseq_rep1_AAGCATCGTAGTATAG-1 19              rna "
      ]
     },
     "metadata": {},
     "output_type": "display_data"
    },
    {
     "data": {
      "text/html": [
       "<table>\n",
       "<thead><tr><th></th><th scope=col>orig.ident</th><th scope=col>nCount_ATAC</th><th scope=col>nFeature_ATAC</th><th scope=col>nCount_ACTIVITY</th><th scope=col>nFeature_ACTIVITY</th><th scope=col>UMAP1</th><th scope=col>UMAP2</th><th scope=col>leiden</th><th scope=col>donor</th><th scope=col>anno</th><th scope=col>anno1</th><th scope=col>anno2</th><th scope=col>tech</th></tr></thead>\n",
       "<tbody>\n",
       "\t<tr><th scope=row>JYH792_AAACGAAAGGGTCTGA</th><td>JYH792       </td><td>2795         </td><td>2795         </td><td>2343         </td><td>2044         </td><td>10.9572430   </td><td>13.211759    </td><td>1            </td><td>JYH792       </td><td>biobank_beta </td><td>PA_beta      </td><td>beta1        </td><td>atac         </td></tr>\n",
       "\t<tr><th scope=row>JYH792_AAACGAAAGTAGACCG</th><td>JYH792       </td><td>1505         </td><td>1505         </td><td>1245         </td><td>1140         </td><td>-0.6241122   </td><td> 7.731968    </td><td>0            </td><td>JYH792       </td><td>biobank_alpha</td><td>PA_alpha     </td><td>alpha        </td><td>atac         </td></tr>\n",
       "\t<tr><th scope=row>JYH792_AAACGAACAAATAGTG</th><td>JYH792       </td><td>1157         </td><td>1157         </td><td> 972         </td><td> 919         </td><td>-1.7004145   </td><td> 7.706151    </td><td>0            </td><td>JYH792       </td><td>biobank_alpha</td><td>PA_alpha     </td><td>alpha        </td><td>atac         </td></tr>\n",
       "</tbody>\n",
       "</table>\n"
      ],
      "text/latex": [
       "\\begin{tabular}{r|lllllllllllll}\n",
       "  & orig.ident & nCount\\_ATAC & nFeature\\_ATAC & nCount\\_ACTIVITY & nFeature\\_ACTIVITY & UMAP1 & UMAP2 & leiden & donor & anno & anno1 & anno2 & tech\\\\\n",
       "\\hline\n",
       "\tJYH792\\_AAACGAAAGGGTCTGA & JYH792          & 2795            & 2795            & 2343            & 2044            & 10.9572430      & 13.211759       & 1               & JYH792          & biobank\\_beta  & PA\\_beta       & beta1           & atac           \\\\\n",
       "\tJYH792\\_AAACGAAAGTAGACCG & JYH792          & 1505            & 1505            & 1245            & 1140            & -0.6241122      &  7.731968       & 0               & JYH792          & biobank\\_alpha & PA\\_alpha      & alpha           & atac           \\\\\n",
       "\tJYH792\\_AAACGAACAAATAGTG & JYH792          & 1157            & 1157            &  972            &  919            & -1.7004145      &  7.706151       & 0               & JYH792          & biobank\\_alpha & PA\\_alpha      & alpha           & atac           \\\\\n",
       "\\end{tabular}\n"
      ],
      "text/markdown": [
       "\n",
       "| <!--/--> | orig.ident | nCount_ATAC | nFeature_ATAC | nCount_ACTIVITY | nFeature_ACTIVITY | UMAP1 | UMAP2 | leiden | donor | anno | anno1 | anno2 | tech | \n",
       "|---|---|---|\n",
       "| JYH792_AAACGAAAGGGTCTGA | JYH792        | 2795          | 2795          | 2343          | 2044          | 10.9572430    | 13.211759     | 1             | JYH792        | biobank_beta  | PA_beta       | beta1         | atac          | \n",
       "| JYH792_AAACGAAAGTAGACCG | JYH792        | 1505          | 1505          | 1245          | 1140          | -0.6241122    |  7.731968     | 0             | JYH792        | biobank_alpha | PA_alpha      | alpha         | atac          | \n",
       "| JYH792_AAACGAACAAATAGTG | JYH792        | 1157          | 1157          |  972          |  919          | -1.7004145    |  7.706151     | 0             | JYH792        | biobank_alpha | PA_alpha      | alpha         | atac          | \n",
       "\n",
       "\n"
      ],
      "text/plain": [
       "                        orig.ident nCount_ATAC nFeature_ATAC nCount_ACTIVITY\n",
       "JYH792_AAACGAAAGGGTCTGA JYH792     2795        2795          2343           \n",
       "JYH792_AAACGAAAGTAGACCG JYH792     1505        1505          1245           \n",
       "JYH792_AAACGAACAAATAGTG JYH792     1157        1157           972           \n",
       "                        nFeature_ACTIVITY UMAP1      UMAP2     leiden donor \n",
       "JYH792_AAACGAAAGGGTCTGA 2044              10.9572430 13.211759 1      JYH792\n",
       "JYH792_AAACGAAAGTAGACCG 1140              -0.6241122  7.731968 0      JYH792\n",
       "JYH792_AAACGAACAAATAGTG  919              -1.7004145  7.706151 0      JYH792\n",
       "                        anno          anno1    anno2 tech\n",
       "JYH792_AAACGAAAGGGTCTGA biobank_beta  PA_beta  beta1 atac\n",
       "JYH792_AAACGAAAGTAGACCG biobank_alpha PA_alpha alpha atac\n",
       "JYH792_AAACGAACAAATAGTG biobank_alpha PA_alpha alpha atac"
      ]
     },
     "metadata": {},
     "output_type": "display_data"
    }
   ],
   "source": [
    "pbmc.rna@meta.data$anno=paste0('anno_',pbmc.rna@meta.data$anno)\n",
    "pbmc.rna@meta.data$anno1=paste0('anno1_',pbmc.rna@meta.data$anno1)\n",
    "pbmc.rna@meta.data$anno2=paste0('anno2_',pbmc.rna@meta.data$anno2)\n",
    "pbmc.rna@meta.data[1:3,]\n",
    "pbmc.atac@meta.data[1:3,]"
   ]
  },
  {
   "cell_type": "code",
   "execution_count": 19,
   "metadata": {},
   "outputs": [
    {
     "name": "stderr",
     "output_type": "stream",
     "text": [
      "Warning message in RunCCA.Seurat(object1 = reference, object2 = query, features = features, :\n",
      "“Running CCA on different assays”Running CCA\n",
      "Merging objects\n",
      "Finding neighborhoods\n",
      "Finding anchors\n",
      "\tFound 45648 anchors\n",
      "Filtering anchors\n",
      "\tRetained 3335 anchors\n",
      "Extracting within-dataset neighbors\n",
      "Finding integration vectors\n",
      "Finding integration vector weights\n",
      "Predicting cell labels\n"
     ]
    }
   ],
   "source": [
    "transfer.anchors <- FindTransferAnchors(reference = pbmc.rna, query = pbmc.atac, features = VariableFeatures(object = pbmc.rna), \n",
    "    reference.assay = \"RNA\", query.assay = \"ACTIVITY\", reduction = \"cca\")\n",
    "\n",
    "leiden_ID=as.character(pbmc.rna@meta.data$leiden)\n",
    "leiden.predictions <- TransferData(anchorset = transfer.anchors, refdata = leiden_ID, weight.reduction = pbmc.atac[[\"lsi\"]])\n",
    "pbmc.atac <- AddMetaData(pbmc.atac, metadata = leiden.predictions)\n",
    "\n",
    "pbmc.atac@meta.data$predicted_leiden=pbmc.atac@meta.data$predicted.id\n"
   ]
  },
  {
   "cell_type": "code",
   "execution_count": 20,
   "metadata": {},
   "outputs": [
    {
     "name": "stderr",
     "output_type": "stream",
     "text": [
      "Finding integration vectors\n",
      "Finding integration vector weights\n",
      "Predicting cell labels\n"
     ]
    }
   ],
   "source": [
    "anno_ID=as.character(pbmc.rna@meta.data$anno)\n",
    "anno.predictions <- TransferData(anchorset = transfer.anchors, refdata = anno_ID, weight.reduction = pbmc.atac[[\"lsi\"]])\n",
    "pbmc.atac <- AddMetaData(pbmc.atac, metadata = anno.predictions)\n",
    "\n",
    "pbmc.atac@meta.data$predicted_anno=pbmc.atac@meta.data$predicted.id"
   ]
  },
  {
   "cell_type": "code",
   "execution_count": 21,
   "metadata": {},
   "outputs": [
    {
     "name": "stderr",
     "output_type": "stream",
     "text": [
      "Finding integration vectors\n",
      "Finding integration vector weights\n",
      "Predicting cell labels\n"
     ]
    }
   ],
   "source": [
    "anno1_ID=as.character(pbmc.rna@meta.data$anno1)\n",
    "anno1.predictions <- TransferData(anchorset = transfer.anchors, refdata = anno1_ID, weight.reduction = pbmc.atac[[\"lsi\"]])\n",
    "pbmc.atac <- AddMetaData(pbmc.atac, metadata = anno1.predictions)\n",
    "\n",
    "pbmc.atac@meta.data$predicted_anno1=pbmc.atac@meta.data$predicted.id"
   ]
  },
  {
   "cell_type": "code",
   "execution_count": 22,
   "metadata": {},
   "outputs": [
    {
     "name": "stderr",
     "output_type": "stream",
     "text": [
      "Finding integration vectors\n",
      "Finding integration vector weights\n",
      "Predicting cell labels\n"
     ]
    }
   ],
   "source": [
    "anno2_ID=as.character(pbmc.rna@meta.data$anno2)\n",
    "anno2.predictions <- TransferData(anchorset = transfer.anchors, refdata = anno2_ID, weight.reduction = pbmc.atac[[\"lsi\"]])\n",
    "pbmc.atac <- AddMetaData(pbmc.atac, metadata = anno2.predictions)\n",
    "\n",
    "pbmc.atac@meta.data$predicted_anno2=pbmc.atac@meta.data$predicted.id\n"
   ]
  },
  {
   "cell_type": "code",
   "execution_count": 23,
   "metadata": {},
   "outputs": [
    {
     "name": "stderr",
     "output_type": "stream",
     "text": [
      "Finding integration vectors\n",
      "Finding integration vector weights\n",
      "Transfering 32738 features onto reference data\n"
     ]
    }
   ],
   "source": [
    "refdata <- GetAssayData(pbmc.rna, assay = \"RNA\", slot = \"data\")\n",
    "imputation <- TransferData(anchorset = transfer.anchors, refdata = refdata, weight.reduction = pbmc.atac[[\"lsi\"]],\n",
    "    dims = 2:30)\n",
    "pbmc.atac[[\"RNA\"]] <- imputation"
   ]
  },
  {
   "cell_type": "code",
   "execution_count": 24,
   "metadata": {},
   "outputs": [],
   "source": [
    "pbmc.atac@reductions$umap@cell.embeddings[,1] <- pbmc.atac$UMAP1\n",
    "pbmc.atac@reductions$umap@cell.embeddings[,2] <- pbmc.atac$UMAP2\n",
    "#saveRDS(pbmc.atac, file = \"/oasis/tscc/scratch/gaw006/share/SCislet/endocrine_ATAC_Adult_integration.rds\")\n"
   ]
  },
  {
   "cell_type": "code",
   "execution_count": null,
   "metadata": {},
   "outputs": [],
   "source": []
  }
 ],
 "metadata": {
  "kernelspec": {
   "display_name": "R [conda env:root] *",
   "language": "R",
   "name": "conda-root-r"
  },
  "language_info": {
   "codemirror_mode": "r",
   "file_extension": ".r",
   "mimetype": "text/x-r-source",
   "name": "R",
   "pygments_lexer": "r",
   "version": "3.5.1"
  }
 },
 "nbformat": 4,
 "nbformat_minor": 2
}
